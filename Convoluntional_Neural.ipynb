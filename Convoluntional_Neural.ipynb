{
  "nbformat": 4,
  "nbformat_minor": 0,
  "metadata": {
    "colab": {
      "name": "Convoluntional Neural.ipynb",
      "provenance": [],
      "collapsed_sections": []
    },
    "kernelspec": {
      "name": "python3",
      "display_name": "Python 3"
    }
  },
  "cells": [
    {
      "cell_type": "code",
      "metadata": {
        "id": "_gkGUyWw5oCC",
        "colab_type": "code",
        "colab": {}
      },
      "source": [
        "from keras.datasets import mnist\n",
        "from keras import models\n",
        "from keras import layers\n",
        "from keras.utils import to_categorical\n",
        "import matplotlib.pyplot as plt\n"
      ],
      "execution_count": 0,
      "outputs": []
    },
    {
      "cell_type": "code",
      "metadata": {
        "id": "AodI36hr5ue0",
        "colab_type": "code",
        "colab": {}
      },
      "source": [
        "(train_image, train_labels),(test_image, test_labels) =mnist.load_data()"
      ],
      "execution_count": 0,
      "outputs": []
    },
    {
      "cell_type": "code",
      "metadata": {
        "id": "MwAOyft657xI",
        "colab_type": "code",
        "colab": {
          "base_uri": "https://localhost:8080/",
          "height": 35
        },
        "outputId": "d4570b84-4f69-490e-d1b1-d01d5503f14d"
      },
      "source": [
        "train_image.shape"
      ],
      "execution_count": 3,
      "outputs": [
        {
          "output_type": "execute_result",
          "data": {
            "text/plain": [
              "(60000, 28, 28)"
            ]
          },
          "metadata": {
            "tags": []
          },
          "execution_count": 3
        }
      ]
    },
    {
      "cell_type": "code",
      "metadata": {
        "id": "myVIIUJ05_CO",
        "colab_type": "code",
        "colab": {
          "base_uri": "https://localhost:8080/",
          "height": 35
        },
        "outputId": "b45cfd01-f0bc-47b9-8813-c1b4296d45c5"
      },
      "source": [
        "max([max(sequence) for sequence in train_image[1]])"
      ],
      "execution_count": 4,
      "outputs": [
        {
          "output_type": "execute_result",
          "data": {
            "text/plain": [
              "255"
            ]
          },
          "metadata": {
            "tags": []
          },
          "execution_count": 4
        }
      ]
    },
    {
      "cell_type": "code",
      "metadata": {
        "id": "agNF-lGr6HDd",
        "colab_type": "code",
        "colab": {
          "base_uri": "https://localhost:8080/",
          "height": 35
        },
        "outputId": "ec45c0fe-cf60-4973-f0c5-43737e9a1dd2"
      },
      "source": [
        "max([max(sequence) for sequence in test_image[0]])"
      ],
      "execution_count": 5,
      "outputs": [
        {
          "output_type": "execute_result",
          "data": {
            "text/plain": [
              "255"
            ]
          },
          "metadata": {
            "tags": []
          },
          "execution_count": 5
        }
      ]
    },
    {
      "cell_type": "code",
      "metadata": {
        "id": "9lTACN4u6e-j",
        "colab_type": "code",
        "colab": {}
      },
      "source": [
        "model =models.Sequential()\n",
        "model.add(layers.Conv2D(32, (3,3), activation='relu', input_shape=(28,28,1)))\n",
        "model.add(layers.MaxPooling2D((2,2)))\n",
        "model.add(layers.Conv2D(64, (3,3), activation='relu'))\n",
        "model.add(layers.MaxPooling2D((2,2)))\n",
        "model.add(layers.Conv2D(64, (3,3), activation='relu'))\n"
      ],
      "execution_count": 0,
      "outputs": []
    },
    {
      "cell_type": "markdown",
      "metadata": {
        "id": "SFotnZ_y96Fr",
        "colab_type": "text"
      },
      "source": [
        "# Architecture of the convolutional network"
      ]
    },
    {
      "cell_type": "code",
      "metadata": {
        "id": "f-vhPAPc7jL6",
        "colab_type": "code",
        "colab": {
          "base_uri": "https://localhost:8080/",
          "height": 337
        },
        "outputId": "e8c8bc4a-6c12-4cb6-bc47-80b53e906f8e"
      },
      "source": [
        "model.summary()"
      ],
      "execution_count": 7,
      "outputs": [
        {
          "output_type": "stream",
          "text": [
            "Model: \"sequential_1\"\n",
            "_________________________________________________________________\n",
            "Layer (type)                 Output Shape              Param #   \n",
            "=================================================================\n",
            "conv2d_1 (Conv2D)            (None, 26, 26, 32)        320       \n",
            "_________________________________________________________________\n",
            "max_pooling2d_1 (MaxPooling2 (None, 13, 13, 32)        0         \n",
            "_________________________________________________________________\n",
            "conv2d_2 (Conv2D)            (None, 11, 11, 64)        18496     \n",
            "_________________________________________________________________\n",
            "max_pooling2d_2 (MaxPooling2 (None, 5, 5, 64)          0         \n",
            "_________________________________________________________________\n",
            "conv2d_3 (Conv2D)            (None, 3, 3, 64)          36928     \n",
            "=================================================================\n",
            "Total params: 55,744\n",
            "Trainable params: 55,744\n",
            "Non-trainable params: 0\n",
            "_________________________________________________________________\n"
          ],
          "name": "stdout"
        }
      ]
    },
    {
      "cell_type": "markdown",
      "metadata": {
        "id": "sQnORYsi94it",
        "colab_type": "text"
      },
      "source": [
        ""
      ]
    },
    {
      "cell_type": "markdown",
      "metadata": {
        "id": "JPi4IYCZ-_w_",
        "colab_type": "text"
      },
      "source": [
        "# Adding classifiers"
      ]
    },
    {
      "cell_type": "code",
      "metadata": {
        "id": "DKD8P3Q19kf-",
        "colab_type": "code",
        "colab": {}
      },
      "source": [
        "model.add(layers.Flatten())\n",
        "model.add(layers.Dense(64, activation='relu'))\n",
        "model.add(layers.Dense(10, activation='softmax'))\n"
      ],
      "execution_count": 0,
      "outputs": []
    },
    {
      "cell_type": "code",
      "metadata": {
        "id": "m7IuMSUA_NwL",
        "colab_type": "code",
        "colab": {
          "base_uri": "https://localhost:8080/",
          "height": 444
        },
        "outputId": "c8c7370e-5887-4f95-955d-ee11d9189ef3"
      },
      "source": [
        "model.summary()"
      ],
      "execution_count": 9,
      "outputs": [
        {
          "output_type": "stream",
          "text": [
            "Model: \"sequential_1\"\n",
            "_________________________________________________________________\n",
            "Layer (type)                 Output Shape              Param #   \n",
            "=================================================================\n",
            "conv2d_1 (Conv2D)            (None, 26, 26, 32)        320       \n",
            "_________________________________________________________________\n",
            "max_pooling2d_1 (MaxPooling2 (None, 13, 13, 32)        0         \n",
            "_________________________________________________________________\n",
            "conv2d_2 (Conv2D)            (None, 11, 11, 64)        18496     \n",
            "_________________________________________________________________\n",
            "max_pooling2d_2 (MaxPooling2 (None, 5, 5, 64)          0         \n",
            "_________________________________________________________________\n",
            "conv2d_3 (Conv2D)            (None, 3, 3, 64)          36928     \n",
            "_________________________________________________________________\n",
            "flatten_1 (Flatten)          (None, 576)               0         \n",
            "_________________________________________________________________\n",
            "dense_1 (Dense)              (None, 64)                36928     \n",
            "_________________________________________________________________\n",
            "dense_2 (Dense)              (None, 10)                650       \n",
            "=================================================================\n",
            "Total params: 93,322\n",
            "Trainable params: 93,322\n",
            "Non-trainable params: 0\n",
            "_________________________________________________________________\n"
          ],
          "name": "stdout"
        }
      ]
    },
    {
      "cell_type": "code",
      "metadata": {
        "id": "E5jPPgcZ_6W_",
        "colab_type": "code",
        "colab": {}
      },
      "source": [
        "train_image =train_image.reshape((60000, 28,28,1))\n",
        "train_image =train_image.astype('float32') /255\n",
        "test_image =test_image.reshape((10000, 28,28, 1))\n",
        "test_image =test_image.astype('float') /25"
      ],
      "execution_count": 0,
      "outputs": []
    },
    {
      "cell_type": "code",
      "metadata": {
        "id": "FhUKSedeA7dJ",
        "colab_type": "code",
        "colab": {}
      },
      "source": [
        "train_labels =to_categorical(train_labels)\n",
        "test_labels =to_categorical(test_labels)"
      ],
      "execution_count": 0,
      "outputs": []
    },
    {
      "cell_type": "code",
      "metadata": {
        "id": "Dsht3eI5B7wt",
        "colab_type": "code",
        "colab": {}
      },
      "source": [
        "model.compile(optimizer ='rmsprop', loss='categorical_crossentropy', metrics=['accuracy'])\n"
      ],
      "execution_count": 0,
      "outputs": []
    },
    {
      "cell_type": "code",
      "metadata": {
        "id": "B_9e38C_CXd1",
        "colab_type": "code",
        "colab": {
          "base_uri": "https://localhost:8080/",
          "height": 1000
        },
        "outputId": "461962e6-7d2d-467b-fe8f-dde1a964e5c5"
      },
      "source": [
        "model.fit(train_image, train_labels, epochs=50, batch_size=64)"
      ],
      "execution_count": 13,
      "outputs": [
        {
          "output_type": "stream",
          "text": [
            "Epoch 1/50\n",
            "60000/60000 [==============================] - 44s 736us/step - loss: 0.1726 - accuracy: 0.9462\n",
            "Epoch 2/50\n",
            "60000/60000 [==============================] - 43s 721us/step - loss: 0.0467 - accuracy: 0.9856\n",
            "Epoch 3/50\n",
            "60000/60000 [==============================] - 42s 708us/step - loss: 0.0318 - accuracy: 0.9899\n",
            "Epoch 4/50\n",
            "60000/60000 [==============================] - 47s 781us/step - loss: 0.0238 - accuracy: 0.9928\n",
            "Epoch 5/50\n",
            "60000/60000 [==============================] - 42s 699us/step - loss: 0.0180 - accuracy: 0.9944\n",
            "Epoch 6/50\n",
            "60000/60000 [==============================] - 42s 707us/step - loss: 0.0157 - accuracy: 0.9953\n",
            "Epoch 7/50\n",
            "60000/60000 [==============================] - 42s 692us/step - loss: 0.0128 - accuracy: 0.9962\n",
            "Epoch 8/50\n",
            "60000/60000 [==============================] - 42s 693us/step - loss: 0.0115 - accuracy: 0.9964\n",
            "Epoch 9/50\n",
            "60000/60000 [==============================] - 41s 686us/step - loss: 0.0096 - accuracy: 0.9973\n",
            "Epoch 10/50\n",
            "60000/60000 [==============================] - 42s 696us/step - loss: 0.0084 - accuracy: 0.9977\n",
            "Epoch 11/50\n",
            "60000/60000 [==============================] - 42s 697us/step - loss: 0.0073 - accuracy: 0.9979\n",
            "Epoch 12/50\n",
            "60000/60000 [==============================] - 41s 687us/step - loss: 0.0054 - accuracy: 0.9982\n",
            "Epoch 13/50\n",
            "60000/60000 [==============================] - 42s 700us/step - loss: 0.0056 - accuracy: 0.9982\n",
            "Epoch 14/50\n",
            "60000/60000 [==============================] - 42s 695us/step - loss: 0.0056 - accuracy: 0.9982\n",
            "Epoch 15/50\n",
            "60000/60000 [==============================] - 42s 696us/step - loss: 0.0046 - accuracy: 0.9988\n",
            "Epoch 16/50\n",
            "60000/60000 [==============================] - 41s 688us/step - loss: 0.0046 - accuracy: 0.9986\n",
            "Epoch 17/50\n",
            "60000/60000 [==============================] - 41s 681us/step - loss: 0.0043 - accuracy: 0.9988\n",
            "Epoch 18/50\n",
            "60000/60000 [==============================] - 46s 772us/step - loss: 0.0034 - accuracy: 0.9990\n",
            "Epoch 19/50\n",
            "60000/60000 [==============================] - 40s 667us/step - loss: 0.0034 - accuracy: 0.9991\n",
            "Epoch 20/50\n",
            "60000/60000 [==============================] - 41s 677us/step - loss: 0.0039 - accuracy: 0.9989\n",
            "Epoch 21/50\n",
            "60000/60000 [==============================] - 40s 670us/step - loss: 0.0025 - accuracy: 0.9993\n",
            "Epoch 22/50\n",
            "60000/60000 [==============================] - 40s 662us/step - loss: 0.0031 - accuracy: 0.9992\n",
            "Epoch 23/50\n",
            "60000/60000 [==============================] - 40s 666us/step - loss: 0.0024 - accuracy: 0.9991\n",
            "Epoch 24/50\n",
            "60000/60000 [==============================] - 40s 661us/step - loss: 0.0031 - accuracy: 0.9992\n",
            "Epoch 25/50\n",
            "60000/60000 [==============================] - 39s 655us/step - loss: 0.0029 - accuracy: 0.9994\n",
            "Epoch 26/50\n",
            "60000/60000 [==============================] - 40s 663us/step - loss: 0.0034 - accuracy: 0.9993\n",
            "Epoch 27/50\n",
            "60000/60000 [==============================] - 39s 654us/step - loss: 0.0029 - accuracy: 0.9994\n",
            "Epoch 28/50\n",
            "60000/60000 [==============================] - 40s 665us/step - loss: 0.0033 - accuracy: 0.9993\n",
            "Epoch 29/50\n",
            "60000/60000 [==============================] - 40s 661us/step - loss: 0.0031 - accuracy: 0.9993\n",
            "Epoch 30/50\n",
            "60000/60000 [==============================] - 39s 656us/step - loss: 0.0017 - accuracy: 0.9994\n",
            "Epoch 31/50\n",
            "60000/60000 [==============================] - 40s 659us/step - loss: 0.0022 - accuracy: 0.9995\n",
            "Epoch 32/50\n",
            "60000/60000 [==============================] - 40s 659us/step - loss: 0.0029 - accuracy: 0.9995\n",
            "Epoch 33/50\n",
            "60000/60000 [==============================] - 39s 644us/step - loss: 0.0030 - accuracy: 0.9994\n",
            "Epoch 34/50\n",
            "60000/60000 [==============================] - 39s 650us/step - loss: 0.0017 - accuracy: 0.9995\n",
            "Epoch 35/50\n",
            "60000/60000 [==============================] - 39s 655us/step - loss: 0.0031 - accuracy: 0.9994\n",
            "Epoch 36/50\n",
            "60000/60000 [==============================] - 38s 640us/step - loss: 0.0029 - accuracy: 0.9996\n",
            "Epoch 37/50\n",
            "60000/60000 [==============================] - 38s 637us/step - loss: 0.0017 - accuracy: 0.9996\n",
            "Epoch 38/50\n",
            "60000/60000 [==============================] - 39s 643us/step - loss: 0.0017 - accuracy: 0.9996\n",
            "Epoch 39/50\n",
            "60000/60000 [==============================] - 39s 644us/step - loss: 0.0021 - accuracy: 0.9996\n",
            "Epoch 40/50\n",
            "60000/60000 [==============================] - 39s 646us/step - loss: 0.0013 - accuracy: 0.9996\n",
            "Epoch 41/50\n",
            "60000/60000 [==============================] - 40s 662us/step - loss: 0.0015 - accuracy: 0.9996\n",
            "Epoch 42/50\n",
            "60000/60000 [==============================] - 39s 649us/step - loss: 0.0021 - accuracy: 0.9996\n",
            "Epoch 43/50\n",
            "60000/60000 [==============================] - 39s 652us/step - loss: 0.0028 - accuracy: 0.9995\n",
            "Epoch 44/50\n",
            "60000/60000 [==============================] - 39s 658us/step - loss: 0.0016 - accuracy: 0.9997\n",
            "Epoch 45/50\n",
            "60000/60000 [==============================] - 39s 654us/step - loss: 0.0030 - accuracy: 0.9995\n",
            "Epoch 46/50\n",
            "60000/60000 [==============================] - 41s 678us/step - loss: 0.0020 - accuracy: 0.9996\n",
            "Epoch 47/50\n",
            "60000/60000 [==============================] - 41s 682us/step - loss: 0.0012 - accuracy: 0.9997\n",
            "Epoch 48/50\n",
            "60000/60000 [==============================] - 39s 655us/step - loss: 0.0017 - accuracy: 0.9997\n",
            "Epoch 49/50\n",
            "60000/60000 [==============================] - 40s 666us/step - loss: 0.0011 - accuracy: 0.9997\n",
            "Epoch 50/50\n",
            "60000/60000 [==============================] - 40s 671us/step - loss: 0.0021 - accuracy: 0.9996\n"
          ],
          "name": "stdout"
        },
        {
          "output_type": "execute_result",
          "data": {
            "text/plain": [
              "<keras.callbacks.callbacks.History at 0x7fe637563b70>"
            ]
          },
          "metadata": {
            "tags": []
          },
          "execution_count": 13
        }
      ]
    },
    {
      "cell_type": "code",
      "metadata": {
        "id": "vRwIhLx4CjFH",
        "colab_type": "code",
        "colab": {
          "base_uri": "https://localhost:8080/",
          "height": 35
        },
        "outputId": "c77a271c-d4b4-4f03-f091-7d59048bbac0"
      },
      "source": [
        "test_loss, test_accu =model.evaluate(test_image, test_labels)"
      ],
      "execution_count": 14,
      "outputs": [
        {
          "output_type": "stream",
          "text": [
            "10000/10000 [==============================] - 2s 242us/step\n"
          ],
          "name": "stdout"
        }
      ]
    },
    {
      "cell_type": "code",
      "metadata": {
        "id": "oUwqBPN7C0x-",
        "colab_type": "code",
        "colab": {
          "base_uri": "https://localhost:8080/",
          "height": 35
        },
        "outputId": "dfeaa5ea-574d-4374-edaf-621b8b1dbf78"
      },
      "source": [
        "test_loss"
      ],
      "execution_count": 15,
      "outputs": [
        {
          "output_type": "execute_result",
          "data": {
            "text/plain": [
              "4.738394354276708"
            ]
          },
          "metadata": {
            "tags": []
          },
          "execution_count": 15
        }
      ]
    },
    {
      "cell_type": "markdown",
      "metadata": {
        "id": "ubVMZVT_POx3",
        "colab_type": "text"
      },
      "source": [
        "# we had an accuracy of the test as 98%"
      ]
    },
    {
      "cell_type": "code",
      "metadata": {
        "id": "TTJAPu4BDxZJ",
        "colab_type": "code",
        "colab": {
          "base_uri": "https://localhost:8080/",
          "height": 35
        },
        "outputId": "6c83eaa0-ecb6-4a37-8486-01bc2c261a99"
      },
      "source": [
        "test_accu"
      ],
      "execution_count": 40,
      "outputs": [
        {
          "output_type": "execute_result",
          "data": {
            "text/plain": [
              "0.9807999730110168"
            ]
          },
          "metadata": {
            "tags": []
          },
          "execution_count": 40
        }
      ]
    },
    {
      "cell_type": "code",
      "metadata": {
        "id": "v9FMnBkDD0uj",
        "colab_type": "code",
        "colab": {
          "base_uri": "https://localhost:8080/",
          "height": 297
        },
        "outputId": "991965ef-ee74-4004-c6a3-7e183de50cfe"
      },
      "source": [
        "plt.plot(test_loss, 'bo', label=('Test Loss'))\n",
        "plt.plot(test_accu, '+', label=('Test Accuracy'))\n",
        "plt.xlabel('Test Accuracy')\n",
        "plt.ylabel('Test Accuracy')\n",
        "plt.legend()"
      ],
      "execution_count": 24,
      "outputs": [
        {
          "output_type": "execute_result",
          "data": {
            "text/plain": [
              "<matplotlib.legend.Legend at 0x7fe63049b5c0>"
            ]
          },
          "metadata": {
            "tags": []
          },
          "execution_count": 24
        },
        {
          "output_type": "display_data",
          "data": {
            "image/png": "[encoded data removed]",
            "text/plain": [
              "<Figure size 432x288 with 1 Axes>"
            ]
          },
          "metadata": {
            "tags": [],
            "needs_background": "light"
          }
        }
      ]
    },
    {
      "cell_type": "code",
      "metadata": {
        "id": "ignERKRUNv3V",
        "colab_type": "code",
        "colab": {}
      },
      "source": [
        "model_dict =model.history"
      ],
      "execution_count": 0,
      "outputs": []
    },
    {
      "cell_type": "code",
      "metadata": {
        "id": "gRoXRd_VOQMu",
        "colab_type": "code",
        "colab": {
          "base_uri": "https://localhost:8080/",
          "height": 35
        },
        "outputId": "bb2a84a8-34ee-4c9c-87ea-2136e875b203"
      },
      "source": [
        "model_dict.keys()"
      ],
      "execution_count": 31,
      "outputs": [
        {
          "output_type": "execute_result",
          "data": {
            "text/plain": [
              "dict_keys(['loss', 'accuracy'])"
            ]
          },
          "metadata": {
            "tags": []
          },
          "execution_count": 31
        }
      ]
    },
    {
      "cell_type": "code",
      "metadata": {
        "id": "wgWdjRoqOSKe",
        "colab_type": "code",
        "colab": {}
      },
      "source": [
        "test_loss =model_dict['loss']\n",
        "test_accuracy =model_dict['accuracy']"
      ],
      "execution_count": 0,
      "outputs": []
    },
    {
      "cell_type": "code",
      "metadata": {
        "id": "H1HIg8-6Oovw",
        "colab_type": "code",
        "colab": {
          "base_uri": "https://localhost:8080/",
          "height": 906
        },
        "outputId": "56dcd8ef-2478-4ef8-ec8d-f602c8bcf44b"
      },
      "source": [
        "test_loss"
      ],
      "execution_count": 33,
      "outputs": [
        {
          "output_type": "execute_result",
          "data": {
            "text/plain": [
              "[0.17263404471427202,\n",
              " 0.046675869607242446,\n",
              " 0.03177251768313969,\n",
              " 0.023808126559904,\n",
              " 0.017952867237385362,\n",
              " 0.01570645039778028,\n",
              " 0.01280887202898278,\n",
              " 0.01151392670266032,\n",
              " 0.009575041860797016,\n",
              " 0.008443781366753259,\n",
              " 0.007267868094519205,\n",
              " 0.005385508924660745,\n",
              " 0.005599691186988363,\n",
              " 0.005555386657775595,\n",
              " 0.0045693683731928714,\n",
              " 0.004645696635249097,\n",
              " 0.004291422066231513,\n",
              " 0.0033864299582555654,\n",
              " 0.003430879691242306,\n",
              " 0.003931739058272834,\n",
              " 0.0025352295393935888,\n",
              " 0.003144515927890206,\n",
              " 0.002379949324740125,\n",
              " 0.0030949929146545617,\n",
              " 0.0029445965797417627,\n",
              " 0.003354314288419716,\n",
              " 0.0029460898063479136,\n",
              " 0.0033395526629463952,\n",
              " 0.0030581919345296403,\n",
              " 0.0016920611472242878,\n",
              " 0.00215302374303426,\n",
              " 0.0028680469426507313,\n",
              " 0.003035823623865817,\n",
              " 0.0016813392545309295,\n",
              " 0.0030929119562856464,\n",
              " 0.0028720906533019285,\n",
              " 0.0016787178324857229,\n",
              " 0.00165525998380343,\n",
              " 0.0020933205073497855,\n",
              " 0.001251487322877081,\n",
              " 0.0015088807234375566,\n",
              " 0.0021338495555480123,\n",
              " 0.00278858189851457,\n",
              " 0.0016155634001386407,\n",
              " 0.0030044290737784025,\n",
              " 0.0019618942010166283,\n",
              " 0.0012312520294385035,\n",
              " 0.001690774845341243,\n",
              " 0.001108501243688803,\n",
              " 0.0020660070456356493]"
            ]
          },
          "metadata": {
            "tags": []
          },
          "execution_count": 33
        }
      ]
    },
    {
      "cell_type": "code",
      "metadata": {
        "id": "gxF7Q9n4Orr7",
        "colab_type": "code",
        "colab": {
          "base_uri": "https://localhost:8080/",
          "height": 297
        },
        "outputId": "08fe27d9-5259-4b34-bad3-db117c6a066d"
      },
      "source": [
        "plt.plot(test_loss, 'b', label=('Test Loss'))\n",
        "plt.xlabel('Test Accuracy')\n",
        "plt.ylabel('Test Accuracy')\n",
        "plt.legend()"
      ],
      "execution_count": 36,
      "outputs": [
        {
          "output_type": "execute_result",
          "data": {
            "text/plain": [
              "<matplotlib.legend.Legend at 0x7fe62ff66668>"
            ]
          },
          "metadata": {
            "tags": []
          },
          "execution_count": 36
        },
        {
          "output_type": "display_data",
          "data": {
            "image/png": "[encoded data removed]",
            "text/plain": [
              "<Figure size 432x288 with 1 Axes>"
            ]
          },
          "metadata": {
            "tags": [],
            "needs_background": "light"
          }
        }
      ]
    },
    {
      "cell_type": "code",
      "metadata": {
        "id": "g65U__tJO0Y8",
        "colab_type": "code",
        "colab": {
          "base_uri": "https://localhost:8080/",
          "height": 297
        },
        "outputId": "adc95ef4-7249-4f52-bbb0-4364041169c4"
      },
      "source": [
        "plt.plot(test_accuracy, '+', label=('Test Loss'))\n",
        "plt.xlabel('Test Accuracy')\n",
        "plt.ylabel('Test Accuracy')\n",
        "plt.legend()"
      ],
      "execution_count": 39,
      "outputs": [
        {
          "output_type": "execute_result",
          "data": {
            "text/plain": [
              "<matplotlib.legend.Legend at 0x7fe62fd8cd30>"
            ]
          },
          "metadata": {
            "tags": []
          },
          "execution_count": 39
        },
        {
          "output_type": "display_data",
          "data": {
            "image/png": "[encoded data removed]",
            "text/plain": [
              "<Figure size 432x288 with 1 Axes>"
            ]
          },
          "metadata": {
            "tags": [],
            "needs_background": "light"
          }
        }
      ]
    },
    {
      "cell_type": "code",
      "metadata": {
        "id": "lj2YvTP8PAwz",
        "colab_type": "code",
        "colab": {}
      },
      "source": [
        ""
      ],
      "execution_count": 0,
      "outputs": []
    }
  ]
}