{
 "cells": [
  {
   "cell_type": "code",
   "execution_count": 1,
   "metadata": {
    "scrolled": true
   },
   "outputs": [
    {
     "name": "stderr",
     "output_type": "stream",
     "text": [
      "Using TensorFlow backend.\n"
     ]
    }
   ],
   "source": [
    "from keras.datasets import imdb\n",
    "import numpy as np\n",
    "from keras import optimizers\n",
    "from keras import losses\n",
    "import matplotlib.pyplot as plt"
   ]
  },
  {
   "cell_type": "markdown",
   "metadata": {},
   "source": [
    "##we are using only 10000 most frequent occuring words in the dataset hense num_words =10000"
   ]
  },
  {
   "cell_type": "code",
   "execution_count": 2,
   "metadata": {},
   "outputs": [],
   "source": [
    "(train_data, train_labels),(test_data, test_labels) =imdb.load_data(num_words=10000)"
   ]
  },
  {
   "cell_type": "code",
   "execution_count": 3,
   "metadata": {},
   "outputs": [
    {
     "data": {
      "text/plain": [
       "(25000,)"
      ]
     },
     "execution_count": 3,
     "metadata": {},
     "output_type": "execute_result"
    }
   ],
   "source": [
    "train_data.shape"
   ]
  },
  {
   "cell_type": "code",
   "execution_count": 4,
   "metadata": {},
   "outputs": [
    {
     "data": {
      "text/plain": [
       "(25000,)"
      ]
     },
     "execution_count": 4,
     "metadata": {},
     "output_type": "execute_result"
    }
   ],
   "source": [
    "test_data.shape"
   ]
  },
  {
   "cell_type": "code",
   "execution_count": 5,
   "metadata": {},
   "outputs": [
    {
     "data": {
      "text/plain": [
       "(25000,)"
      ]
     },
     "execution_count": 5,
     "metadata": {},
     "output_type": "execute_result"
    }
   ],
   "source": [
    "train_labels.shape"
   ]
  },
  {
   "cell_type": "code",
   "execution_count": 6,
   "metadata": {},
   "outputs": [
    {
     "data": {
      "text/plain": [
       "1"
      ]
     },
     "execution_count": 6,
     "metadata": {},
     "output_type": "execute_result"
    }
   ],
   "source": [
    "train_labels[0]"
   ]
  },
  {
   "cell_type": "code",
   "execution_count": 7,
   "metadata": {},
   "outputs": [
    {
     "data": {
      "text/plain": [
       "1"
      ]
     },
     "execution_count": 7,
     "metadata": {},
     "output_type": "execute_result"
    }
   ],
   "source": [
    "test_labels[1]"
   ]
  },
  {
   "cell_type": "code",
   "execution_count": 8,
   "metadata": {},
   "outputs": [
    {
     "data": {
      "text/plain": [
       "1"
      ]
     },
     "execution_count": 8,
     "metadata": {},
     "output_type": "execute_result"
    }
   ],
   "source": [
    "train_labels[0]"
   ]
  },
  {
   "cell_type": "code",
   "execution_count": 9,
   "metadata": {},
   "outputs": [
    {
     "name": "stdout",
     "output_type": "stream",
     "text": [
      "[1, 14, 22, 16, 43, 530, 973, 1622, 1385, 65, 458, 4468, 66, 3941, 4, 173, 36, 256, 5, 25, 100, 43, 838, 112, 50, 670, 2, 9, 35, 480, 284, 5, 150, 4, 172, 112, 167, 2, 336, 385, 39, 4, 172, 4536, 1111, 17, 546, 38, 13, 447, 4, 192, 50, 16, 6, 147, 2025, 19, 14, 22, 4, 1920, 4613, 469, 4, 22, 71, 87, 12, 16, 43, 530, 38, 76, 15, 13, 1247, 4, 22, 17, 515, 17, 12, 16, 626, 18, 2, 5, 62, 386, 12, 8, 316, 8, 106, 5, 4, 2223, 5244, 16, 480, 66, 3785, 33, 4, 130, 12, 16, 38, 619, 5, 25, 124, 51, 36, 135, 48, 25, 1415, 33, 6, 22, 12, 215, 28, 77, 52, 5, 14, 407, 16, 82, 2, 8, 4, 107, 117, 5952, 15, 256, 4, 2, 7, 3766, 5, 723, 36, 71, 43, 530, 476, 26, 400, 317, 46, 7, 4, 2, 1029, 13, 104, 88, 4, 381, 15, 297, 98, 32, 2071, 56, 26, 141, 6, 194, 7486, 18, 4, 226, 22, 21, 134, 476, 26, 480, 5, 144, 30, 5535, 18, 51, 36, 28, 224, 92, 25, 104, 4, 226, 65, 16, 38, 1334, 88, 12, 16, 283, 5, 16, 4472, 113, 103, 32, 15, 16, 5345, 19, 178, 32]\n"
     ]
    }
   ],
   "source": [
    "print(train_data[0])"
   ]
  },
  {
   "cell_type": "code",
   "execution_count": 10,
   "metadata": {},
   "outputs": [
    {
     "data": {
      "text/plain": [
       "9999"
      ]
     },
     "execution_count": 10,
     "metadata": {},
     "output_type": "execute_result"
    }
   ],
   "source": [
    "max([max(sequence) for sequence in train_data])"
   ]
  },
  {
   "cell_type": "code",
   "execution_count": 11,
   "metadata": {},
   "outputs": [
    {
     "data": {
      "text/plain": [
       "9999"
      ]
     },
     "execution_count": 11,
     "metadata": {},
     "output_type": "execute_result"
    }
   ],
   "source": [
    "max([max(sequence) for sequence in test_data])"
   ]
  },
  {
   "cell_type": "markdown",
   "metadata": {},
   "source": [
    "## we try to decod the already encoded reviews into words from integer index. We use the word_index() which is a dict that maps words to integer index"
   ]
  },
  {
   "cell_type": "code",
   "execution_count": 12,
   "metadata": {},
   "outputs": [],
   "source": [
    "my_words =imdb.get_word_index()\n",
    "my_reversed_words = dict([(value, key) for value, key in my_words.items()])\n",
    "decoded_words =','.join([my_reversed_words.get(i -3, '?') for i in train_data[0]])"
   ]
  },
  {
   "cell_type": "code",
   "execution_count": 13,
   "metadata": {},
   "outputs": [
    {
     "data": {
      "text/plain": [
       "'?,?,?,?,?,?,?,?,?,?,?,?,?,?,?,?,?,?,?,?,?,?,?,?,?,?,?,?,?,?,?,?,?,?,?,?,?,?,?,?,?,?,?,?,?,?,?,?,?,?,?,?,?,?,?,?,?,?,?,?,?,?,?,?,?,?,?,?,?,?,?,?,?,?,?,?,?,?,?,?,?,?,?,?,?,?,?,?,?,?,?,?,?,?,?,?,?,?,?,?,?,?,?,?,?,?,?,?,?,?,?,?,?,?,?,?,?,?,?,?,?,?,?,?,?,?,?,?,?,?,?,?,?,?,?,?,?,?,?,?,?,?,?,?,?,?,?,?,?,?,?,?,?,?,?,?,?,?,?,?,?,?,?,?,?,?,?,?,?,?,?,?,?,?,?,?,?,?,?,?,?,?,?,?,?,?,?,?,?,?,?,?,?,?,?,?,?,?,?,?,?,?,?,?,?,?,?,?,?,?,?,?,?,?,?,?,?,?'"
      ]
     },
     "execution_count": 13,
     "metadata": {},
     "output_type": "execute_result"
    }
   ],
   "source": [
    "decoded_words"
   ]
  },
  {
   "cell_type": "code",
   "execution_count": 14,
   "metadata": {},
   "outputs": [],
   "source": [
    "# word_index =imdb.get_word_index()\n",
    "# reverse_word =dict([(value, key) for value, key in word_index.items()])\n",
    "# decod_word =' '.join([reverse_word.get(i - 3, '?') for i in test_data[0]])\n",
    "# decod_word"
   ]
  },
  {
   "cell_type": "markdown",
   "metadata": {},
   "source": [
    "## We encode the interger lists into integer tensor so we Create a vectorisation and an all zero matrix of shape(len(sequences), dimension)"
   ]
  },
  {
   "cell_type": "code",
   "execution_count": 15,
   "metadata": {},
   "outputs": [],
   "source": [
    "def vectorised_sequence(sequences, dimension=10000):\n",
    "    results =np.zeros((len(sequences), dimension))\n",
    "    for i, sequence in enumerate(sequences):\n",
    "        results[i , sequence] = 1.\n",
    "    return results\n",
    "x_train = vectorised_sequence(train_data)\n",
    "x_test  = vectorised_sequence(test_data)"
   ]
  },
  {
   "cell_type": "code",
   "execution_count": 16,
   "metadata": {},
   "outputs": [
    {
     "data": {
      "text/plain": [
       "array([1, 0, 0, ..., 0, 1, 0], dtype=int64)"
      ]
     },
     "execution_count": 16,
     "metadata": {},
     "output_type": "execute_result"
    }
   ],
   "source": [
    "train_labels"
   ]
  },
  {
   "cell_type": "markdown",
   "metadata": {},
   "source": [
    "## we convert  or vectorise our labels as well into float "
   ]
  },
  {
   "cell_type": "code",
   "execution_count": 17,
   "metadata": {},
   "outputs": [],
   "source": [
    "y_train =np.asarray(train_labels).astype('float32')\n",
    "y_test =np.asarray(test_labels).astype('float32')"
   ]
  },
  {
   "cell_type": "code",
   "execution_count": 18,
   "metadata": {},
   "outputs": [
    {
     "data": {
      "text/plain": [
       "array([1., 0., 0., ..., 0., 1., 0.], dtype=float32)"
      ]
     },
     "execution_count": 18,
     "metadata": {},
     "output_type": "execute_result"
    }
   ],
   "source": [
    "y_train"
   ]
  },
  {
   "cell_type": "code",
   "execution_count": 19,
   "metadata": {},
   "outputs": [
    {
     "data": {
      "text/plain": [
       "0.0"
      ]
     },
     "execution_count": 19,
     "metadata": {},
     "output_type": "execute_result"
    }
   ],
   "source": [
    "y_train[1]"
   ]
  },
  {
   "cell_type": "code",
   "execution_count": 20,
   "metadata": {},
   "outputs": [
    {
     "data": {
      "text/plain": [
       "1.0"
      ]
     },
     "execution_count": 20,
     "metadata": {},
     "output_type": "execute_result"
    }
   ],
   "source": [
    "y_test[1]"
   ]
  },
  {
   "cell_type": "code",
   "execution_count": 21,
   "metadata": {},
   "outputs": [
    {
     "data": {
      "text/plain": [
       "array([[0., 1., 1., ..., 0., 0., 0.],\n",
       "       [0., 1., 1., ..., 0., 0., 0.],\n",
       "       [0., 1., 1., ..., 0., 0., 0.],\n",
       "       ...,\n",
       "       [0., 1., 1., ..., 0., 0., 0.],\n",
       "       [0., 1., 1., ..., 0., 0., 0.],\n",
       "       [0., 1., 1., ..., 0., 0., 0.]])"
      ]
     },
     "execution_count": 21,
     "metadata": {},
     "output_type": "execute_result"
    }
   ],
   "source": [
    "x_train"
   ]
  },
  {
   "cell_type": "code",
   "execution_count": 22,
   "metadata": {},
   "outputs": [
    {
     "data": {
      "text/plain": [
       "array([0., 1., 1., ..., 0., 0., 0.])"
      ]
     },
     "execution_count": 22,
     "metadata": {},
     "output_type": "execute_result"
    }
   ],
   "source": [
    "x_train[1]"
   ]
  },
  {
   "cell_type": "markdown",
   "metadata": {},
   "source": [
    "# We build our network"
   ]
  },
  {
   "cell_type": "code",
   "execution_count": 23,
   "metadata": {},
   "outputs": [],
   "source": [
    "from keras import layers\n",
    "from keras import models\n",
    "network =models.Sequential()"
   ]
  },
  {
   "cell_type": "code",
   "execution_count": 24,
   "metadata": {},
   "outputs": [],
   "source": [
    "network.add(layers.Dense(16, activation='relu', input_shape=(10000,)))\n",
    "network.add(layers.Dense(16, activation='relu'))\n",
    "network.add(layers.Dense(1, activation='sigmoid'))"
   ]
  },
  {
   "cell_type": "markdown",
   "metadata": {},
   "source": [
    "## Lets compile our model"
   ]
  },
  {
   "cell_type": "code",
   "execution_count": 25,
   "metadata": {},
   "outputs": [],
   "source": [
    "network.compile(optimizer ='rmsprop', loss='binary_crossentropy', metrics=['accuracy'])"
   ]
  },
  {
   "cell_type": "markdown",
   "metadata": {},
   "source": [
    "# Setting my validation data"
   ]
  },
  {
   "cell_type": "code",
   "execution_count": 26,
   "metadata": {},
   "outputs": [],
   "source": [
    "x_val =x_train[:10000]\n",
    "y_val =y_train[:10000]\n",
    "\n",
    "part_x_train =x_train[10000:]\n",
    "part_y_train =y_train[10000:]"
   ]
  },
  {
   "cell_type": "code",
   "execution_count": 27,
   "metadata": {},
   "outputs": [
    {
     "data": {
      "text/plain": [
       "array([[0., 1., 1., ..., 0., 0., 0.],\n",
       "       [0., 1., 1., ..., 0., 0., 0.],\n",
       "       [0., 1., 1., ..., 0., 0., 0.],\n",
       "       ...,\n",
       "       [0., 1., 1., ..., 0., 0., 0.],\n",
       "       [0., 1., 1., ..., 0., 0., 0.],\n",
       "       [0., 1., 1., ..., 1., 0., 0.]])"
      ]
     },
     "execution_count": 27,
     "metadata": {},
     "output_type": "execute_result"
    }
   ],
   "source": [
    "x_val"
   ]
  },
  {
   "cell_type": "code",
   "execution_count": 28,
   "metadata": {},
   "outputs": [
    {
     "data": {
      "text/plain": [
       "(15000,)"
      ]
     },
     "execution_count": 28,
     "metadata": {},
     "output_type": "execute_result"
    }
   ],
   "source": [
    "part_y_train.shape"
   ]
  },
  {
   "cell_type": "code",
   "execution_count": 29,
   "metadata": {},
   "outputs": [
    {
     "data": {
      "text/plain": [
       "(10000,)"
      ]
     },
     "execution_count": 29,
     "metadata": {},
     "output_type": "execute_result"
    }
   ],
   "source": [
    "y_val.shape"
   ]
  },
  {
   "cell_type": "code",
   "execution_count": 30,
   "metadata": {},
   "outputs": [
    {
     "data": {
      "text/plain": [
       "(15000, 10000)"
      ]
     },
     "execution_count": 30,
     "metadata": {},
     "output_type": "execute_result"
    }
   ],
   "source": [
    "part_x_train.shape"
   ]
  },
  {
   "cell_type": "code",
   "execution_count": 31,
   "metadata": {},
   "outputs": [
    {
     "data": {
      "text/plain": [
       "(10000, 10000)"
      ]
     },
     "execution_count": 31,
     "metadata": {},
     "output_type": "execute_result"
    }
   ],
   "source": [
    "x_val.shape"
   ]
  },
  {
   "cell_type": "markdown",
   "metadata": {},
   "source": [
    "# Training our network"
   ]
  },
  {
   "cell_type": "code",
   "execution_count": 32,
   "metadata": {},
   "outputs": [
    {
     "name": "stdout",
     "output_type": "stream",
     "text": [
      "Train on 15000 samples, validate on 10000 samples\n",
      "Epoch 1/20\n",
      "15000/15000 [==============================] - 6s 391us/step - loss: 0.5688 - accuracy: 0.7322 - val_loss: 0.4377 - val_accuracy: 0.8666\n",
      "Epoch 2/20\n",
      "15000/15000 [==============================] - 4s 285us/step - loss: 0.3485 - accuracy: 0.8952 - val_loss: 0.3586 - val_accuracy: 0.8557\n",
      "Epoch 3/20\n",
      "15000/15000 [==============================] - 4s 281us/step - loss: 0.2511 - accuracy: 0.9232 - val_loss: 0.2980 - val_accuracy: 0.8847\n",
      "Epoch 4/20\n",
      "15000/15000 [==============================] - 4s 283us/step - loss: 0.1970 - accuracy: 0.9391 - val_loss: 0.2895 - val_accuracy: 0.8850\n",
      "Epoch 5/20\n",
      "15000/15000 [==============================] - 4s 279us/step - loss: 0.1596 - accuracy: 0.9497 - val_loss: 0.2781 - val_accuracy: 0.8901\n",
      "Epoch 6/20\n",
      "15000/15000 [==============================] - 4s 274us/step - loss: 0.1286 - accuracy: 0.9624 - val_loss: 0.2878 - val_accuracy: 0.8858\n",
      "Epoch 7/20\n",
      "15000/15000 [==============================] - 4s 290us/step - loss: 0.1050 - accuracy: 0.9700 - val_loss: 0.3350 - val_accuracy: 0.8788\n",
      "Epoch 8/20\n",
      "15000/15000 [==============================] - 4s 288us/step - loss: 0.0903 - accuracy: 0.9741 - val_loss: 0.3206 - val_accuracy: 0.8816\n",
      "Epoch 9/20\n",
      "15000/15000 [==============================] - 4s 285us/step - loss: 0.0734 - accuracy: 0.9805 - val_loss: 0.3381 - val_accuracy: 0.8801\n",
      "Epoch 10/20\n",
      "15000/15000 [==============================] - 4s 279us/step - loss: 0.0595 - accuracy: 0.9850 - val_loss: 0.3986 - val_accuracy: 0.8752\n",
      "Epoch 11/20\n",
      "15000/15000 [==============================] - 4s 287us/step - loss: 0.0483 - accuracy: 0.9895 - val_loss: 0.3831 - val_accuracy: 0.8799\n",
      "Epoch 12/20\n",
      "15000/15000 [==============================] - 4s 282us/step - loss: 0.0387 - accuracy: 0.9922 - val_loss: 0.4118 - val_accuracy: 0.8747\n",
      "Epoch 13/20\n",
      "15000/15000 [==============================] - 4s 274us/step - loss: 0.0316 - accuracy: 0.9943 - val_loss: 0.4382 - val_accuracy: 0.8748\n",
      "Epoch 14/20\n",
      "15000/15000 [==============================] - 5s 302us/step - loss: 0.0250 - accuracy: 0.9955 - val_loss: 0.4767 - val_accuracy: 0.8752\n",
      "Epoch 15/20\n",
      "15000/15000 [==============================] - 5s 306us/step - loss: 0.0185 - accuracy: 0.9974 - val_loss: 0.5502 - val_accuracy: 0.8704\n",
      "Epoch 16/20\n",
      "15000/15000 [==============================] - 5s 307us/step - loss: 0.0135 - accuracy: 0.9987 - val_loss: 0.5406 - val_accuracy: 0.8723\n",
      "Epoch 17/20\n",
      "15000/15000 [==============================] - 4s 290us/step - loss: 0.0121 - accuracy: 0.9983 - val_loss: 0.5732 - val_accuracy: 0.8706\n",
      "Epoch 18/20\n",
      "15000/15000 [==============================] - 4s 280us/step - loss: 0.0081 - accuracy: 0.9992 - val_loss: 0.6055 - val_accuracy: 0.8656\n",
      "Epoch 19/20\n",
      "15000/15000 [==============================] - 4s 287us/step - loss: 0.0090 - accuracy: 0.9979 - val_loss: 0.6662 - val_accuracy: 0.8699\n",
      "Epoch 20/20\n",
      "15000/15000 [==============================] - 4s 280us/step - loss: 0.0034 - accuracy: 0.9999 - val_loss: 0.6705 - val_accuracy: 0.8651\n"
     ]
    }
   ],
   "source": [
    "network1 =network.fit(part_x_train, part_y_train, epochs =20, batch_size=512, validation_data=(x_val, y_val))"
   ]
  },
  {
   "cell_type": "code",
   "execution_count": 39,
   "metadata": {},
   "outputs": [
    {
     "name": "stdout",
     "output_type": "stream",
     "text": [
      "Train on 15000 samples, validate on 10000 samples\n",
      "Epoch 1/20\n",
      "15000/15000 [==============================] - 4s 292us/step - loss: 2.5367e-05 - accuracy: 1.0000 - val_loss: 1.3291 - val_accuracy: 0.8584\n",
      "Epoch 2/20\n",
      "15000/15000 [==============================] - 4s 282us/step - loss: 1.6707e-05 - accuracy: 1.0000 - val_loss: 1.3459 - val_accuracy: 0.8582\n",
      "Epoch 3/20\n",
      "15000/15000 [==============================] - 4s 287us/step - loss: 1.3582e-05 - accuracy: 1.0000 - val_loss: 1.3574 - val_accuracy: 0.8585\n",
      "Epoch 4/20\n",
      "15000/15000 [==============================] - 4s 272us/step - loss: 1.1049e-05 - accuracy: 1.0000 - val_loss: 1.3856 - val_accuracy: 0.8589\n",
      "Epoch 5/20\n",
      "15000/15000 [==============================] - 4s 273us/step - loss: 7.9836e-06 - accuracy: 1.0000 - val_loss: 1.4426 - val_accuracy: 0.8582\n",
      "Epoch 6/20\n",
      "15000/15000 [==============================] - 4s 270us/step - loss: 5.7261e-04 - accuracy: 0.9998 - val_loss: 1.4787 - val_accuracy: 0.8590\n",
      "Epoch 7/20\n",
      "15000/15000 [==============================] - 4s 275us/step - loss: 4.1324e-06 - accuracy: 1.0000 - val_loss: 1.4845 - val_accuracy: 0.8589\n",
      "Epoch 8/20\n",
      "15000/15000 [==============================] - 4s 277us/step - loss: 3.8732e-06 - accuracy: 1.0000 - val_loss: 1.4924 - val_accuracy: 0.8589\n",
      "Epoch 9/20\n",
      "15000/15000 [==============================] - 4s 274us/step - loss: 3.5625e-06 - accuracy: 1.0000 - val_loss: 1.5062 - val_accuracy: 0.8577\n",
      "Epoch 10/20\n",
      "15000/15000 [==============================] - 4s 276us/step - loss: 3.0826e-06 - accuracy: 1.0000 - val_loss: 1.5427 - val_accuracy: 0.8578\n",
      "Epoch 11/20\n",
      "15000/15000 [==============================] - 4s 287us/step - loss: 7.3074e-04 - accuracy: 0.9998 - val_loss: 1.6178 - val_accuracy: 0.8579\n",
      "Epoch 12/20\n",
      "15000/15000 [==============================] - 4s 285us/step - loss: 3.1115e-06 - accuracy: 1.0000 - val_loss: 1.5947 - val_accuracy: 0.8583\n",
      "Epoch 13/20\n",
      "15000/15000 [==============================] - 4s 278us/step - loss: 2.1802e-06 - accuracy: 1.0000 - val_loss: 1.5943 - val_accuracy: 0.8579\n",
      "Epoch 14/20\n",
      "15000/15000 [==============================] - 4s 297us/step - loss: 1.8515e-06 - accuracy: 1.0000 - val_loss: 1.5981 - val_accuracy: 0.8579\n",
      "Epoch 15/20\n",
      "15000/15000 [==============================] - 4s 283us/step - loss: 1.5912e-06 - accuracy: 1.0000 - val_loss: 1.6095 - val_accuracy: 0.8576\n",
      "Epoch 16/20\n",
      "15000/15000 [==============================] - 4s 276us/step - loss: 1.3127e-06 - accuracy: 1.0000 - val_loss: 1.6437 - val_accuracy: 0.8583\n",
      "Epoch 17/20\n",
      "15000/15000 [==============================] - 4s 277us/step - loss: 1.0012e-06 - accuracy: 1.0000 - val_loss: 1.8870 - val_accuracy: 0.8523\n",
      "Epoch 18/20\n",
      "15000/15000 [==============================] - 4s 278us/step - loss: 9.4138e-04 - accuracy: 0.9997 - val_loss: 1.6868 - val_accuracy: 0.8583\n",
      "Epoch 19/20\n",
      "15000/15000 [==============================] - 4s 279us/step - loss: 7.6647e-07 - accuracy: 1.0000 - val_loss: 1.6918 - val_accuracy: 0.8582\n",
      "Epoch 20/20\n",
      "15000/15000 [==============================] - 4s 285us/step - loss: 7.1385e-07 - accuracy: 1.0000 - val_loss: 1.6970 - val_accuracy: 0.8588\n"
     ]
    }
   ],
   "source": [
    "history =network.fit(part_x_train, part_y_train, epochs =20, batch_size =512, validation_data=(x_val,y_val))"
   ]
  },
  {
   "cell_type": "markdown",
   "metadata": {},
   "source": [
    "## this network1 object has a history member containing everything that happens during training"
   ]
  },
  {
   "cell_type": "code",
   "execution_count": 34,
   "metadata": {},
   "outputs": [],
   "source": [
    "network1_dict =network1.history"
   ]
  },
  {
   "cell_type": "markdown",
   "metadata": {},
   "source": [
    "# The 4 parameters are per epoch for training loss and validation loss, accuracy and validation accuracy"
   ]
  },
  {
   "cell_type": "code",
   "execution_count": 35,
   "metadata": {},
   "outputs": [
    {
     "data": {
      "text/plain": [
       "dict_keys(['val_loss', 'val_accuracy', 'loss', 'accuracy'])"
      ]
     },
     "execution_count": 35,
     "metadata": {},
     "output_type": "execute_result"
    }
   ],
   "source": [
    "network1_dict.keys()"
   ]
  },
  {
   "cell_type": "code",
   "execution_count": 52,
   "metadata": {},
   "outputs": [
    {
     "data": {
      "text/plain": [
       "dict_keys(['val_loss', 'val_accuracy', 'loss', 'accuracy'])"
      ]
     },
     "execution_count": 52,
     "metadata": {},
     "output_type": "execute_result"
    }
   ],
   "source": [
    "history_dict =history.history\n",
    "history_dict.keys()"
   ]
  },
  {
   "cell_type": "markdown",
   "metadata": {},
   "source": [
    "# We plot a graph of the training loss against the val loss"
   ]
  },
  {
   "cell_type": "code",
   "execution_count": 37,
   "metadata": {},
   "outputs": [
    {
     "data": {
      "text/plain": [
       "<matplotlib.legend.Legend at 0x17700a7b908>"
      ]
     },
     "execution_count": 37,
     "metadata": {},
     "output_type": "execute_result"
    },
    {
     "data": {
      "image/png": "[encoded data removed]",
      "text/plain": [
       "<Figure size 432x288 with 1 Axes>"
      ]
     },
     "metadata": {
      "needs_background": "light"
     },
     "output_type": "display_data"
    }
   ],
   "source": [
    "train_loss =network1_dict['loss']\n",
    "validation_loss =network1_dict['val_loss']\n",
    "\n",
    "#epochs = range(1, len(accuracy) + 1)\n",
    "plt.plot(train_loss, 'bo', label ='Training Loss')\n",
    "plt.plot(validation_loss, 'b', label ='Validation Loss')\n",
    "plt.title('Training loss vs Validation loss')\n",
    "plt.xlabel('Epochs')\n",
    "plt.ylabel('Training Losses')\n",
    "plt.legend()"
   ]
  },
  {
   "cell_type": "markdown",
   "metadata": {},
   "source": [
    "# we plot the training and validation accuracy"
   ]
  },
  {
   "cell_type": "code",
   "execution_count": 50,
   "metadata": {},
   "outputs": [
    {
     "data": {
      "text/plain": [
       "Text(0.5, 1.0, 'Training accuracy vs Validation Accuracy')"
      ]
     },
     "execution_count": 50,
     "metadata": {},
     "output_type": "execute_result"
    },
    {
     "data": {
      "image/png": "[encoded data removed]",
      "text/plain": [
       "<Figure size 432x288 with 1 Axes>"
      ]
     },
     "metadata": {
      "needs_background": "light"
     },
     "output_type": "display_data"
    }
   ],
   "source": [
    "train_acc =network1_dict['accuracy']\n",
    "val_acc_values =network1_dict['val_accuracy']\n",
    "plt.plot(train_acc, 'bo', label='Training accuracy')\n",
    "plt.plot(val_acc_values, 'b', label='Validation accuracy')\n",
    "plt.xlabel('Epochsy')\n",
    "plt.ylabel('Trainig Loss')\n",
    "plt.legend()\n",
    "plt.title('Training accuracy vs Validation Accuracy')"
   ]
  },
  {
   "cell_type": "markdown",
   "metadata": {},
   "source": [
    "# We take a new model and evaluate it's performance on the test data"
   ]
  },
  {
   "cell_type": "code",
   "execution_count": 57,
   "metadata": {},
   "outputs": [],
   "source": [
    "network2 =models.Sequential()\n",
    "network2.add(layers.Dense(16, activation='relu', input_shape=(10000,)))\n",
    "network2.add(layers.Dense(16, activation='relu'))\n",
    "network2.add(layers.Dense(1, activation='sigmoid'))"
   ]
  },
  {
   "cell_type": "code",
   "execution_count": 58,
   "metadata": {},
   "outputs": [],
   "source": [
    "network2.compile(optimizer ='rmsprop', loss='binary_crossentropy', metrics =['accuracy'])"
   ]
  },
  {
   "cell_type": "code",
   "execution_count": 59,
   "metadata": {},
   "outputs": [
    {
     "name": "stdout",
     "output_type": "stream",
     "text": [
      "Epoch 1/10\n",
      "25000/25000 [==============================] - 7s 273us/step - loss: 0.4605 - accuracy: 0.8159\n",
      "Epoch 2/10\n",
      "25000/25000 [==============================] - 5s 193us/step - loss: 0.2650 - accuracy: 0.9088\n",
      "Epoch 3/10\n",
      "25000/25000 [==============================] - 5s 188us/step - loss: 0.2048 - accuracy: 0.9291\n",
      "Epoch 4/10\n",
      "25000/25000 [==============================] - 5s 186us/step - loss: 0.1705 - accuracy: 0.9403\n",
      "Epoch 5/10\n",
      "25000/25000 [==============================] - 5s 185us/step - loss: 0.1479 - accuracy: 0.9483\n",
      "Epoch 6/10\n",
      "25000/25000 [==============================] - 5s 193us/step - loss: 0.1291 - accuracy: 0.9564\n",
      "Epoch 7/10\n",
      "25000/25000 [==============================] - 5s 181us/step - loss: 0.1173 - accuracy: 0.95881s - loss: 0\n",
      "Epoch 8/10\n",
      "25000/25000 [==============================] - 5s 190us/step - loss: 0.1033 - accuracy: 0.96611s - loss:\n",
      "Epoch 9/10\n",
      "25000/25000 [==============================] - 5s 181us/step - loss: 0.0931 - accuracy: 0.9694\n",
      "Epoch 10/10\n",
      "25000/25000 [==============================] - 5s 183us/step - loss: 0.0837 - accuracy: 0.9724\n"
     ]
    },
    {
     "data": {
      "text/plain": [
       "<keras.callbacks.callbacks.History at 0x17704c17908>"
      ]
     },
     "execution_count": 59,
     "metadata": {},
     "output_type": "execute_result"
    }
   ],
   "source": [
    "network2.fit(x_train, y_train, epochs =10, batch_size =512)"
   ]
  },
  {
   "cell_type": "markdown",
   "metadata": {},
   "source": [
    "# we evaluate now"
   ]
  },
  {
   "cell_type": "code",
   "execution_count": 60,
   "metadata": {},
   "outputs": [
    {
     "name": "stdout",
     "output_type": "stream",
     "text": [
      "25000/25000 [==============================] - 15s 603us/step\n"
     ]
    }
   ],
   "source": [
    "my_evaluation =network2.evaluate(x_test,y_test)"
   ]
  },
  {
   "cell_type": "markdown",
   "metadata": {},
   "source": [
    "# This gave us an accuracy of the model to be 86%"
   ]
  },
  {
   "cell_type": "code",
   "execution_count": 61,
   "metadata": {},
   "outputs": [
    {
     "data": {
      "text/plain": [
       "[0.42074567745685576, 0.8660399913787842]"
      ]
     },
     "execution_count": 61,
     "metadata": {},
     "output_type": "execute_result"
    }
   ],
   "source": [
    "my_evaluation"
   ]
  },
  {
   "cell_type": "markdown",
   "metadata": {},
   "source": [
    "# We use the network on practical terms to predict a review"
   ]
  },
  {
   "cell_type": "code",
   "execution_count": 62,
   "metadata": {},
   "outputs": [],
   "source": [
    "y_predict =network2.predict(x_test)"
   ]
  },
  {
   "cell_type": "code",
   "execution_count": 63,
   "metadata": {},
   "outputs": [
    {
     "data": {
      "text/plain": [
       "array([[0.07260913],\n",
       "       [0.99991035],\n",
       "       [0.64440465],\n",
       "       ...,\n",
       "       [0.10291871],\n",
       "       [0.01701248],\n",
       "       [0.74032766]], dtype=float32)"
      ]
     },
     "execution_count": 63,
     "metadata": {},
     "output_type": "execute_result"
    }
   ],
   "source": [
    "y_predict"
   ]
  },
  {
   "cell_type": "code",
   "execution_count": null,
   "metadata": {},
   "outputs": [],
   "source": []
  }
 ],
 "metadata": {
  "kernelspec": {
   "display_name": "Python 3",
   "language": "python",
   "name": "python3"
  },
  "language_info": {
   "codemirror_mode": {
    "name": "ipython",
    "version": 3
   },
   "file_extension": ".py",
   "mimetype": "text/x-python",
   "name": "python",
   "nbconvert_exporter": "python",
   "pygments_lexer": "ipython3",
   "version": "3.7.3"
  }
 },
 "nbformat": 4,
 "nbformat_minor": 2
}
