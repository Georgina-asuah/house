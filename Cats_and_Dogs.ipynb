{
 "cells": [
  {
   "cell_type": "code",
   "execution_count": 1,
   "metadata": {},
   "outputs": [
    {
     "name": "stderr",
     "output_type": "stream",
     "text": [
      "Using TensorFlow backend.\n"
     ]
    }
   ],
   "source": [
    "import os, shutil\n",
    "from os.path import join\n",
    "from keras import optimizers\n",
    "from keras.preprocessing.image import ImageDataGenerator\n",
    "import matplotlib.pyplot as plt"
   ]
  },
  {
   "cell_type": "code",
   "execution_count": 3,
   "metadata": {},
   "outputs": [],
   "source": [
    "mydata_source ='C:/Users/Admin/Documents/Nueral Networks/PetImages'\n",
    "base_dir ='C:/Users/Admin/Documents/Nueral Networks/cats_and_dogs'\n",
    "os.mkdir(base_dir)\n"
   ]
  },
  {
   "cell_type": "code",
   "execution_count": 4,
   "metadata": {},
   "outputs": [],
   "source": [
    "train_dir =os.path.join(base_dir,'train')\n",
    "os.mkdir(train_dir)"
   ]
  },
  {
   "cell_type": "code",
   "execution_count": 5,
   "metadata": {},
   "outputs": [],
   "source": [
    "test_dir =os.path.join(base_dir, 'test')\n",
    "os.mkdir(test_dir)"
   ]
  },
  {
   "cell_type": "code",
   "execution_count": 6,
   "metadata": {},
   "outputs": [],
   "source": [
    "validation_dir =os.path.join(base_dir, 'validation')\n",
    "os.mkdir(validation_dir)"
   ]
  },
  {
   "cell_type": "code",
   "execution_count": 7,
   "metadata": {},
   "outputs": [],
   "source": [
    "train_cats_dir =os.path.join(train_dir, 'cats')\n",
    "os.mkdir(train_cats_dir)"
   ]
  },
  {
   "cell_type": "code",
   "execution_count": 8,
   "metadata": {},
   "outputs": [],
   "source": [
    "train_dogs_dir =os.path.join(train_dir, 'dogs')\n",
    "os.mkdir(train_dogs_dir)"
   ]
  },
  {
   "cell_type": "code",
   "execution_count": 9,
   "metadata": {},
   "outputs": [],
   "source": [
    "test_cats_dir =os.path.join(test_dir, 'cats')\n",
    "os.mkdir(test_cats_dir)"
   ]
  },
  {
   "cell_type": "code",
   "execution_count": 10,
   "metadata": {},
   "outputs": [],
   "source": [
    "test_dogs_dir =os.path.join(test_dir,'dogs')\n",
    "os.mkdir(test_dogs_dir)"
   ]
  },
  {
   "cell_type": "code",
   "execution_count": 11,
   "metadata": {},
   "outputs": [],
   "source": [
    "validation_cats_dir =os.path.join(validation_dir,'cats')\n",
    "os.mkdir(validation_cats_dir)"
   ]
  },
  {
   "cell_type": "code",
   "execution_count": 12,
   "metadata": {},
   "outputs": [],
   "source": [
    "validation_dogs_dir =os.path.join(validation_dir, 'dogs')\n",
    "os.mkdir(validation_dogs_dir)"
   ]
  },
  {
   "cell_type": "code",
   "execution_count": 13,
   "metadata": {},
   "outputs": [
    {
     "name": "stdout",
     "output_type": "stream",
     "text": [
      "Can not locate the file 0.jpg\n"
     ]
    }
   ],
   "source": [
    "fnames =['{}.jpg'.format(i) for i in range(1000)]\n",
    "try:\n",
    "    for fname in fnames:\n",
    "        src =os.path.join(mydata_source, fname)\n",
    "        dst =os.path.join(base_dir, fname)\n",
    "        shutil.copyfile(src, dst)\n",
    "except FileNotFoundError:\n",
    "    print('Can not locate the file',fname)"
   ]
  },
  {
   "cell_type": "code",
   "execution_count": 14,
   "metadata": {},
   "outputs": [
    {
     "name": "stdout",
     "output_type": "stream",
     "text": [
      "total training Cat images: 1000 and the total training Dog images is 1000\n"
     ]
    }
   ],
   "source": [
    "print('total training Cat images:', len(os.listdir(train_cats_dir)),'and the total training Dog images is',len(os.listdir(train_dogs_dir)))"
   ]
  },
  {
   "cell_type": "code",
   "execution_count": 15,
   "metadata": {},
   "outputs": [
    {
     "name": "stdout",
     "output_type": "stream",
     "text": [
      "Total testing Cat images is  500 and total testing Dog images is 500\n"
     ]
    }
   ],
   "source": [
    "print('Total testing Cat images is ',len(os.listdir(test_cats_dir)),'and total testing Dog images is',len(os.listdir(test_dogs_dir)))"
   ]
  },
  {
   "cell_type": "code",
   "execution_count": 16,
   "metadata": {},
   "outputs": [
    {
     "name": "stdout",
     "output_type": "stream",
     "text": [
      "The total validation dog images is 500  and the total validation cat images is 500\n"
     ]
    }
   ],
   "source": [
    "print('The total validation dog images is', len(os.listdir(validation_dogs_dir)),' and the total validation cat images is',len(os.listdir(validation_cats_dir)))"
   ]
  },
  {
   "cell_type": "code",
   "execution_count": 17,
   "metadata": {},
   "outputs": [],
   "source": [
    "from keras import layers\n",
    "from keras import models"
   ]
  },
  {
   "cell_type": "code",
   "execution_count": 18,
   "metadata": {},
   "outputs": [],
   "source": [
    "model =models.Sequential()"
   ]
  },
  {
   "cell_type": "code",
   "execution_count": 19,
   "metadata": {},
   "outputs": [],
   "source": [
    "model.add(layers.Conv2D(32, (3,3), activation='relu', input_shape=(150,150,3)))\n",
    "model.add(layers.MaxPooling2D((2,2)))\n",
    "model.add(layers.Conv2D(64,(3,3), activation='relu'))\n",
    "model.add(layers.MaxPooling2D((2,2)))\n",
    "model.add(layers.Conv2D(128,(3,3), activation='relu'))\n",
    "model.add(layers.MaxPooling2D((2,2)))\n",
    "model.add(layers.Conv2D(128,(3,3), activation='relu'))\n",
    "model.add(layers.MaxPooling2D((2,2)))\n",
    "model.add(layers.Flatten())\n",
    "model.add(layers.Dense(512, activation='relu'))\n",
    "model.add(layers.Dense(1, activation='sigmoid'))"
   ]
  },
  {
   "cell_type": "code",
   "execution_count": 20,
   "metadata": {},
   "outputs": [
    {
     "name": "stdout",
     "output_type": "stream",
     "text": [
      "Model: \"sequential_1\"\n",
      "_________________________________________________________________\n",
      "Layer (type)                 Output Shape              Param #   \n",
      "=================================================================\n",
      "conv2d_1 (Conv2D)            (None, 148, 148, 32)      896       \n",
      "_________________________________________________________________\n",
      "max_pooling2d_1 (MaxPooling2 (None, 74, 74, 32)        0         \n",
      "_________________________________________________________________\n",
      "conv2d_2 (Conv2D)            (None, 72, 72, 64)        18496     \n",
      "_________________________________________________________________\n",
      "max_pooling2d_2 (MaxPooling2 (None, 36, 36, 64)        0         \n",
      "_________________________________________________________________\n",
      "conv2d_3 (Conv2D)            (None, 34, 34, 128)       73856     \n",
      "_________________________________________________________________\n",
      "max_pooling2d_3 (MaxPooling2 (None, 17, 17, 128)       0         \n",
      "_________________________________________________________________\n",
      "conv2d_4 (Conv2D)            (None, 15, 15, 128)       147584    \n",
      "_________________________________________________________________\n",
      "max_pooling2d_4 (MaxPooling2 (None, 7, 7, 128)         0         \n",
      "_________________________________________________________________\n",
      "flatten_1 (Flatten)          (None, 6272)              0         \n",
      "_________________________________________________________________\n",
      "dense_1 (Dense)              (None, 512)               3211776   \n",
      "_________________________________________________________________\n",
      "dense_2 (Dense)              (None, 1)                 513       \n",
      "=================================================================\n",
      "Total params: 3,453,121\n",
      "Trainable params: 3,453,121\n",
      "Non-trainable params: 0\n",
      "_________________________________________________________________\n"
     ]
    }
   ],
   "source": [
    "model.summary()"
   ]
  },
  {
   "cell_type": "markdown",
   "metadata": {},
   "source": [
    "# Compilation of my network"
   ]
  },
  {
   "cell_type": "code",
   "execution_count": 21,
   "metadata": {},
   "outputs": [],
   "source": [
    "model.compile(optimizer='RMSprop',\n",
    "             loss='binary_crossentropy', metrics =['accuracy'])"
   ]
  },
  {
   "cell_type": "markdown",
   "metadata": {},
   "source": [
    "# Using the ImageDataGenerator() class to read the files"
   ]
  },
  {
   "cell_type": "code",
   "execution_count": 22,
   "metadata": {},
   "outputs": [],
   "source": [
    "train_datagenerated =ImageDataGenerator(rescale=1.0/255)\n",
    "test_datagenerated =ImageDataGenerator(rescale =1./255)"
   ]
  },
  {
   "cell_type": "markdown",
   "metadata": {},
   "source": [
    "# Resize all the images into pixels"
   ]
  },
  {
   "cell_type": "code",
   "execution_count": 23,
   "metadata": {},
   "outputs": [
    {
     "name": "stdout",
     "output_type": "stream",
     "text": [
      "Found 2000 images belonging to 2 classes.\n"
     ]
    }
   ],
   "source": [
    "train_generator =train_datagenerated.flow_from_directory( train_dir, target_size=(150,150), batch_size=20, class_mode='binary')"
   ]
  },
  {
   "cell_type": "code",
   "execution_count": 24,
   "metadata": {},
   "outputs": [
    {
     "name": "stdout",
     "output_type": "stream",
     "text": [
      "Found 1000 images belonging to 2 classes.\n"
     ]
    }
   ],
   "source": [
    "validation_generator =test_datagenerated.flow_from_directory(validation_dir, target_size=(150,150), batch_size=20, class_mode='binary')"
   ]
  },
  {
   "cell_type": "code",
   "execution_count": 25,
   "metadata": {},
   "outputs": [
    {
     "name": "stdout",
     "output_type": "stream",
     "text": [
      "train is  (20, 150, 150, 3)\n",
      "the label shape is (20,)\n"
     ]
    }
   ],
   "source": [
    "for train_batch, label_batch in train_generator:\n",
    "    print('train is ',train_batch.shape)\n",
    "    print('the label shape is',label_batch.shape)\n",
    "    break"
   ]
  },
  {
   "cell_type": "markdown",
   "metadata": {},
   "source": [
    "# fitting our model using the fit() method"
   ]
  },
  {
   "cell_type": "code",
   "execution_count": 26,
   "metadata": {},
   "outputs": [
    {
     "name": "stdout",
     "output_type": "stream",
     "text": [
      "Epoch 1/50\n",
      "100/100 [==============================] - 100s 995ms/step - loss: 0.7698 - accuracy: 0.5190 - val_loss: 0.7000 - val_accuracy: 0.5000\n",
      "Epoch 2/50\n",
      "100/100 [==============================] - 85s 855ms/step - loss: 0.6913 - accuracy: 0.5505 - val_loss: 0.7112 - val_accuracy: 0.6460\n",
      "Epoch 3/50\n",
      "100/100 [==============================] - 86s 865ms/step - loss: 0.6271 - accuracy: 0.6415 - val_loss: 0.4898 - val_accuracy: 0.6760\n",
      "Epoch 4/50\n",
      "100/100 [==============================] - 82s 819ms/step - loss: 0.6102 - accuracy: 0.7045 - val_loss: 0.5508 - val_accuracy: 0.6620\n",
      "Epoch 5/50\n",
      "100/100 [==============================] - 82s 821ms/step - loss: 0.5365 - accuracy: 0.7295 - val_loss: 0.6680 - val_accuracy: 0.7160\n",
      "Epoch 6/50\n",
      "100/100 [==============================] - 82s 820ms/step - loss: 0.4984 - accuracy: 0.7565 - val_loss: 0.4815 - val_accuracy: 0.7210\n",
      "Epoch 7/50\n",
      "100/100 [==============================] - 82s 819ms/step - loss: 0.4670 - accuracy: 0.7855 - val_loss: 0.6175 - val_accuracy: 0.7370\n",
      "Epoch 8/50\n",
      "100/100 [==============================] - 83s 829ms/step - loss: 0.4149 - accuracy: 0.8080 - val_loss: 1.5119 - val_accuracy: 0.7170\n",
      "Epoch 9/50\n",
      "100/100 [==============================] - 82s 818ms/step - loss: 0.3730 - accuracy: 0.8335 - val_loss: 0.5776 - val_accuracy: 0.7410\n",
      "Epoch 10/50\n",
      "100/100 [==============================] - 82s 823ms/step - loss: 0.3075 - accuracy: 0.8690 - val_loss: 1.1063 - val_accuracy: 0.6840\n",
      "Epoch 11/50\n",
      "100/100 [==============================] - 81s 805ms/step - loss: 0.2546 - accuracy: 0.8935 - val_loss: 0.6807 - val_accuracy: 0.7310\n",
      "Epoch 12/50\n",
      "100/100 [==============================] - 82s 821ms/step - loss: 0.2126 - accuracy: 0.9230 - val_loss: 0.5905 - val_accuracy: 0.7460\n",
      "Epoch 13/50\n",
      "100/100 [==============================] - 82s 821ms/step - loss: 0.1820 - accuracy: 0.9275 - val_loss: 0.9271 - val_accuracy: 0.6950\n",
      "Epoch 14/50\n",
      "100/100 [==============================] - 82s 817ms/step - loss: 0.1524 - accuracy: 0.9415 - val_loss: 0.4075 - val_accuracy: 0.7350\n",
      "Epoch 15/50\n",
      "100/100 [==============================] - 82s 821ms/step - loss: 0.1237 - accuracy: 0.9615 - val_loss: 1.4293 - val_accuracy: 0.7370\n",
      "Epoch 16/50\n",
      "100/100 [==============================] - 82s 816ms/step - loss: 0.0870 - accuracy: 0.9705 - val_loss: 1.1474 - val_accuracy: 0.7120\n",
      "Epoch 17/50\n",
      "100/100 [==============================] - 82s 819ms/step - loss: 0.0803 - accuracy: 0.9730 - val_loss: 1.6026 - val_accuracy: 0.7170\n",
      "Epoch 18/50\n",
      "100/100 [==============================] - 82s 823ms/step - loss: 0.0677 - accuracy: 0.9820 - val_loss: 2.3022 - val_accuracy: 0.7030\n",
      "Epoch 19/50\n",
      "100/100 [==============================] - 80s 801ms/step - loss: 0.0791 - accuracy: 0.9760 - val_loss: 2.0052 - val_accuracy: 0.7340\n",
      "Epoch 20/50\n",
      "100/100 [==============================] - 80s 798ms/step - loss: 0.0734 - accuracy: 0.9800 - val_loss: 1.5641 - val_accuracy: 0.6860\n",
      "Epoch 21/50\n",
      "100/100 [==============================] - 80s 798ms/step - loss: 0.0595 - accuracy: 0.9785 - val_loss: 0.6691 - val_accuracy: 0.7320\n",
      "Epoch 22/50\n",
      "100/100 [==============================] - 79s 791ms/step - loss: 0.0736 - accuracy: 0.9800 - val_loss: 0.6509 - val_accuracy: 0.7260\n",
      "Epoch 23/50\n",
      "100/100 [==============================] - 80s 797ms/step - loss: 0.0625 - accuracy: 0.9825 - val_loss: 1.6199 - val_accuracy: 0.7360\n",
      "Epoch 24/50\n",
      "100/100 [==============================] - 80s 797ms/step - loss: 0.0422 - accuracy: 0.9885 - val_loss: 1.6380 - val_accuracy: 0.7410\n",
      "Epoch 25/50\n",
      "100/100 [==============================] - 79s 793ms/step - loss: 0.0290 - accuracy: 0.9895 - val_loss: 4.6358 - val_accuracy: 0.7150\n",
      "Epoch 26/50\n",
      "100/100 [==============================] - 80s 797ms/step - loss: 0.0576 - accuracy: 0.9860 - val_loss: 3.4052 - val_accuracy: 0.7360\n",
      "Epoch 27/50\n",
      "100/100 [==============================] - 79s 792ms/step - loss: 0.0362 - accuracy: 0.9875 - val_loss: 0.9527 - val_accuracy: 0.7330\n",
      "Epoch 28/50\n",
      "100/100 [==============================] - 80s 799ms/step - loss: 0.0637 - accuracy: 0.9895 - val_loss: 2.0113 - val_accuracy: 0.7130\n",
      "Epoch 29/50\n",
      "100/100 [==============================] - 79s 791ms/step - loss: 0.0796 - accuracy: 0.9865 - val_loss: 4.0838 - val_accuracy: 0.7500\n",
      "Epoch 30/50\n",
      "100/100 [==============================] - 80s 795ms/step - loss: 0.0386 - accuracy: 0.9910 - val_loss: 2.1967 - val_accuracy: 0.7180\n",
      "Epoch 31/50\n",
      "100/100 [==============================] - 79s 791ms/step - loss: 0.0454 - accuracy: 0.9855 - val_loss: 2.7715 - val_accuracy: 0.7200\n",
      "Epoch 32/50\n",
      "100/100 [==============================] - 79s 794ms/step - loss: 0.0413 - accuracy: 0.9880 - val_loss: 3.0544 - val_accuracy: 0.7340\n",
      "Epoch 33/50\n",
      "100/100 [==============================] - 79s 794ms/step - loss: 0.0477 - accuracy: 0.9860 - val_loss: 1.4448 - val_accuracy: 0.7280\n",
      "Epoch 34/50\n",
      "100/100 [==============================] - 80s 798ms/step - loss: 0.0599 - accuracy: 0.9895 - val_loss: 2.5169 - val_accuracy: 0.6970\n",
      "Epoch 35/50\n",
      "100/100 [==============================] - 79s 793ms/step - loss: 0.0545 - accuracy: 0.9880 - val_loss: 1.7249 - val_accuracy: 0.7420\n",
      "Epoch 36/50\n",
      "100/100 [==============================] - 80s 798ms/step - loss: 0.0310 - accuracy: 0.9915 - val_loss: 3.6922 - val_accuracy: 0.7270\n",
      "Epoch 37/50\n",
      "100/100 [==============================] - 80s 796ms/step - loss: 0.0687 - accuracy: 0.9850 - val_loss: 3.2203 - val_accuracy: 0.7400\n",
      "Epoch 38/50\n",
      "100/100 [==============================] - 80s 802ms/step - loss: 0.0302 - accuracy: 0.9950 - val_loss: 0.4198 - val_accuracy: 0.6960\n",
      "Epoch 39/50\n",
      "100/100 [==============================] - 79s 795ms/step - loss: 0.0237 - accuracy: 0.9910 - val_loss: 4.0873 - val_accuracy: 0.7250\n",
      "Epoch 40/50\n",
      "100/100 [==============================] - 80s 797ms/step - loss: 0.0221 - accuracy: 0.9960 - val_loss: 3.7663 - val_accuracy: 0.7440\n",
      "Epoch 41/50\n",
      "100/100 [==============================] - 79s 791ms/step - loss: 0.0919 - accuracy: 0.9920 - val_loss: 5.2721 - val_accuracy: 0.7340\n",
      "Epoch 42/50\n",
      "100/100 [==============================] - 80s 801ms/step - loss: 0.0628 - accuracy: 0.9915 - val_loss: 4.2543 - val_accuracy: 0.7320\n",
      "Epoch 43/50\n",
      "100/100 [==============================] - 80s 797ms/step - loss: 0.2384 - accuracy: 0.9870 - val_loss: 2.2814 - val_accuracy: 0.7490\n",
      "Epoch 44/50\n",
      "100/100 [==============================] - 81s 808ms/step - loss: 0.0114 - accuracy: 0.9975 - val_loss: 2.7248 - val_accuracy: 0.7000\n",
      "Epoch 45/50\n",
      "100/100 [==============================] - 82s 822ms/step - loss: 0.0947 - accuracy: 0.9860 - val_loss: 6.3965 - val_accuracy: 0.7300\n",
      "Epoch 46/50\n",
      "100/100 [==============================] - 80s 797ms/step - loss: 0.0460 - accuracy: 0.9900 - val_loss: 3.2422 - val_accuracy: 0.7110\n",
      "Epoch 47/50\n",
      "100/100 [==============================] - 79s 794ms/step - loss: 0.0455 - accuracy: 0.9925 - val_loss: 1.7278 - val_accuracy: 0.6990\n",
      "Epoch 48/50\n",
      "100/100 [==============================] - 77s 770ms/step - loss: 0.0220 - accuracy: 0.9945 - val_loss: 6.3421 - val_accuracy: 0.7180\n",
      "Epoch 49/50\n",
      "100/100 [==============================] - 79s 792ms/step - loss: 0.0464 - accuracy: 0.9950 - val_loss: 7.0879 - val_accuracy: 0.7250\n",
      "Epoch 50/50\n",
      "100/100 [==============================] - 82s 815ms/step - loss: 0.0205 - accuracy: 0.9945 - val_loss: 2.9065 - val_accuracy: 0.7230\n"
     ]
    }
   ],
   "source": [
    "history =model.fit_generator(train_generator, steps_per_epoch=100, epochs =50, \n",
    "                           validation_data=validation_generator, validation_steps=50)"
   ]
  },
  {
   "cell_type": "markdown",
   "metadata": {},
   "source": [
    "# Saving my model"
   ]
  },
  {
   "cell_type": "code",
   "execution_count": 27,
   "metadata": {},
   "outputs": [],
   "source": [
    "model.save('cats_and_dogs.h5')"
   ]
  },
  {
   "cell_type": "markdown",
   "metadata": {},
   "source": [
    "# Let's plot the loss and accuracy of the model over the training and  validation data"
   ]
  },
  {
   "cell_type": "code",
   "execution_count": 28,
   "metadata": {},
   "outputs": [],
   "source": [
    "history_dict =history.history"
   ]
  },
  {
   "cell_type": "code",
   "execution_count": 29,
   "metadata": {},
   "outputs": [
    {
     "data": {
      "text/plain": [
       "dict_keys(['val_loss', 'val_accuracy', 'loss', 'accuracy'])"
      ]
     },
     "execution_count": 29,
     "metadata": {},
     "output_type": "execute_result"
    }
   ],
   "source": [
    "history_dict.keys()"
   ]
  },
  {
   "cell_type": "code",
   "execution_count": 30,
   "metadata": {},
   "outputs": [],
   "source": [
    "train_loss =history_dict['loss']\n",
    "train_accuracy =history_dict['accuracy']\n",
    "\n",
    "validation_accuracy =history_dict['val_accuracy']\n",
    "validation_loss =history_dict['val_loss']\n",
    "#epochs = range(1, len(acc) + 1)\n"
   ]
  },
  {
   "cell_type": "code",
   "execution_count": 31,
   "metadata": {},
   "outputs": [
    {
     "data": {
      "text/plain": [
       "<matplotlib.legend.Legend at 0x1d7dc0cf390>"
      ]
     },
     "execution_count": 31,
     "metadata": {},
     "output_type": "execute_result"
    },
    {
     "data": {
      "image/png": "[encoded data removed]",
      "text/plain": [
       "<Figure size 432x288 with 1 Axes>"
      ]
     },
     "metadata": {
      "needs_background": "light"
     },
     "output_type": "display_data"
    }
   ],
   "source": [
    "plt.title('Training and Validation Accuracy')\n",
    "plt.plot( train_accuracy,'bo', label='Training accuracy')\n",
    "plt.plot( validation_accuracy, 'b', label='Validation Accuracy')\n",
    "plt.legend()"
   ]
  },
  {
   "cell_type": "code",
   "execution_count": 34,
   "metadata": {},
   "outputs": [
    {
     "data": {
      "text/plain": [
       "Text(0, 0.5, 'Training Loss')"
      ]
     },
     "execution_count": 34,
     "metadata": {},
     "output_type": "execute_result"
    },
    {
     "data": {
      "image/png": "[encoded data removed]",
      "text/plain": [
       "<Figure size 432x288 with 1 Axes>"
      ]
     },
     "metadata": {
      "needs_background": "light"
     },
     "output_type": "display_data"
    }
   ],
   "source": [
    "plt.plot(train_accuracy,'b', label='Validation accuracy')\n",
    "plt.plot(validation_accuracy, 'bo', label='Validation Accuracy')\n",
    "plt.legend()\n",
    "plt.xlabel('Validation Loss')\n",
    "plt.ylabel('Training Loss')\n"
   ]
  },
  {
   "cell_type": "code",
   "execution_count": null,
   "metadata": {},
   "outputs": [],
   "source": []
  },
  {
   "cell_type": "code",
   "execution_count": null,
   "metadata": {},
   "outputs": [],
   "source": []
  }
 ],
 "metadata": {
  "kernelspec": {
   "display_name": "Python 3",
   "language": "python",
   "name": "python3"
  },
  "language_info": {
   "codemirror_mode": {
    "name": "ipython",
    "version": 3
   },
   "file_extension": ".py",
   "mimetype": "text/x-python",
   "name": "python",
   "nbconvert_exporter": "python",
   "pygments_lexer": "ipython3",
   "version": "3.7.3"
  }
 },
 "nbformat": 4,
 "nbformat_minor": 2
}
