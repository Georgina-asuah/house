{
 "cells": [
  {
   "cell_type": "code",
   "execution_count": 28,
   "metadata": {},
   "outputs": [],
   "source": [
    "import os, shutil\n",
    "from os.path import join\n",
    "from keras import optimizers\n",
    "from keras.preprocessing.image import ImageDataGenerator\n",
    "import matplotlib.pyplot as plt"
   ]
  },
  {
   "cell_type": "code",
   "execution_count": 2,
   "metadata": {},
   "outputs": [],
   "source": [
    "#original_dataset_dir = '/Users/Admin/Downloads/PetImages'\n",
    "\n",
    "mydata_source ='C:/Users/Admin/Documents/Nueral Networks/PetImages'\n",
    "base_dir ='C:/Users/Admin/Documents/Nueral Networks/cats_and_dogs'\n",
    "os.mkdir(base_dir)\n"
   ]
  },
  {
   "cell_type": "code",
   "execution_count": 3,
   "metadata": {},
   "outputs": [],
   "source": [
    "train_dir =os.path.join(base_dir,'train')\n",
    "os.mkdir(train_dir)"
   ]
  },
  {
   "cell_type": "code",
   "execution_count": 4,
   "metadata": {},
   "outputs": [],
   "source": [
    "test_dir =os.path.join(base_dir, 'test')\n",
    "os.mkdir(test_dir)"
   ]
  },
  {
   "cell_type": "code",
   "execution_count": 5,
   "metadata": {},
   "outputs": [],
   "source": [
    "validation_dir =os.path.join(base_dir, 'validation')\n",
    "os.mkdir(validation_dir)"
   ]
  },
  {
   "cell_type": "code",
   "execution_count": 6,
   "metadata": {},
   "outputs": [],
   "source": [
    "train_cats_dir =os.path.join(train_dir, 'cats')\n",
    "os.mkdir(train_cats_dir)"
   ]
  },
  {
   "cell_type": "code",
   "execution_count": 7,
   "metadata": {},
   "outputs": [],
   "source": [
    "train_dogs_dir =os.path.join(train_dir, 'dogs')\n",
    "os.mkdir(train_dogs_dir)"
   ]
  },
  {
   "cell_type": "code",
   "execution_count": 8,
   "metadata": {},
   "outputs": [],
   "source": [
    "test_cats_dir =os.path.join(test_dir, 'cats')\n",
    "os.mkdir(test_cats_dir)"
   ]
  },
  {
   "cell_type": "code",
   "execution_count": 9,
   "metadata": {},
   "outputs": [],
   "source": [
    "test_dogs_dir =os.path.join(test_dir,'dogs')\n",
    "os.mkdir(test_dogs_dir)"
   ]
  },
  {
   "cell_type": "code",
   "execution_count": 10,
   "metadata": {},
   "outputs": [],
   "source": [
    "validation_cats_dir =os.path.join(validation_dir,'cats')\n",
    "os.mkdir(validation_cats_dir)"
   ]
  },
  {
   "cell_type": "code",
   "execution_count": 11,
   "metadata": {},
   "outputs": [],
   "source": [
    "validation_dogs_dir =os.path.join(validation_dir, 'dogs')\n",
    "os.mkdir(validation_dogs_dir)"
   ]
  },
  {
   "cell_type": "code",
   "execution_count": 14,
   "metadata": {},
   "outputs": [
    {
     "name": "stdout",
     "output_type": "stream",
     "text": [
      "Can not locate the file 0.jpg\n"
     ]
    }
   ],
   "source": [
    "fnames =['{}.jpg'.format(i) for i in range(1000)]\n",
    "try:\n",
    "    for fname in fnames:\n",
    "        src =os.path.join(mydata_source, fname)\n",
    "        dst =os.path.join(base_dir, fname)\n",
    "        shutil.copyfile(src, dst)\n",
    "except FileNotFoundError:\n",
    "    print('Can not locate the file',fname)"
   ]
  },
  {
   "cell_type": "code",
   "execution_count": 15,
   "metadata": {},
   "outputs": [
    {
     "name": "stdout",
     "output_type": "stream",
     "text": [
      "total training Cat images: 1000 and the total training Dog images is 1000\n"
     ]
    }
   ],
   "source": [
    "print('total training Cat images:', len(os.listdir(train_cats_dir)),'and the total training Dog images is',len(os.listdir(train_dogs_dir)))"
   ]
  },
  {
   "cell_type": "code",
   "execution_count": 16,
   "metadata": {},
   "outputs": [
    {
     "name": "stdout",
     "output_type": "stream",
     "text": [
      "Total testing Cat images is  500 and total testing Dog images is 500\n"
     ]
    }
   ],
   "source": [
    "print('Total testing Cat images is ',len(os.listdir(test_cats_dir)),'and total testing Dog images is',len(os.listdir(test_dogs_dir)))"
   ]
  },
  {
   "cell_type": "code",
   "execution_count": 17,
   "metadata": {},
   "outputs": [
    {
     "name": "stdout",
     "output_type": "stream",
     "text": [
      "The total validation dog images is 500  and the total validation cat images is 500\n"
     ]
    }
   ],
   "source": [
    "print('The total validation dog images is', len(os.listdir(validation_dogs_dir)),' and the total validation cat images is',len(os.listdir(validation_cats_dir)))"
   ]
  },
  {
   "cell_type": "code",
   "execution_count": 18,
   "metadata": {},
   "outputs": [],
   "source": [
    "from keras import layers\n",
    "from keras import models"
   ]
  },
  {
   "cell_type": "code",
   "execution_count": 19,
   "metadata": {},
   "outputs": [],
   "source": [
    "model =models.Sequential()"
   ]
  },
  {
   "cell_type": "code",
   "execution_count": 20,
   "metadata": {},
   "outputs": [],
   "source": [
    "model.add(layers.Conv2D(32, (3,3), activation='relu', input_shape=(150,150,3)))\n",
    "model.add(layers.MaxPooling2D((2,2)))\n",
    "model.add(layers.Conv2D(64,(3,3), activation='relu'))\n",
    "model.add(layers.MaxPooling2D((2,2)))\n",
    "model.add(layers.Conv2D(128,(3,3), activation='relu'))\n",
    "model.add(layers.MaxPooling2D((2,2)))\n",
    "model.add(layers.Conv2D(128,(3,3), activation='relu'))\n",
    "model.add(layers.MaxPooling2D((2,2)))\n",
    "model.add(layers.Flatten())\n",
    "model.add(layers.Dense(512, activation='relu'))\n",
    "model.add(layers.Dense(1, activation='sigmoid'))"
   ]
  },
  {
   "cell_type": "code",
   "execution_count": 21,
   "metadata": {},
   "outputs": [
    {
     "name": "stdout",
     "output_type": "stream",
     "text": [
      "Model: \"sequential_1\"\n",
      "_________________________________________________________________\n",
      "Layer (type)                 Output Shape              Param #   \n",
      "=================================================================\n",
      "conv2d_1 (Conv2D)            (None, 148, 148, 32)      896       \n",
      "_________________________________________________________________\n",
      "max_pooling2d_1 (MaxPooling2 (None, 74, 74, 32)        0         \n",
      "_________________________________________________________________\n",
      "conv2d_2 (Conv2D)            (None, 72, 72, 64)        18496     \n",
      "_________________________________________________________________\n",
      "max_pooling2d_2 (MaxPooling2 (None, 36, 36, 64)        0         \n",
      "_________________________________________________________________\n",
      "conv2d_3 (Conv2D)            (None, 34, 34, 128)       73856     \n",
      "_________________________________________________________________\n",
      "max_pooling2d_3 (MaxPooling2 (None, 17, 17, 128)       0         \n",
      "_________________________________________________________________\n",
      "conv2d_4 (Conv2D)            (None, 15, 15, 128)       147584    \n",
      "_________________________________________________________________\n",
      "max_pooling2d_4 (MaxPooling2 (None, 7, 7, 128)         0         \n",
      "_________________________________________________________________\n",
      "flatten_1 (Flatten)          (None, 6272)              0         \n",
      "_________________________________________________________________\n",
      "dense_1 (Dense)              (None, 512)               3211776   \n",
      "_________________________________________________________________\n",
      "dense_2 (Dense)              (None, 1)                 513       \n",
      "=================================================================\n",
      "Total params: 3,453,121\n",
      "Trainable params: 3,453,121\n",
      "Non-trainable params: 0\n",
      "_________________________________________________________________\n"
     ]
    }
   ],
   "source": [
    "model.summary()"
   ]
  },
  {
   "cell_type": "markdown",
   "metadata": {},
   "source": [
    "# Compilation of my network"
   ]
  },
  {
   "cell_type": "code",
   "execution_count": 22,
   "metadata": {},
   "outputs": [],
   "source": [
    "model.compile(optimizer='RMSprop',\n",
    "             loss='binary_crossentropy', metrics =['accuracy'])"
   ]
  },
  {
   "cell_type": "markdown",
   "metadata": {},
   "source": [
    "# Using the ImageDataGenerator() class to read the files"
   ]
  },
  {
   "cell_type": "code",
   "execution_count": 23,
   "metadata": {},
   "outputs": [],
   "source": [
    "train_datagenerated =ImageDataGenerator(rescale=1.0/255)\n",
    "test_datagenerated =ImageDataGenerator(rescale =1./255)"
   ]
  },
  {
   "cell_type": "markdown",
   "metadata": {},
   "source": [
    "# Resize all the images into pixels"
   ]
  },
  {
   "cell_type": "code",
   "execution_count": 24,
   "metadata": {},
   "outputs": [
    {
     "name": "stdout",
     "output_type": "stream",
     "text": [
      "Found 2000 images belonging to 2 classes.\n"
     ]
    }
   ],
   "source": [
    "train_generator =train_datagenerated.flow_from_directory( train_dir, target_size=(150,150), batch_size=20, class_mode='binary')"
   ]
  },
  {
   "cell_type": "code",
   "execution_count": 25,
   "metadata": {},
   "outputs": [
    {
     "name": "stdout",
     "output_type": "stream",
     "text": [
      "Found 1000 images belonging to 2 classes.\n"
     ]
    }
   ],
   "source": [
    "validation_generator =test_datagenerated.flow_from_directory(validation_dir, target_size=(150,150), batch_size=20, class_mode='binary')"
   ]
  },
  {
   "cell_type": "code",
   "execution_count": 26,
   "metadata": {},
   "outputs": [
    {
     "name": "stdout",
     "output_type": "stream",
     "text": [
      "train is  (20, 150, 150, 3)\n",
      "the label shape is (20,)\n"
     ]
    }
   ],
   "source": [
    "for train_batch, label_batch in train_generator:\n",
    "    print('train is ',train_batch.shape)\n",
    "    print('the label shape is',label_batch.shape)\n",
    "    break"
   ]
  },
  {
   "cell_type": "markdown",
   "metadata": {},
   "source": [
    "# fitting our model using the fit() method"
   ]
  },
  {
   "cell_type": "code",
   "execution_count": 70,
   "metadata": {},
   "outputs": [
    {
     "name": "stdout",
     "output_type": "stream",
     "text": [
      "Epoch 1/50\n",
      "100/100 [==============================] - 81s 813ms/step - loss: 0.0949 - accuracy: 0.9880 - val_loss: 0.4206 - val_accuracy: 0.6940\n",
      "Epoch 2/50\n",
      "100/100 [==============================] - 93s 925ms/step - loss: 0.0434 - accuracy: 0.9945 - val_loss: 3.3589 - val_accuracy: 0.7070\n",
      "Epoch 3/50\n",
      "100/100 [==============================] - 87s 870ms/step - loss: 0.0136 - accuracy: 0.9970 - val_loss: 10.5143 - val_accuracy: 0.7140\n",
      "Epoch 4/50\n",
      "100/100 [==============================] - 81s 806ms/step - loss: 0.1058 - accuracy: 0.9875 - val_loss: 0.8478 - val_accuracy: 0.7230\n",
      "Epoch 5/50\n",
      "100/100 [==============================] - 64s 643ms/step - loss: 0.0568 - accuracy: 0.9900 - val_loss: 3.8194 - val_accuracy: 0.6950\n",
      "Epoch 6/50\n",
      "100/100 [==============================] - 63s 634ms/step - loss: 0.0450 - accuracy: 0.9940 - val_loss: 1.4555 - val_accuracy: 0.6910\n",
      "Epoch 7/50\n",
      "100/100 [==============================] - 63s 632ms/step - loss: 0.0653 - accuracy: 0.9925 - val_loss: 3.8715 - val_accuracy: 0.7270\n",
      "Epoch 8/50\n",
      "100/100 [==============================] - 64s 636ms/step - loss: 0.1273 - accuracy: 0.9875 - val_loss: 5.0972 - val_accuracy: 0.6660\n",
      "Epoch 9/50\n",
      "100/100 [==============================] - 64s 643ms/step - loss: 0.0206 - accuracy: 0.9955 - val_loss: 2.8254 - val_accuracy: 0.7080\n",
      "Epoch 10/50\n",
      "100/100 [==============================] - 65s 653ms/step - loss: 0.0707 - accuracy: 0.9885 - val_loss: 5.6445 - val_accuracy: 0.7260\n",
      "Epoch 11/50\n",
      "100/100 [==============================] - 64s 645ms/step - loss: 0.0441 - accuracy: 0.9930 - val_loss: 9.7221 - val_accuracy: 0.6870\n",
      "Epoch 12/50\n",
      "100/100 [==============================] - 65s 648ms/step - loss: 0.1461 - accuracy: 0.9915 - val_loss: 3.1785 - val_accuracy: 0.7260\n",
      "Epoch 13/50\n",
      "100/100 [==============================] - 64s 643ms/step - loss: 0.1482 - accuracy: 0.9905 - val_loss: 10.7928 - val_accuracy: 0.6970\n",
      "Epoch 14/50\n",
      "100/100 [==============================] - 64s 639ms/step - loss: 0.0184 - accuracy: 0.9945 - val_loss: 4.2205 - val_accuracy: 0.7190\n",
      "Epoch 15/50\n",
      "100/100 [==============================] - 65s 651ms/step - loss: 0.0512 - accuracy: 0.9925 - val_loss: 4.5558 - val_accuracy: 0.7300\n",
      "Epoch 16/50\n",
      "100/100 [==============================] - 68s 676ms/step - loss: 0.0065 - accuracy: 0.9990 - val_loss: 4.8970 - val_accuracy: 0.7190\n",
      "Epoch 17/50\n",
      "100/100 [==============================] - 65s 654ms/step - loss: 0.0403 - accuracy: 0.9940 - val_loss: 7.5789 - val_accuracy: 0.7300\n",
      "Epoch 18/50\n",
      "100/100 [==============================] - 65s 650ms/step - loss: 0.1045 - accuracy: 0.9915 - val_loss: 9.0073 - val_accuracy: 0.7350\n",
      "Epoch 19/50\n",
      "100/100 [==============================] - 64s 639ms/step - loss: 0.0200 - accuracy: 0.9945 - val_loss: 2.0854 - val_accuracy: 0.7250\n",
      "Epoch 20/50\n",
      "100/100 [==============================] - 66s 661ms/step - loss: 0.0346 - accuracy: 0.9940 - val_loss: 5.5163 - val_accuracy: 0.7220\n",
      "Epoch 21/50\n",
      "100/100 [==============================] - 65s 645ms/step - loss: 0.0555 - accuracy: 0.9925 - val_loss: 11.8273 - val_accuracy: 0.7140\n",
      "Epoch 22/50\n",
      "100/100 [==============================] - 65s 645ms/step - loss: 0.0817 - accuracy: 0.9910 - val_loss: 4.9011 - val_accuracy: 0.7240\n",
      "Epoch 23/50\n",
      "100/100 [==============================] - 66s 656ms/step - loss: 0.0926 - accuracy: 0.9955 - val_loss: 17.8205 - val_accuracy: 0.7120\n",
      "Epoch 24/50\n",
      "100/100 [==============================] - 67s 668ms/step - loss: 0.0848 - accuracy: 0.9915 - val_loss: 4.7873 - val_accuracy: 0.6960\n",
      "Epoch 25/50\n",
      "100/100 [==============================] - 60s 603ms/step - loss: 0.1304 - accuracy: 0.9885 - val_loss: 6.2299 - val_accuracy: 0.7060\n",
      "Epoch 26/50\n",
      "100/100 [==============================] - 60s 599ms/step - loss: 0.0126 - accuracy: 0.9985 - val_loss: 15.1233 - val_accuracy: 0.7160\n",
      "Epoch 27/50\n",
      "100/100 [==============================] - 61s 606ms/step - loss: 0.0353 - accuracy: 0.9945 - val_loss: 7.5995 - val_accuracy: 0.7230\n",
      "Epoch 28/50\n",
      "100/100 [==============================] - 61s 608ms/step - loss: 0.0552 - accuracy: 0.9925 - val_loss: 6.0399 - val_accuracy: 0.7380\n",
      "Epoch 29/50\n",
      "100/100 [==============================] - 60s 600ms/step - loss: 0.0406 - accuracy: 0.9940 - val_loss: 7.6550 - val_accuracy: 0.7030\n",
      "Epoch 30/50\n",
      "100/100 [==============================] - 61s 610ms/step - loss: 0.1034 - accuracy: 0.9905 - val_loss: 10.4374 - val_accuracy: 0.7000\n",
      "Epoch 31/50\n",
      "100/100 [==============================] - 60s 601ms/step - loss: 0.0341 - accuracy: 0.9960 - val_loss: 6.8021 - val_accuracy: 0.7020\n",
      "Epoch 32/50\n",
      "100/100 [==============================] - 61s 613ms/step - loss: 0.0872 - accuracy: 0.9915 - val_loss: 5.3448 - val_accuracy: 0.7200\n",
      "Epoch 33/50\n",
      "100/100 [==============================] - 60s 604ms/step - loss: 0.0216 - accuracy: 0.9985 - val_loss: 5.9986 - val_accuracy: 0.7040\n",
      "Epoch 34/50\n",
      "100/100 [==============================] - 60s 600ms/step - loss: 0.0651 - accuracy: 0.9920 - val_loss: 7.0331 - val_accuracy: 0.7110\n",
      "Epoch 35/50\n",
      "100/100 [==============================] - 61s 609ms/step - loss: 0.0735 - accuracy: 0.9945 - val_loss: 3.5479 - val_accuracy: 0.7110\n",
      "Epoch 36/50\n",
      "100/100 [==============================] - 61s 607ms/step - loss: 0.0606 - accuracy: 0.9950 - val_loss: 2.6888 - val_accuracy: 0.7260\n",
      "Epoch 37/50\n",
      "100/100 [==============================] - 61s 607ms/step - loss: 3.0093e-06 - accuracy: 1.0000 - val_loss: 20.9281 - val_accuracy: 0.7320\n",
      "Epoch 38/50\n",
      "100/100 [==============================] - 60s 599ms/step - loss: 1.5334e-08 - accuracy: 1.0000 - val_loss: 1.4400 - val_accuracy: 0.7250\n",
      "Epoch 39/50\n",
      "100/100 [==============================] - 61s 605ms/step - loss: 1.9141e-11 - accuracy: 1.0000 - val_loss: 11.4774 - val_accuracy: 0.7280\n",
      "Epoch 40/50\n",
      "100/100 [==============================] - 60s 602ms/step - loss: 1.4921e-11 - accuracy: 1.0000 - val_loss: 18.7880 - val_accuracy: 0.7290\n",
      "Epoch 41/50\n",
      "100/100 [==============================] - 61s 607ms/step - loss: 1.2549e-11 - accuracy: 1.0000 - val_loss: 8.6007 - val_accuracy: 0.7290\n",
      "Epoch 42/50\n",
      "100/100 [==============================] - 60s 602ms/step - loss: 1.1268e-11 - accuracy: 1.0000 - val_loss: 16.0302 - val_accuracy: 0.7290\n",
      "Epoch 43/50\n",
      "100/100 [==============================] - 59s 590ms/step - loss: 1.0722e-11 - accuracy: 1.0000 - val_loss: 7.4051 - val_accuracy: 0.7290\n",
      "Epoch 44/50\n",
      "100/100 [==============================] - 60s 597ms/step - loss: 9.9274e-12 - accuracy: 1.0000 - val_loss: 42.3566 - val_accuracy: 0.7280\n",
      "Epoch 45/50\n",
      "100/100 [==============================] - 59s 590ms/step - loss: 9.6309e-12 - accuracy: 1.0000 - val_loss: 11.5888 - val_accuracy: 0.7280\n",
      "Epoch 46/50\n",
      "100/100 [==============================] - 59s 586ms/step - loss: 9.3352e-12 - accuracy: 1.0000 - val_loss: 11.1780 - val_accuracy: 0.7280\n",
      "Epoch 47/50\n",
      "100/100 [==============================] - 59s 592ms/step - loss: 8.9797e-12 - accuracy: 1.0000 - val_loss: 7.7161 - val_accuracy: 0.7280\n",
      "Epoch 48/50\n",
      "100/100 [==============================] - 60s 595ms/step - loss: 8.7043e-12 - accuracy: 1.0000 - val_loss: 3.9957 - val_accuracy: 0.7280\n",
      "Epoch 49/50\n",
      "100/100 [==============================] - 59s 591ms/step - loss: 8.6031e-12 - accuracy: 1.0000 - val_loss: 11.7678 - val_accuracy: 0.7270\n",
      "Epoch 50/50\n",
      "100/100 [==============================] - 59s 587ms/step - loss: 8.6015e-12 - accuracy: 1.0000 - val_loss: 13.0966 - val_accuracy: 0.7270\n"
     ]
    }
   ],
   "source": [
    "history =model.fit_generator(train_generator, steps_per_epoch=100, epochs =50, \n",
    "                           validation_data=validation_generator, validation_steps=50)"
   ]
  },
  {
   "cell_type": "markdown",
   "metadata": {},
   "source": [
    "# Saving my model"
   ]
  },
  {
   "cell_type": "code",
   "execution_count": 71,
   "metadata": {},
   "outputs": [],
   "source": [
    "model.save('cats_and_dogs.h5')"
   ]
  },
  {
   "cell_type": "markdown",
   "metadata": {},
   "source": [
    "# Let's plot the loss and accuracy of the model over the training and  validation data"
   ]
  },
  {
   "cell_type": "code",
   "execution_count": 72,
   "metadata": {},
   "outputs": [],
   "source": [
    "history_dict =history.history"
   ]
  },
  {
   "cell_type": "code",
   "execution_count": 73,
   "metadata": {},
   "outputs": [
    {
     "data": {
      "text/plain": [
       "dict_keys(['val_loss', 'val_accuracy', 'loss', 'accuracy'])"
      ]
     },
     "execution_count": 73,
     "metadata": {},
     "output_type": "execute_result"
    }
   ],
   "source": [
    "history_dict.keys()"
   ]
  },
  {
   "cell_type": "code",
   "execution_count": 74,
   "metadata": {},
   "outputs": [],
   "source": [
    "train_loss =history_dict['loss']\n",
    "train_accuracy =history_dict['accuracy']\n",
    "\n",
    "validation_accuracy =history_dict['val_accuracy']\n",
    "validation_loss =history_dict['val_loss']\n",
    "#epochs = range(1, len(acc) + 1)\n"
   ]
  },
  {
   "cell_type": "code",
   "execution_count": 75,
   "metadata": {},
   "outputs": [
    {
     "data": {
      "text/plain": [
       "<matplotlib.legend.Legend at 0x2e9d17149b0>"
      ]
     },
     "execution_count": 75,
     "metadata": {},
     "output_type": "execute_result"
    },
    {
     "data": {
      "image/png": "[encoded data removed]",
      "text/plain": [
       "<Figure size 432x288 with 1 Axes>"
      ]
     },
     "metadata": {
      "needs_background": "light"
     },
     "output_type": "display_data"
    }
   ],
   "source": [
    "plt.title('Training and Validation Accuracy')\n",
    "plt.plot( train_accuracy,'bo', label='Training accuracy')\n",
    "plt.plot( validation_accuracy, 'b', label='Validation Accuracy')\n",
    "plt.legend()"
   ]
  },
  {
   "cell_type": "code",
   "execution_count": 76,
   "metadata": {},
   "outputs": [
    {
     "data": {
      "text/plain": [
       "[<matplotlib.lines.Line2D at 0x2e9803677f0>]"
      ]
     },
     "execution_count": 76,
     "metadata": {},
     "output_type": "execute_result"
    },
    {
     "data": {
      "image/png": "[encoded data removed]",
      "text/plain": [
       "<Figure size 432x288 with 1 Axes>"
      ]
     },
     "metadata": {
      "needs_background": "light"
     },
     "output_type": "display_data"
    }
   ],
   "source": [
    "plt.plot(validation_accuracy, 'bo', label='Validation loss')\n",
    "plt.plot(train_accuracy,'b', label='Validation accuracy')"
   ]
  },
  {
   "cell_type": "code",
   "execution_count": null,
   "metadata": {},
   "outputs": [],
   "source": []
  },
  {
   "cell_type": "code",
   "execution_count": null,
   "metadata": {},
   "outputs": [],
   "source": []
  }
 ],
 "metadata": {
  "kernelspec": {
   "display_name": "Python 3",
   "language": "python",
   "name": "python3"
  },
  "language_info": {
   "codemirror_mode": {
    "name": "ipython",
    "version": 3
   },
   "file_extension": ".py",
   "mimetype": "text/x-python",
   "name": "python",
   "nbconvert_exporter": "python",
   "pygments_lexer": "ipython3",
   "version": "3.7.3"
  }
 },
 "nbformat": 4,
 "nbformat_minor": 2
}
