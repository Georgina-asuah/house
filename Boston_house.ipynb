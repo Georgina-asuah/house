{
  "nbformat": 4,
  "nbformat_minor": 0,
  "metadata": {
    "colab": {
      "name": "Boston_house.ipynb",
      "provenance": [],
      "collapsed_sections": [],
      "toc_visible": true
    },
    "kernelspec": {
      "name": "python3",
      "display_name": "Python 3"
    }
  },
  "cells": [
    {
      "cell_type": "markdown",
      "metadata": {
        "id": "n6ll2XTGynSk",
        "colab_type": "text"
      },
      "source": [
        "# This is the Boston datasets that I will use for my prediction"
      ]
    },
    {
      "cell_type": "code",
      "metadata": {
        "id": "_CvfNpYKyvfB",
        "colab_type": "code",
        "colab": {
          "base_uri": "https://localhost:8080/",
          "height": 35
        },
        "outputId": "38e7690f-c26f-4367-a6f2-71539d624f0b"
      },
      "source": [
        "from keras.datasets import boston_housing\n",
        "from keras import models\n",
        "from keras import layers\n",
        "import numpy as np\n",
        "import matplotlib.pyplot as plt"
      ],
      "execution_count": 1,
      "outputs": [
        {
          "output_type": "stream",
          "text": [
            "Using TensorFlow backend.\n"
          ],
          "name": "stderr"
        }
      ]
    },
    {
      "cell_type": "code",
      "metadata": {
        "id": "QdpSVGYu3rBt",
        "colab_type": "code",
        "colab": {}
      },
      "source": [
        "(train_data, train_labels),(test_data, test_labels) =boston_housing.load_data()"
      ],
      "execution_count": 0,
      "outputs": []
    },
    {
      "cell_type": "code",
      "metadata": {
        "id": "NtUCQtnV33r2",
        "colab_type": "code",
        "outputId": "e269ef69-a4d0-499d-8bb7-07021d8a72b8",
        "colab": {
          "base_uri": "https://localhost:8080/",
          "height": 35
        }
      },
      "source": [
        "train_data.shape"
      ],
      "execution_count": 3,
      "outputs": [
        {
          "output_type": "execute_result",
          "data": {
            "text/plain": [
              "(404, 13)"
            ]
          },
          "metadata": {
            "tags": []
          },
          "execution_count": 3
        }
      ]
    },
    {
      "cell_type": "code",
      "metadata": {
        "id": "Cg7DTRom3986",
        "colab_type": "code",
        "outputId": "c8bb5294-4d73-4643-b90f-29a06d550175",
        "colab": {
          "base_uri": "https://localhost:8080/",
          "height": 35
        }
      },
      "source": [
        "train_labels.shape"
      ],
      "execution_count": 4,
      "outputs": [
        {
          "output_type": "execute_result",
          "data": {
            "text/plain": [
              "(404,)"
            ]
          },
          "metadata": {
            "tags": []
          },
          "execution_count": 4
        }
      ]
    },
    {
      "cell_type": "code",
      "metadata": {
        "id": "o5wGmau44HTa",
        "colab_type": "code",
        "outputId": "b3ab00b1-7589-4217-ae31-10258f3976b6",
        "colab": {
          "base_uri": "https://localhost:8080/",
          "height": 35
        }
      },
      "source": [
        "test_data.shape"
      ],
      "execution_count": 5,
      "outputs": [
        {
          "output_type": "execute_result",
          "data": {
            "text/plain": [
              "(102, 13)"
            ]
          },
          "metadata": {
            "tags": []
          },
          "execution_count": 5
        }
      ]
    },
    {
      "cell_type": "code",
      "metadata": {
        "id": "Bl0UsXmS4P29",
        "colab_type": "code",
        "outputId": "6f5d59c6-777a-4670-8b5f-d0d1719d7906",
        "colab": {
          "base_uri": "https://localhost:8080/",
          "height": 659
        }
      },
      "source": [
        "train_labels"
      ],
      "execution_count": 6,
      "outputs": [
        {
          "output_type": "execute_result",
          "data": {
            "text/plain": [
              "array([15.2, 42.3, 50. , 21.1, 17.7, 18.5, 11.3, 15.6, 15.6, 14.4, 12.1,\n",
              "       17.9, 23.1, 19.9, 15.7,  8.8, 50. , 22.5, 24.1, 27.5, 10.9, 30.8,\n",
              "       32.9, 24. , 18.5, 13.3, 22.9, 34.7, 16.6, 17.5, 22.3, 16.1, 14.9,\n",
              "       23.1, 34.9, 25. , 13.9, 13.1, 20.4, 20. , 15.2, 24.7, 22.2, 16.7,\n",
              "       12.7, 15.6, 18.4, 21. , 30.1, 15.1, 18.7,  9.6, 31.5, 24.8, 19.1,\n",
              "       22. , 14.5, 11. , 32. , 29.4, 20.3, 24.4, 14.6, 19.5, 14.1, 14.3,\n",
              "       15.6, 10.5,  6.3, 19.3, 19.3, 13.4, 36.4, 17.8, 13.5, 16.5,  8.3,\n",
              "       14.3, 16. , 13.4, 28.6, 43.5, 20.2, 22. , 23. , 20.7, 12.5, 48.5,\n",
              "       14.6, 13.4, 23.7, 50. , 21.7, 39.8, 38.7, 22.2, 34.9, 22.5, 31.1,\n",
              "       28.7, 46. , 41.7, 21. , 26.6, 15. , 24.4, 13.3, 21.2, 11.7, 21.7,\n",
              "       19.4, 50. , 22.8, 19.7, 24.7, 36.2, 14.2, 18.9, 18.3, 20.6, 24.6,\n",
              "       18.2,  8.7, 44. , 10.4, 13.2, 21.2, 37. , 30.7, 22.9, 20. , 19.3,\n",
              "       31.7, 32. , 23.1, 18.8, 10.9, 50. , 19.6,  5. , 14.4, 19.8, 13.8,\n",
              "       19.6, 23.9, 24.5, 25. , 19.9, 17.2, 24.6, 13.5, 26.6, 21.4, 11.9,\n",
              "       22.6, 19.6,  8.5, 23.7, 23.1, 22.4, 20.5, 23.6, 18.4, 35.2, 23.1,\n",
              "       27.9, 20.6, 23.7, 28. , 13.6, 27.1, 23.6, 20.6, 18.2, 21.7, 17.1,\n",
              "        8.4, 25.3, 13.8, 22.2, 18.4, 20.7, 31.6, 30.5, 20.3,  8.8, 19.2,\n",
              "       19.4, 23.1, 23. , 14.8, 48.8, 22.6, 33.4, 21.1, 13.6, 32.2, 13.1,\n",
              "       23.4, 18.9, 23.9, 11.8, 23.3, 22.8, 19.6, 16.7, 13.4, 22.2, 20.4,\n",
              "       21.8, 26.4, 14.9, 24.1, 23.8, 12.3, 29.1, 21. , 19.5, 23.3, 23.8,\n",
              "       17.8, 11.5, 21.7, 19.9, 25. , 33.4, 28.5, 21.4, 24.3, 27.5, 33.1,\n",
              "       16.2, 23.3, 48.3, 22.9, 22.8, 13.1, 12.7, 22.6, 15. , 15.3, 10.5,\n",
              "       24. , 18.5, 21.7, 19.5, 33.2, 23.2,  5. , 19.1, 12.7, 22.3, 10.2,\n",
              "       13.9, 16.3, 17. , 20.1, 29.9, 17.2, 37.3, 45.4, 17.8, 23.2, 29. ,\n",
              "       22. , 18. , 17.4, 34.6, 20.1, 25. , 15.6, 24.8, 28.2, 21.2, 21.4,\n",
              "       23.8, 31. , 26.2, 17.4, 37.9, 17.5, 20. ,  8.3, 23.9,  8.4, 13.8,\n",
              "        7.2, 11.7, 17.1, 21.6, 50. , 16.1, 20.4, 20.6, 21.4, 20.6, 36.5,\n",
              "        8.5, 24.8, 10.8, 21.9, 17.3, 18.9, 36.2, 14.9, 18.2, 33.3, 21.8,\n",
              "       19.7, 31.6, 24.8, 19.4, 22.8,  7.5, 44.8, 16.8, 18.7, 50. , 50. ,\n",
              "       19.5, 20.1, 50. , 17.2, 20.8, 19.3, 41.3, 20.4, 20.5, 13.8, 16.5,\n",
              "       23.9, 20.6, 31.5, 23.3, 16.8, 14. , 33.8, 36.1, 12.8, 18.3, 18.7,\n",
              "       19.1, 29. , 30.1, 50. , 50. , 22. , 11.9, 37.6, 50. , 22.7, 20.8,\n",
              "       23.5, 27.9, 50. , 19.3, 23.9, 22.6, 15.2, 21.7, 19.2, 43.8, 20.3,\n",
              "       33.2, 19.9, 22.5, 32.7, 22. , 17.1, 19. , 15. , 16.1, 25.1, 23.7,\n",
              "       28.7, 37.2, 22.6, 16.4, 25. , 29.8, 22.1, 17.4, 18.1, 30.3, 17.5,\n",
              "       24.7, 12.6, 26.5, 28.7, 13.3, 10.4, 24.4, 23. , 20. , 17.8,  7. ,\n",
              "       11.8, 24.4, 13.8, 19.4, 25.2, 19.4, 19.4, 29.1])"
            ]
          },
          "metadata": {
            "tags": []
          },
          "execution_count": 6
        }
      ]
    },
    {
      "cell_type": "code",
      "metadata": {
        "id": "qpNC-T9t4X4c",
        "colab_type": "code",
        "colab": {}
      },
      "source": [
        "mean =train_data.mean(axis =0)\n",
        "std  =train_data.std(axis =0)\n",
        "train_data =train_data - mean\n",
        "train_data =train_data /std\n",
        "\n",
        "test_data =test_data -mean\n",
        "test_data =test_data / std\n"
      ],
      "execution_count": 0,
      "outputs": []
    },
    {
      "cell_type": "markdown",
      "metadata": {
        "id": "wQypd-tirnpS",
        "colab_type": "text"
      },
      "source": [
        "# We build our model"
      ]
    },
    {
      "cell_type": "code",
      "metadata": {
        "id": "EdXvab074thb",
        "colab_type": "code",
        "colab": {}
      },
      "source": [
        "def build_model():\n",
        "  model_1 =models.Sequential()\n",
        "  model_1.add(layers.Dense(64, activation='relu', input_shape =(train_data.shape[1],)))\n",
        "  model_1.add(layers.Dense(64, activation ='relu'))\n",
        "  model_1.add(layers.Dense(1))\n",
        "  model_1.compile(optimizer ='rmsprop', loss='mse', metrics=['mae'])\n",
        "  return model_1\n",
        "\n",
        "#model =build_model()\n"
      ],
      "execution_count": 0,
      "outputs": []
    },
    {
      "cell_type": "code",
      "metadata": {
        "id": "EFs2Q6jh4xms",
        "colab_type": "code",
        "colab": {}
      },
      "source": [
        " k =4\n",
        " num_val_samples =len(train_data) // k\n",
        " all_score =[]\n",
        " all_mae_scores =[]"
      ],
      "execution_count": 0,
      "outputs": []
    },
    {
      "cell_type": "code",
      "metadata": {
        "id": "I7sDRdo6CaDW",
        "colab_type": "code",
        "colab": {
          "base_uri": "https://localhost:8080/",
          "height": 87
        },
        "outputId": "565abca5-6873-44f6-e881-8092452dd325"
      },
      "source": [
        "for i in range(k):\n",
        "  print('Processing folds is #',i)\n",
        "  val_data =train_data[i * num_val_samples:(i +1) * num_val_samples]\n",
        "  val_labels =train_labels[i * num_val_samples: (i + 1) * num_val_samples]\n",
        "  partial_train_data   = np.concatenate([train_data[:i * num_val_samples], train_data[(i + 1) * num_val_samples:]], axis=0)\n",
        "  partial_train_labels = np.concatenate([train_labels[:i * num_val_samples], train_labels[(i + 1) * num_val_samples:]])"
      ],
      "execution_count": 10,
      "outputs": [
        {
          "output_type": "stream",
          "text": [
            "Processing folds is # 0\n",
            "Processing folds is # 1\n",
            "Processing folds is # 2\n",
            "Processing folds is # 3\n"
          ],
          "name": "stdout"
        }
      ]
    },
    {
      "cell_type": "code",
      "metadata": {
        "id": "JV1OFFJAOZqk",
        "colab_type": "code",
        "colab": {
          "base_uri": "https://localhost:8080/",
          "height": 191
        },
        "outputId": "b5b98c41-fdb1-4ae7-aabf-1d7236ec02cd"
      },
      "source": [
        "model = build_model()\n",
        "network_1 =model.fit(partial_train_data, partial_train_labels, epochs=5, batch_size=1)\n",
        "val_mse, val_mae =(val_data, val_labels)\n",
        "all_score.append(val_mae)\n",
        "all_scores.append(val_mse)"
      ],
      "execution_count": 33,
      "outputs": [
        {
          "output_type": "stream",
          "text": [
            "Epoch 1/5\n",
            "303/303 [==============================] - 0s 1ms/step - loss: 178.5296 - mae: 9.8378\n",
            "Epoch 2/5\n",
            "303/303 [==============================] - 0s 1ms/step - loss: 25.2890 - mae: 3.3719\n",
            "Epoch 3/5\n",
            "303/303 [==============================] - 0s 1ms/step - loss: 19.8219 - mae: 2.9358\n",
            "Epoch 4/5\n",
            "303/303 [==============================] - 0s 1ms/step - loss: 16.8279 - mae: 2.7204\n",
            "Epoch 5/5\n",
            "303/303 [==============================] - 0s 1ms/step - loss: 14.5869 - mae: 2.5475\n"
          ],
          "name": "stdout"
        }
      ]
    },
    {
      "cell_type": "code",
      "metadata": {
        "id": "cxbPZW0gOfGK",
        "colab_type": "code",
        "colab": {}
      },
      "source": [
        "network_1_dict =network_1.history"
      ],
      "execution_count": 0,
      "outputs": []
    },
    {
      "cell_type": "code",
      "metadata": {
        "id": "9tr5i0NbOgUf",
        "colab_type": "code",
        "colab": {
          "base_uri": "https://localhost:8080/",
          "height": 121
        },
        "outputId": "6552e5d4-52b2-4914-da46-b9cb853c3950"
      },
      "source": [
        "network_1_dict"
      ],
      "execution_count": 35,
      "outputs": [
        {
          "output_type": "execute_result",
          "data": {
            "text/plain": [
              "{'loss': [178.52958466803267,\n",
              "  25.289020842022403,\n",
              "  19.8218855034027,\n",
              "  16.827930437966494,\n",
              "  14.58688631224874],\n",
              " 'mae': [9.837761, 3.3718684, 2.9357743, 2.7203987, 2.5474713]}"
            ]
          },
          "metadata": {
            "tags": []
          },
          "execution_count": 35
        }
      ]
    },
    {
      "cell_type": "code",
      "metadata": {
        "id": "WLhw2xHDfP6W",
        "colab_type": "code",
        "colab": {
          "base_uri": "https://localhost:8080/",
          "height": 35
        },
        "outputId": "6f298c6f-279c-4825-9bc8-cad2b27d1741"
      },
      "source": [
        "network_1_dict.keys()"
      ],
      "execution_count": 36,
      "outputs": [
        {
          "output_type": "execute_result",
          "data": {
            "text/plain": [
              "dict_keys(['loss', 'mae'])"
            ]
          },
          "metadata": {
            "tags": []
          },
          "execution_count": 36
        }
      ]
    },
    {
      "cell_type": "code",
      "metadata": {
        "id": "fsWL-I_tfR2X",
        "colab_type": "code",
        "colab": {}
      },
      "source": [
        "myloss =network_1_dict['loss']\n",
        "mymae  =network_1_dict['mae']"
      ],
      "execution_count": 0,
      "outputs": []
    },
    {
      "cell_type": "code",
      "metadata": {
        "id": "8eWSEvGUhdGt",
        "colab_type": "code",
        "colab": {
          "base_uri": "https://localhost:8080/",
          "height": 555
        },
        "outputId": "292f5167-f051-4f38-8c6e-8bfd4a36a795"
      },
      "source": [
        "plt.figure(figsize =(10, 9))\n",
        "plt.plot(myloss,  label='Training Losses')\n",
        "plt.plot(mymae, label=('Validation Losses'))\n"
      ],
      "execution_count": 47,
      "outputs": [
        {
          "output_type": "execute_result",
          "data": {
            "text/plain": [
              "[<matplotlib.lines.Line2D at 0x7fcbb2555c50>]"
            ]
          },
          "metadata": {
            "tags": []
          },
          "execution_count": 47
        },
        {
          "output_type": "display_data",
          "data": {
            "image/png": "[encoded data removed]",
            "text/plain": [
              "<Figure size 720x648 with 1 Axes>"
            ]
          },
          "metadata": {
            "tags": [],
            "needs_background": "light"
          }
        }
      ]
    },
    {
      "cell_type": "code",
      "metadata": {
        "id": "BmyOTPjJheAx",
        "colab_type": "code",
        "colab": {}
      },
      "source": [
        "y_predict =model.predict(test_data)"
      ],
      "execution_count": 0,
      "outputs": []
    },
    {
      "cell_type": "code",
      "metadata": {
        "id": "93zMd561huJj",
        "colab_type": "code",
        "colab": {
          "base_uri": "https://localhost:8080/",
          "height": 1000
        },
        "outputId": "7fe77b82-9a15-4b60-fd9a-896262cd7361"
      },
      "source": [
        "print(y_predict)"
      ],
      "execution_count": 50,
      "outputs": [
        {
          "output_type": "stream",
          "text": [
            "[[ 8.34609  ]\n",
            " [17.702364 ]\n",
            " [21.561893 ]\n",
            " [29.36466  ]\n",
            " [24.79196  ]\n",
            " [18.94592  ]\n",
            " [25.927614 ]\n",
            " [21.642427 ]\n",
            " [19.638323 ]\n",
            " [21.142405 ]\n",
            " [18.341627 ]\n",
            " [17.76055  ]\n",
            " [17.589266 ]\n",
            " [40.723328 ]\n",
            " [16.862984 ]\n",
            " [18.139906 ]\n",
            " [27.39675  ]\n",
            " [21.24077  ]\n",
            " [18.503824 ]\n",
            " [23.406214 ]\n",
            " [12.511705 ]\n",
            " [15.478947 ]\n",
            " [20.435038 ]\n",
            " [13.704268 ]\n",
            " [23.098738 ]\n",
            " [22.651228 ]\n",
            " [30.013754 ]\n",
            " [29.24061  ]\n",
            " [10.966835 ]\n",
            " [20.702452 ]\n",
            " [19.192196 ]\n",
            " [14.201758 ]\n",
            " [31.766394 ]\n",
            " [25.510853 ]\n",
            " [17.052828 ]\n",
            " [ 9.994725 ]\n",
            " [15.687246 ]\n",
            " [16.20016  ]\n",
            " [23.257788 ]\n",
            " [26.80165  ]\n",
            " [28.462748 ]\n",
            " [27.48657  ]\n",
            " [15.062202 ]\n",
            " [37.803898 ]\n",
            " [30.801628 ]\n",
            " [23.461035 ]\n",
            " [25.249891 ]\n",
            " [15.875345 ]\n",
            " [21.53227  ]\n",
            " [22.174871 ]\n",
            " [32.54087  ]\n",
            " [17.5195   ]\n",
            " [12.990883 ]\n",
            " [16.428713 ]\n",
            " [32.77813  ]\n",
            " [27.526747 ]\n",
            " [13.598696 ]\n",
            " [43.783993 ]\n",
            " [32.011486 ]\n",
            " [23.960072 ]\n",
            " [23.304998 ]\n",
            " [17.150995 ]\n",
            " [13.990675 ]\n",
            " [18.446123 ]\n",
            " [23.421768 ]\n",
            " [24.287703 ]\n",
            " [14.234707 ]\n",
            " [22.311052 ]\n",
            " [16.444227 ]\n",
            " [ 7.9864554]\n",
            " [23.806932 ]\n",
            " [27.514936 ]\n",
            " [22.5228   ]\n",
            " [17.563782 ]\n",
            " [23.308443 ]\n",
            " [18.016981 ]\n",
            " [19.912334 ]\n",
            " [23.41403  ]\n",
            " [33.69359  ]\n",
            " [12.100384 ]\n",
            " [18.380934 ]\n",
            " [36.622356 ]\n",
            " [14.307602 ]\n",
            " [15.076001 ]\n",
            " [17.778456 ]\n",
            " [16.99031  ]\n",
            " [18.318968 ]\n",
            " [21.83322  ]\n",
            " [24.602167 ]\n",
            " [27.580294 ]\n",
            " [18.164312 ]\n",
            " [20.048246 ]\n",
            " [24.5048   ]\n",
            " [39.06645  ]\n",
            " [33.327892 ]\n",
            " [20.563055 ]\n",
            " [34.900364 ]\n",
            " [40.75111  ]\n",
            " [27.288862 ]\n",
            " [43.28218  ]\n",
            " [31.21913  ]\n",
            " [18.464739 ]]\n"
          ],
          "name": "stdout"
        }
      ]
    },
    {
      "cell_type": "code",
      "metadata": {
        "id": "WpZztIYHh_8F",
        "colab_type": "code",
        "colab": {}
      },
      "source": [
        "\n"
      ],
      "execution_count": 0,
      "outputs": []
    },
    {
      "cell_type": "code",
      "metadata": {
        "id": "duV8LSJUjw92",
        "colab_type": "code",
        "colab": {}
      },
      "source": [
        "model_1 build_model()\n",
        "model_1.fit(train_data, train_label, epochs =500, batch_size=1)"
      ],
      "execution_count": 0,
      "outputs": []
    }
  ]
}