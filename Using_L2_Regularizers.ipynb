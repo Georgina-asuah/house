{
  "nbformat": 4,
  "nbformat_minor": 0,
  "metadata": {
    "colab": {
      "name": "Using_L2_Regularizers.ipynb",
      "provenance": [],
      "collapsed_sections": []
    },
    "kernelspec": {
      "name": "python3",
      "display_name": "Python 3"
    }
  },
  "cells": [
    {
      "cell_type": "code",
      "metadata": {
        "id": "VrOrt-khnwLI",
        "colab_type": "code",
        "outputId": "5064abf8-71d4-457d-dd60-42afe27d1ec4",
        "colab": {
          "base_uri": "https://localhost:8080/",
          "height": 35
        }
      },
      "source": [
        "from keras.datasets import imdb\n",
        "import numpy as np\n",
        "from keras import models\n",
        "from keras import layers\n",
        "import matplotlib.pyplot as plt\n",
        "from keras import regularizers"
      ],
      "execution_count": 1,
      "outputs": [
        {
          "output_type": "stream",
          "text": [
            "Using TensorFlow backend.\n"
          ],
          "name": "stderr"
        }
      ]
    },
    {
      "cell_type": "code",
      "metadata": {
        "id": "T0cYZI-VwQr5",
        "colab_type": "code",
        "colab": {}
      },
      "source": [
        "(train_data, train_labels),(test_data, test_labels) =imdb.load_data(num_words =10000)"
      ],
      "execution_count": 0,
      "outputs": []
    },
    {
      "cell_type": "code",
      "metadata": {
        "id": "5jNBvHVIwgvu",
        "colab_type": "code",
        "outputId": "04b559c7-92b9-4c2e-d3e8-d76830bd8288",
        "colab": {
          "base_uri": "https://localhost:8080/",
          "height": 35
        }
      },
      "source": [
        "train_data.shape"
      ],
      "execution_count": 3,
      "outputs": [
        {
          "output_type": "execute_result",
          "data": {
            "text/plain": [
              "(25000,)"
            ]
          },
          "metadata": {
            "tags": []
          },
          "execution_count": 3
        }
      ]
    },
    {
      "cell_type": "code",
      "metadata": {
        "id": "m4F2PCwdwixz",
        "colab_type": "code",
        "outputId": "5d934271-1ad2-4747-af3d-0663f6f89f14",
        "colab": {
          "base_uri": "https://localhost:8080/",
          "height": 35
        }
      },
      "source": [
        "test_data.shape"
      ],
      "execution_count": 4,
      "outputs": [
        {
          "output_type": "execute_result",
          "data": {
            "text/plain": [
              "(25000,)"
            ]
          },
          "metadata": {
            "tags": []
          },
          "execution_count": 4
        }
      ]
    },
    {
      "cell_type": "code",
      "metadata": {
        "id": "iMdA-Psxwl04",
        "colab_type": "code",
        "outputId": "19afee29-1214-4e46-e5bf-930f2680c96f",
        "colab": {
          "base_uri": "https://localhost:8080/",
          "height": 35
        }
      },
      "source": [
        "max([max(sequence) for sequence in train_data])"
      ],
      "execution_count": 5,
      "outputs": [
        {
          "output_type": "execute_result",
          "data": {
            "text/plain": [
              "9999"
            ]
          },
          "metadata": {
            "tags": []
          },
          "execution_count": 5
        }
      ]
    },
    {
      "cell_type": "code",
      "metadata": {
        "id": "y3H1owzb1WWm",
        "colab_type": "code",
        "outputId": "06924456-117c-473a-a274-b19a37fc00c4",
        "colab": {
          "base_uri": "https://localhost:8080/",
          "height": 35
        }
      },
      "source": [
        "max([max(sequence) for sequence in test_data])"
      ],
      "execution_count": 6,
      "outputs": [
        {
          "output_type": "execute_result",
          "data": {
            "text/plain": [
              "9999"
            ]
          },
          "metadata": {
            "tags": []
          },
          "execution_count": 6
        }
      ]
    },
    {
      "cell_type": "markdown",
      "metadata": {
        "id": "eajG3TKg1vvV",
        "colab_type": "text"
      },
      "source": [
        "# we need to convert our integer into integer tensors"
      ]
    },
    {
      "cell_type": "code",
      "metadata": {
        "id": "_rauS9Gw1eFx",
        "colab_type": "code",
        "colab": {}
      },
      "source": [
        "def vector_sequence(sequences, dimension =10000):\n",
        "  results =np.zeros((len(sequences), dimension))\n",
        "  for i, sequence in enumerate(sequences):\n",
        "    results[i, sequence] =1.\n",
        "  return results\n",
        "x_test =vector_sequence(test_data)\n",
        "x_train =vector_sequence(train_data)\n"
      ],
      "execution_count": 0,
      "outputs": []
    },
    {
      "cell_type": "code",
      "metadata": {
        "id": "XAvaXIXt9Kov",
        "colab_type": "code",
        "colab": {}
      },
      "source": [
        "y_train = np.asarray(train_labels).astype('float32')\n",
        "y_test =np.asarray(test_labels).astype('float32')"
      ],
      "execution_count": 0,
      "outputs": []
    },
    {
      "cell_type": "code",
      "metadata": {
        "id": "N3jkP-A__Kx5",
        "colab_type": "code",
        "outputId": "5ef047cd-f92d-4835-e2f4-15ff797d4969",
        "colab": {
          "base_uri": "https://localhost:8080/",
          "height": 35
        }
      },
      "source": [
        "y_train[0]"
      ],
      "execution_count": 9,
      "outputs": [
        {
          "output_type": "execute_result",
          "data": {
            "text/plain": [
              "1.0"
            ]
          },
          "metadata": {
            "tags": []
          },
          "execution_count": 9
        }
      ]
    },
    {
      "cell_type": "code",
      "metadata": {
        "id": "aieXsbFC_vzx",
        "colab_type": "code",
        "outputId": "1e9cfada-1ead-4a9e-ee0d-ffe8af33fd36",
        "colab": {
          "base_uri": "https://localhost:8080/",
          "height": 35
        }
      },
      "source": [
        "x_train[1]"
      ],
      "execution_count": 10,
      "outputs": [
        {
          "output_type": "execute_result",
          "data": {
            "text/plain": [
              "array([0., 1., 1., ..., 0., 0., 0.])"
            ]
          },
          "metadata": {
            "tags": []
          },
          "execution_count": 10
        }
      ]
    },
    {
      "cell_type": "markdown",
      "metadata": {
        "id": "qhLHzlZPAL_v",
        "colab_type": "text"
      },
      "source": [
        "# we need to build our model here"
      ]
    },
    {
      "cell_type": "code",
      "metadata": {
        "id": "nEBPI_ijAQGp",
        "colab_type": "code",
        "colab": {}
      },
      "source": [
        "model_1 =models.Sequential()\n",
        "model_1.add(layers.Dense(32, kernel_regularizer=regularizers.l2(0.001) , activation='relu', input_shape=(10000,)))\n",
        "model_1.add(layers.Dense(32,kernel_regularizer=regularizers.l2(0.001) , activation='relu'))\n",
        "model_1.add(layers.Dense(32, kernel_regularizer=regularizers.l2(0.001) , activation='relu'))\n",
        "model_1.add(layers.Dense(1, activation='softmax'))"
      ],
      "execution_count": 0,
      "outputs": []
    },
    {
      "cell_type": "markdown",
      "metadata": {
        "id": "O_m7XolDCGpY",
        "colab_type": "text"
      },
      "source": [
        "# compile our network"
      ]
    },
    {
      "cell_type": "code",
      "metadata": {
        "id": "FBvYT8sYCNE0",
        "colab_type": "code",
        "colab": {}
      },
      "source": [
        "model_1.compile(optimizer ='rmsprop', loss='binary_crossentropy', metrics =['accuracy'])"
      ],
      "execution_count": 0,
      "outputs": []
    },
    {
      "cell_type": "code",
      "metadata": {
        "id": "ptuIJ-6eD1X6",
        "colab_type": "code",
        "colab": {}
      },
      "source": [
        "x_val =x_train[:10000]\n",
        "y_val =y_train[:10000]\n",
        "part_x_train =x_train[10000:]\n",
        "part_y_train =y_train[10000:]\n",
        "\n"
      ],
      "execution_count": 0,
      "outputs": []
    },
    {
      "cell_type": "code",
      "metadata": {
        "id": "B6-SodhWFpVc",
        "colab_type": "code",
        "colab": {}
      },
      "source": [
        "model_1.compile(optimizer ='rmsprop', loss='binary_crossentropy', metrics =['accuracy'])"
      ],
      "execution_count": 0,
      "outputs": []
    },
    {
      "cell_type": "code",
      "metadata": {
        "id": "3i-pus51F8Vi",
        "colab_type": "code",
        "outputId": "69f632a7-9399-4b21-b455-ea9b6b7988ef",
        "colab": {
          "base_uri": "https://localhost:8080/",
          "height": 746
        }
      },
      "source": [
        "network_1 =model_1.fit(part_x_train, part_y_train, batch_size=512, epochs=20, validation_data =(x_val, y_val))"
      ],
      "execution_count": 15,
      "outputs": [
        {
          "output_type": "stream",
          "text": [
            "Train on 15000 samples, validate on 10000 samples\n",
            "Epoch 1/20\n",
            "15000/15000 [==============================] - 2s 119us/step - loss: 7.7832 - accuracy: 0.4965 - val_loss: 7.5884 - val_accuracy: 0.5053\n",
            "Epoch 2/20\n",
            "15000/15000 [==============================] - 2s 107us/step - loss: 7.7591 - accuracy: 0.4965 - val_loss: 7.5757 - val_accuracy: 0.5053\n",
            "Epoch 3/20\n",
            "15000/15000 [==============================] - 2s 108us/step - loss: 7.7478 - accuracy: 0.4965 - val_loss: 7.5657 - val_accuracy: 0.5053\n",
            "Epoch 4/20\n",
            "15000/15000 [==============================] - 2s 109us/step - loss: 7.7389 - accuracy: 0.4965 - val_loss: 7.5581 - val_accuracy: 0.5053\n",
            "Epoch 5/20\n",
            "15000/15000 [==============================] - 2s 107us/step - loss: 7.7323 - accuracy: 0.4965 - val_loss: 7.5525 - val_accuracy: 0.5053\n",
            "Epoch 6/20\n",
            "15000/15000 [==============================] - 2s 107us/step - loss: 7.7275 - accuracy: 0.4965 - val_loss: 7.5486 - val_accuracy: 0.5053\n",
            "Epoch 7/20\n",
            "15000/15000 [==============================] - 2s 108us/step - loss: 7.7243 - accuracy: 0.4965 - val_loss: 7.5461 - val_accuracy: 0.5053\n",
            "Epoch 8/20\n",
            "15000/15000 [==============================] - 2s 108us/step - loss: 7.7224 - accuracy: 0.4965 - val_loss: 7.5447 - val_accuracy: 0.5053\n",
            "Epoch 9/20\n",
            "15000/15000 [==============================] - 2s 107us/step - loss: 7.7214 - accuracy: 0.4965 - val_loss: 7.5441 - val_accuracy: 0.5053\n",
            "Epoch 10/20\n",
            "15000/15000 [==============================] - 2s 107us/step - loss: 7.7210 - accuracy: 0.4965 - val_loss: 7.5439 - val_accuracy: 0.5053\n",
            "Epoch 11/20\n",
            "15000/15000 [==============================] - 2s 108us/step - loss: 7.7209 - accuracy: 0.4965 - val_loss: 7.5439 - val_accuracy: 0.5053\n",
            "Epoch 12/20\n",
            "15000/15000 [==============================] - 2s 107us/step - loss: 7.7209 - accuracy: 0.4965 - val_loss: 7.5439 - val_accuracy: 0.5053\n",
            "Epoch 13/20\n",
            "15000/15000 [==============================] - 2s 108us/step - loss: 7.7209 - accuracy: 0.4965 - val_loss: 7.5439 - val_accuracy: 0.5053\n",
            "Epoch 14/20\n",
            "15000/15000 [==============================] - 2s 109us/step - loss: 7.7209 - accuracy: 0.4965 - val_loss: 7.5439 - val_accuracy: 0.5053\n",
            "Epoch 15/20\n",
            "15000/15000 [==============================] - 2s 107us/step - loss: 7.7209 - accuracy: 0.4965 - val_loss: 7.5439 - val_accuracy: 0.5053\n",
            "Epoch 16/20\n",
            "15000/15000 [==============================] - 2s 109us/step - loss: 7.7209 - accuracy: 0.4965 - val_loss: 7.5439 - val_accuracy: 0.5053\n",
            "Epoch 17/20\n",
            "15000/15000 [==============================] - 2s 109us/step - loss: 7.7209 - accuracy: 0.4965 - val_loss: 7.5439 - val_accuracy: 0.5053\n",
            "Epoch 18/20\n",
            "15000/15000 [==============================] - 2s 108us/step - loss: 7.7209 - accuracy: 0.4965 - val_loss: 7.5439 - val_accuracy: 0.5053\n",
            "Epoch 19/20\n",
            "15000/15000 [==============================] - 2s 107us/step - loss: 7.7209 - accuracy: 0.4965 - val_loss: 7.5439 - val_accuracy: 0.5053\n",
            "Epoch 20/20\n",
            "15000/15000 [==============================] - 2s 110us/step - loss: 7.7209 - accuracy: 0.4965 - val_loss: 7.5439 - val_accuracy: 0.5053\n"
          ],
          "name": "stdout"
        }
      ]
    },
    {
      "cell_type": "code",
      "metadata": {
        "id": "z8Ok1E79Gcgq",
        "colab_type": "code",
        "colab": {}
      },
      "source": [
        "history_dic=network_1.history"
      ],
      "execution_count": 0,
      "outputs": []
    },
    {
      "cell_type": "code",
      "metadata": {
        "id": "LyTnONZhHWfS",
        "colab_type": "code",
        "outputId": "1a211a16-ecc1-46f8-9b69-ddbe43ebcdc8",
        "colab": {
          "base_uri": "https://localhost:8080/",
          "height": 35
        }
      },
      "source": [
        "history_dic.keys()"
      ],
      "execution_count": 17,
      "outputs": [
        {
          "output_type": "execute_result",
          "data": {
            "text/plain": [
              "dict_keys(['val_loss', 'val_accuracy', 'loss', 'accuracy'])"
            ]
          },
          "metadata": {
            "tags": []
          },
          "execution_count": 17
        }
      ]
    },
    {
      "cell_type": "code",
      "metadata": {
        "id": "mTVW5M6jHbCt",
        "colab_type": "code",
        "colab": {}
      },
      "source": [
        "loss =history_dic['val_loss']\n",
        "val_loss_values =history_dic['val_loss']"
      ],
      "execution_count": 0,
      "outputs": []
    },
    {
      "cell_type": "code",
      "metadata": {
        "id": "e6HA34-TIBSV",
        "colab_type": "code",
        "outputId": "3a9665b8-974c-4eff-c96a-8175371ce0ea",
        "colab": {
          "base_uri": "https://localhost:8080/",
          "height": 298
        }
      },
      "source": [
        "plt.plot(loss,'bo', label ='Training Loss')\n",
        "plt.plot(val_loss_values, 'b', label='Validation Loss')\n",
        "plt.xlabel('Validation Loss')\n",
        "plt.ylabel(\"'Training Loss, 'Epochs'\")\n",
        "plt.legend()"
      ],
      "execution_count": 19,
      "outputs": [
        {
          "output_type": "execute_result",
          "data": {
            "text/plain": [
              "<matplotlib.legend.Legend at 0x7f8deaa8d080>"
            ]
          },
          "metadata": {
            "tags": []
          },
          "execution_count": 19
        },
        {
          "output_type": "display_data",
          "data": {
            "image/png": "[encoded data removed]",
            "text/plain": [
              "<Figure size 432x288 with 1 Axes>"
            ]
          },
          "metadata": {
            "tags": [],
            "needs_background": "light"
          }
        }
      ]
    },
    {
      "cell_type": "code",
      "metadata": {
        "id": "HCyt9X9TIXpG",
        "colab_type": "code",
        "colab": {}
      },
      "source": [
        "from keras import regularizers\n",
        "model_2=models.Sequential()\n",
        "model_2.add(layers.Dense(16,kernel_regularizer=regularizers.l2(0.001) ,   activation='relu', input_shape=(10000,)))\n",
        "model_2.add(layers.Dense(16, kernel_regularizer=regularizers.l2(0.001) , activation='relu'))\n",
        "model_2.add(layers.Dense(16,kernel_regularizer=regularizers.l2(0.001) , activation='relu'))\n",
        "model_2.add(layers.Dense(16,kernel_regularizer=regularizers.l2(0.001) , activation='relu'))\n",
        "model_2.add(layers.Dense(1, activation='sigmoid'))"
      ],
      "execution_count": 0,
      "outputs": []
    },
    {
      "cell_type": "code",
      "metadata": {
        "id": "rVLlcf5eKcqx",
        "colab_type": "code",
        "colab": {}
      },
      "source": [
        "model_2.compile(optimizer='rmsprop',loss='binary_crossentropy', metrics=['accuracy'])"
      ],
      "execution_count": 0,
      "outputs": []
    },
    {
      "cell_type": "code",
      "metadata": {
        "id": "HHkHxCVNK6iL",
        "colab_type": "code",
        "outputId": "3cf1daf4-6135-48e5-eba9-7f762a466bf9",
        "colab": {
          "base_uri": "https://localhost:8080/",
          "height": 1000
        }
      },
      "source": [
        "network_2 =model_2.fit(part_x_train, part_y_train, epochs =50, batch_size=512, validation_data=(x_val, y_val))"
      ],
      "execution_count": 22,
      "outputs": [
        {
          "output_type": "stream",
          "text": [
            "Train on 15000 samples, validate on 10000 samples\n",
            "Epoch 1/50\n",
            "15000/15000 [==============================] - 2s 105us/step - loss: 0.5968 - accuracy: 0.7776 - val_loss: 0.4535 - val_accuracy: 0.8626\n",
            "Epoch 2/50\n",
            "15000/15000 [==============================] - 1s 93us/step - loss: 0.3664 - accuracy: 0.8971 - val_loss: 0.3870 - val_accuracy: 0.8721\n",
            "Epoch 3/50\n",
            "15000/15000 [==============================] - 1s 95us/step - loss: 0.2824 - accuracy: 0.9257 - val_loss: 0.3451 - val_accuracy: 0.8919\n",
            "Epoch 4/50\n",
            "15000/15000 [==============================] - 1s 93us/step - loss: 0.2485 - accuracy: 0.9358 - val_loss: 0.4366 - val_accuracy: 0.8572\n",
            "Epoch 5/50\n",
            "15000/15000 [==============================] - 1s 93us/step - loss: 0.2182 - accuracy: 0.9504 - val_loss: 0.3669 - val_accuracy: 0.8843\n",
            "Epoch 6/50\n",
            "15000/15000 [==============================] - 1s 94us/step - loss: 0.2152 - accuracy: 0.9497 - val_loss: 0.3759 - val_accuracy: 0.8829\n",
            "Epoch 7/50\n",
            "15000/15000 [==============================] - 1s 95us/step - loss: 0.1889 - accuracy: 0.9605 - val_loss: 0.3987 - val_accuracy: 0.8797\n",
            "Epoch 8/50\n",
            "15000/15000 [==============================] - 1s 94us/step - loss: 0.1793 - accuracy: 0.9660 - val_loss: 0.4048 - val_accuracy: 0.8812\n",
            "Epoch 9/50\n",
            "15000/15000 [==============================] - 1s 96us/step - loss: 0.1770 - accuracy: 0.9646 - val_loss: 0.4410 - val_accuracy: 0.8727\n",
            "Epoch 10/50\n",
            "15000/15000 [==============================] - 1s 96us/step - loss: 0.1628 - accuracy: 0.9718 - val_loss: 0.4348 - val_accuracy: 0.8771\n",
            "Epoch 11/50\n",
            "15000/15000 [==============================] - 1s 93us/step - loss: 0.1622 - accuracy: 0.9717 - val_loss: 0.4489 - val_accuracy: 0.8764\n",
            "Epoch 12/50\n",
            "15000/15000 [==============================] - 1s 94us/step - loss: 0.1556 - accuracy: 0.9753 - val_loss: 0.4662 - val_accuracy: 0.8761\n",
            "Epoch 13/50\n",
            "15000/15000 [==============================] - 1s 93us/step - loss: 0.1463 - accuracy: 0.9786 - val_loss: 0.4783 - val_accuracy: 0.8761\n",
            "Epoch 14/50\n",
            "15000/15000 [==============================] - 1s 92us/step - loss: 0.1343 - accuracy: 0.9800 - val_loss: 0.4973 - val_accuracy: 0.8746\n",
            "Epoch 15/50\n",
            "15000/15000 [==============================] - 1s 93us/step - loss: 0.1484 - accuracy: 0.9747 - val_loss: 0.5201 - val_accuracy: 0.8728\n",
            "Epoch 16/50\n",
            "15000/15000 [==============================] - 1s 92us/step - loss: 0.1478 - accuracy: 0.9777 - val_loss: 0.5148 - val_accuracy: 0.8705\n",
            "Epoch 17/50\n",
            "15000/15000 [==============================] - 1s 93us/step - loss: 0.1375 - accuracy: 0.9793 - val_loss: 0.5259 - val_accuracy: 0.8718\n",
            "Epoch 18/50\n",
            "15000/15000 [==============================] - 1s 93us/step - loss: 0.1235 - accuracy: 0.9847 - val_loss: 0.5334 - val_accuracy: 0.8713\n",
            "Epoch 19/50\n",
            "15000/15000 [==============================] - 1s 92us/step - loss: 0.1346 - accuracy: 0.9805 - val_loss: 0.5816 - val_accuracy: 0.8605\n",
            "Epoch 20/50\n",
            "15000/15000 [==============================] - 1s 92us/step - loss: 0.1259 - accuracy: 0.9840 - val_loss: 0.5934 - val_accuracy: 0.8646\n",
            "Epoch 21/50\n",
            "15000/15000 [==============================] - 1s 93us/step - loss: 0.1353 - accuracy: 0.9809 - val_loss: 0.5838 - val_accuracy: 0.8663\n",
            "Epoch 22/50\n",
            "15000/15000 [==============================] - 1s 95us/step - loss: 0.1390 - accuracy: 0.9819 - val_loss: 0.5733 - val_accuracy: 0.8700\n",
            "Epoch 23/50\n",
            "15000/15000 [==============================] - 1s 94us/step - loss: 0.1364 - accuracy: 0.9789 - val_loss: 0.5766 - val_accuracy: 0.8692\n",
            "Epoch 24/50\n",
            "15000/15000 [==============================] - 1s 94us/step - loss: 0.1294 - accuracy: 0.9855 - val_loss: 0.5798 - val_accuracy: 0.8688\n",
            "Epoch 25/50\n",
            "15000/15000 [==============================] - 1s 94us/step - loss: 0.1335 - accuracy: 0.9816 - val_loss: 0.5797 - val_accuracy: 0.8670\n",
            "Epoch 26/50\n",
            "15000/15000 [==============================] - 1s 92us/step - loss: 0.1221 - accuracy: 0.9849 - val_loss: 0.6144 - val_accuracy: 0.8621\n",
            "Epoch 27/50\n",
            "15000/15000 [==============================] - 1s 93us/step - loss: 0.1199 - accuracy: 0.9841 - val_loss: 0.5889 - val_accuracy: 0.8657\n",
            "Epoch 28/50\n",
            "15000/15000 [==============================] - 1s 93us/step - loss: 0.1391 - accuracy: 0.9814 - val_loss: 0.6046 - val_accuracy: 0.8636\n",
            "Epoch 29/50\n",
            "15000/15000 [==============================] - 1s 92us/step - loss: 0.1150 - accuracy: 0.9865 - val_loss: 0.6250 - val_accuracy: 0.8602\n",
            "Epoch 30/50\n",
            "15000/15000 [==============================] - 1s 93us/step - loss: 0.1174 - accuracy: 0.9853 - val_loss: 0.6011 - val_accuracy: 0.8640\n",
            "Epoch 31/50\n",
            "15000/15000 [==============================] - 1s 91us/step - loss: 0.1218 - accuracy: 0.9826 - val_loss: 0.6149 - val_accuracy: 0.8651\n",
            "Epoch 32/50\n",
            "15000/15000 [==============================] - 1s 92us/step - loss: 0.1287 - accuracy: 0.9848 - val_loss: 0.6251 - val_accuracy: 0.8605\n",
            "Epoch 33/50\n",
            "15000/15000 [==============================] - 1s 94us/step - loss: 0.1199 - accuracy: 0.9857 - val_loss: 0.6073 - val_accuracy: 0.8645\n",
            "Epoch 34/50\n",
            "15000/15000 [==============================] - 1s 92us/step - loss: 0.1302 - accuracy: 0.9847 - val_loss: 0.6185 - val_accuracy: 0.8655\n",
            "Epoch 35/50\n",
            "15000/15000 [==============================] - 1s 93us/step - loss: 0.1246 - accuracy: 0.9848 - val_loss: 0.6137 - val_accuracy: 0.8658\n",
            "Epoch 36/50\n",
            "15000/15000 [==============================] - 1s 93us/step - loss: 0.1135 - accuracy: 0.9871 - val_loss: 0.6122 - val_accuracy: 0.8655\n",
            "Epoch 37/50\n",
            "15000/15000 [==============================] - 1s 93us/step - loss: 0.1353 - accuracy: 0.9808 - val_loss: 0.6048 - val_accuracy: 0.8655\n",
            "Epoch 38/50\n",
            "15000/15000 [==============================] - 1s 94us/step - loss: 0.1094 - accuracy: 0.9879 - val_loss: 0.6018 - val_accuracy: 0.8644\n",
            "Epoch 39/50\n",
            "15000/15000 [==============================] - 1s 93us/step - loss: 0.1263 - accuracy: 0.9831 - val_loss: 0.6046 - val_accuracy: 0.8639\n",
            "Epoch 40/50\n",
            "15000/15000 [==============================] - 1s 93us/step - loss: 0.1005 - accuracy: 0.9911 - val_loss: 0.6534 - val_accuracy: 0.8586\n",
            "Epoch 41/50\n",
            "15000/15000 [==============================] - 1s 93us/step - loss: 0.1155 - accuracy: 0.9838 - val_loss: 0.5908 - val_accuracy: 0.8628\n",
            "Epoch 42/50\n",
            "15000/15000 [==============================] - 1s 95us/step - loss: 0.1243 - accuracy: 0.9825 - val_loss: 0.5890 - val_accuracy: 0.8652\n",
            "Epoch 43/50\n",
            "15000/15000 [==============================] - 1s 94us/step - loss: 0.0731 - accuracy: 0.9988 - val_loss: 0.7831 - val_accuracy: 0.8452\n",
            "Epoch 44/50\n",
            "15000/15000 [==============================] - 1s 95us/step - loss: 0.1105 - accuracy: 0.9854 - val_loss: 0.6391 - val_accuracy: 0.8650\n",
            "Epoch 45/50\n",
            "15000/15000 [==============================] - 1s 97us/step - loss: 0.1160 - accuracy: 0.9873 - val_loss: 0.6527 - val_accuracy: 0.8566\n",
            "Epoch 46/50\n",
            "15000/15000 [==============================] - 1s 96us/step - loss: 0.1227 - accuracy: 0.9837 - val_loss: 0.6180 - val_accuracy: 0.8647\n",
            "Epoch 47/50\n",
            "15000/15000 [==============================] - 1s 95us/step - loss: 0.1108 - accuracy: 0.9849 - val_loss: 0.6146 - val_accuracy: 0.8632\n",
            "Epoch 48/50\n",
            "15000/15000 [==============================] - 1s 94us/step - loss: 0.1158 - accuracy: 0.9856 - val_loss: 0.5994 - val_accuracy: 0.8642\n",
            "Epoch 49/50\n",
            "15000/15000 [==============================] - 1s 94us/step - loss: 0.1122 - accuracy: 0.9859 - val_loss: 0.5981 - val_accuracy: 0.8646\n",
            "Epoch 50/50\n",
            "15000/15000 [==============================] - 1s 93us/step - loss: 0.0675 - accuracy: 0.9995 - val_loss: 0.8045 - val_accuracy: 0.8322\n"
          ],
          "name": "stdout"
        }
      ]
    },
    {
      "cell_type": "code",
      "metadata": {
        "id": "df7U3m9PLSLG",
        "colab_type": "code",
        "outputId": "348ccca1-5fa6-444d-a1ac-84911de4147e",
        "colab": {
          "base_uri": "https://localhost:8080/",
          "height": 35
        }
      },
      "source": [
        "network_2_dict =network_2.history\n",
        "network_2_dict.keys()"
      ],
      "execution_count": 23,
      "outputs": [
        {
          "output_type": "execute_result",
          "data": {
            "text/plain": [
              "dict_keys(['val_loss', 'val_accuracy', 'loss', 'accuracy'])"
            ]
          },
          "metadata": {
            "tags": []
          },
          "execution_count": 23
        }
      ]
    },
    {
      "cell_type": "code",
      "metadata": {
        "id": "iKO1DwhmMcLy",
        "colab_type": "code",
        "colab": {}
      },
      "source": [
        "loss_Values =network_2_dict['loss']\n",
        "val_loss_Values =network_2_dict['val_loss']\n"
      ],
      "execution_count": 0,
      "outputs": []
    },
    {
      "cell_type": "code",
      "metadata": {
        "id": "D38FpLZ1Wppx",
        "colab_type": "code",
        "outputId": "57e3aada-fe48-4e3d-aa74-1644e9f2975e",
        "colab": {
          "base_uri": "https://localhost:8080/",
          "height": 279
        }
      },
      "source": [
        "#plt.figure(figsize=(10, 7))\n",
        "plt.plot(loss_Values, 'bo', label ='Training Loss')\n",
        "plt.plot(val_loss_Values, 'b', label='Validation Loss')\n",
        "plt.xlabel('Validation Loss')\n",
        "plt.ylabel('Training Loss')\n",
        "plt.legend()\n",
        "plt.show()"
      ],
      "execution_count": 47,
      "outputs": [
        {
          "output_type": "display_data",
          "data": {
            "image/png": "[encoded data removed]",
            "text/plain": [
              "<Figure size 432x288 with 1 Axes>"
            ]
          },
          "metadata": {
            "tags": [],
            "needs_background": "light"
          }
        }
      ]
    },
    {
      "cell_type": "code",
      "metadata": {
        "id": "azTw54epW4XR",
        "colab_type": "code",
        "colab": {}
      },
      "source": [
        "val_acc =network_2_dict['val_accuracy']\n",
        "training_acc =network_2_dict['accuracy']\n"
      ],
      "execution_count": 0,
      "outputs": []
    },
    {
      "cell_type": "code",
      "metadata": {
        "id": "jmjtljzKmm-O",
        "colab_type": "code",
        "outputId": "a0901eaa-8c3a-48c5-cff0-e3ebf9d37e6b",
        "colab": {
          "base_uri": "https://localhost:8080/",
          "height": 406
        }
      },
      "source": [
        "plt.figure(figsize=(10,6))\n",
        "plt.plot(training_acc, 'bo', label='Training Accuracy')\n",
        "plt.plot(val_acc, 'c', label='Validation Accuracy')\n",
        "plt.legend()\n",
        "plt.xlabel('Validation Accuracy')\n",
        "plt.ylabel('Training Accuracy')\n"
      ],
      "execution_count": 27,
      "outputs": [
        {
          "output_type": "execute_result",
          "data": {
            "text/plain": [
              "Text(0, 0.5, 'Training Accuracy')"
            ]
          },
          "metadata": {
            "tags": []
          },
          "execution_count": 27
        },
        {
          "output_type": "display_data",
          "data": {
            "image/png": "[encoded data removed]",
            "text/plain": [
              "<Figure size 720x432 with 1 Axes>"
            ]
          },
          "metadata": {
            "tags": [],
            "needs_background": "light"
          }
        }
      ]
    },
    {
      "cell_type": "code",
      "metadata": {
        "id": "KrSVi9_jnES_",
        "colab_type": "code",
        "outputId": "dc1fea8f-a7b7-4b72-9681-8ae3266d337d",
        "colab": {
          "base_uri": "https://localhost:8080/",
          "height": 35
        }
      },
      "source": [
        "my_evaluate_1 =model_1.evaluate(part_x_train, part_y_train)"
      ],
      "execution_count": 28,
      "outputs": [
        {
          "output_type": "stream",
          "text": [
            "15000/15000 [==============================] - 1s 75us/step\n"
          ],
          "name": "stdout"
        }
      ]
    },
    {
      "cell_type": "code",
      "metadata": {
        "id": "hC3js5p0n_MM",
        "colab_type": "code",
        "outputId": "f7dda722-95a6-43a7-abff-7af3051f7c3c",
        "colab": {
          "base_uri": "https://localhost:8080/",
          "height": 35
        }
      },
      "source": [
        "my_evaluate_1"
      ],
      "execution_count": 29,
      "outputs": [
        {
          "output_type": "execute_result",
          "data": {
            "text/plain": [
              "[7.678565098063151, 0.49646666646003723]"
            ]
          },
          "metadata": {
            "tags": []
          },
          "execution_count": 29
        }
      ]
    },
    {
      "cell_type": "code",
      "metadata": {
        "id": "0pQ3S6xso_se",
        "colab_type": "code",
        "outputId": "28864dbf-5658-42cb-a19e-4fc0b63a8af9",
        "colab": {
          "base_uri": "https://localhost:8080/",
          "height": 35
        }
      },
      "source": [
        "my_evaluate_2 =model_2.evaluate(part_x_train, part_y_train)"
      ],
      "execution_count": 30,
      "outputs": [
        {
          "output_type": "stream",
          "text": [
            "15000/15000 [==============================] - 1s 65us/step\n"
          ],
          "name": "stdout"
        }
      ]
    },
    {
      "cell_type": "code",
      "metadata": {
        "id": "yukVwwXSpU6a",
        "colab_type": "code",
        "outputId": "5a18ccf5-aac7-4df8-bce1-96ffd624f3dd",
        "colab": {
          "base_uri": "https://localhost:8080/",
          "height": 35
        }
      },
      "source": [
        "my_evaluate_2"
      ],
      "execution_count": 31,
      "outputs": [
        {
          "output_type": "execute_result",
          "data": {
            "text/plain": [
              "[0.15462650665442149, 0.9539999961853027]"
            ]
          },
          "metadata": {
            "tags": []
          },
          "execution_count": 31
        }
      ]
    },
    {
      "cell_type": "code",
      "metadata": {
        "id": "iF5bQGSkpXVX",
        "colab_type": "code",
        "colab": {}
      },
      "source": [
        "y_pred_1 =model_1.predict(x_test)"
      ],
      "execution_count": 0,
      "outputs": []
    },
    {
      "cell_type": "code",
      "metadata": {
        "id": "MWhZDIH8pl4b",
        "colab_type": "code",
        "outputId": "0363cc95-5090-4efa-e21e-93d57ab35465",
        "colab": {
          "base_uri": "https://localhost:8080/",
          "height": 141
        }
      },
      "source": [
        "print(y_pred_1)"
      ],
      "execution_count": 33,
      "outputs": [
        {
          "output_type": "stream",
          "text": [
            "[[1.]\n",
            " [1.]\n",
            " [1.]\n",
            " ...\n",
            " [1.]\n",
            " [1.]\n",
            " [1.]]\n"
          ],
          "name": "stdout"
        }
      ]
    },
    {
      "cell_type": "code",
      "metadata": {
        "id": "D0rzlCPNpvBZ",
        "colab_type": "code",
        "colab": {}
      },
      "source": [
        "y_predi_2 =model_2.predict(x_test)"
      ],
      "execution_count": 0,
      "outputs": []
    },
    {
      "cell_type": "code",
      "metadata": {
        "id": "zJBEHjbpp3-P",
        "colab_type": "code",
        "outputId": "6924aedf-1028-4947-c06e-583db035b105",
        "colab": {
          "base_uri": "https://localhost:8080/",
          "height": 141
        }
      },
      "source": [
        "print(y_predi_2)"
      ],
      "execution_count": 35,
      "outputs": [
        {
          "output_type": "stream",
          "text": [
            "[[0.00431666]\n",
            " [0.99996114]\n",
            " [0.20174646]\n",
            " ...\n",
            " [0.00125569]\n",
            " [0.00275564]\n",
            " [0.9665929 ]]\n"
          ],
          "name": "stdout"
        }
      ]
    },
    {
      "cell_type": "code",
      "metadata": {
        "id": "DE5OaRIvonKv",
        "colab_type": "code",
        "colab": {}
      },
      "source": [
        ""
      ],
      "execution_count": 0,
      "outputs": []
    }
  ]
}