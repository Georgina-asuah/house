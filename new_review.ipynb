{
  "nbformat": 4,
  "nbformat_minor": 0,
  "metadata": {
    "colab": {
      "name": "Untitled0.ipynb",
      "provenance": [],
      "collapsed_sections": []
    },
    "kernelspec": {
      "name": "python3",
      "display_name": "Python 3"
    }
  },
  "cells": [
    {
      "cell_type": "code",
      "metadata": {
        "id": "VrOrt-khnwLI",
        "colab_type": "code",
        "colab": {}
      },
      "source": [
        "from keras.datasets import imdb\n",
        "import numpy as np\n",
        "from keras import models\n",
        "from keras import layers\n",
        "import matplotlib.pyplot as plt"
      ],
      "execution_count": 0,
      "outputs": []
    },
    {
      "cell_type": "code",
      "metadata": {
        "id": "T0cYZI-VwQr5",
        "colab_type": "code",
        "colab": {
          "base_uri": "https://localhost:8080/",
          "height": 52
        },
        "outputId": "47f098bf-d3b3-4089-f6ea-cb2f14de178e"
      },
      "source": [
        "(train_data, train_labels),(test_data, test_labels) =imdb.load_data(num_words =10000)"
      ],
      "execution_count": 2,
      "outputs": [
        {
          "output_type": "stream",
          "text": [
            "Downloading data from https://s3.amazonaws.com/text-datasets/imdb.npz\n",
            "17465344/17464789 [==============================] - 0s 0us/step\n"
          ],
          "name": "stdout"
        }
      ]
    },
    {
      "cell_type": "code",
      "metadata": {
        "id": "5jNBvHVIwgvu",
        "colab_type": "code",
        "colab": {
          "base_uri": "https://localhost:8080/",
          "height": 35
        },
        "outputId": "1ef3ff9a-bd91-4668-f3b5-8e4d1d6f3dbe"
      },
      "source": [
        "train_data.shape"
      ],
      "execution_count": 3,
      "outputs": [
        {
          "output_type": "execute_result",
          "data": {
            "text/plain": [
              "(25000,)"
            ]
          },
          "metadata": {
            "tags": []
          },
          "execution_count": 3
        }
      ]
    },
    {
      "cell_type": "code",
      "metadata": {
        "id": "m4F2PCwdwixz",
        "colab_type": "code",
        "colab": {
          "base_uri": "https://localhost:8080/",
          "height": 35
        },
        "outputId": "ddda99d1-71ee-4294-9a50-21d213860217"
      },
      "source": [
        "test_data.shape"
      ],
      "execution_count": 6,
      "outputs": [
        {
          "output_type": "execute_result",
          "data": {
            "text/plain": [
              "(25000,)"
            ]
          },
          "metadata": {
            "tags": []
          },
          "execution_count": 6
        }
      ]
    },
    {
      "cell_type": "code",
      "metadata": {
        "id": "iMdA-Psxwl04",
        "colab_type": "code",
        "colab": {
          "base_uri": "https://localhost:8080/",
          "height": 35
        },
        "outputId": "64b8e069-417e-4d4f-bdc8-c0777fe224aa"
      },
      "source": [
        "max([max(sequence) for sequence in train_data])"
      ],
      "execution_count": 7,
      "outputs": [
        {
          "output_type": "execute_result",
          "data": {
            "text/plain": [
              "9999"
            ]
          },
          "metadata": {
            "tags": []
          },
          "execution_count": 7
        }
      ]
    },
    {
      "cell_type": "code",
      "metadata": {
        "id": "y3H1owzb1WWm",
        "colab_type": "code",
        "colab": {
          "base_uri": "https://localhost:8080/",
          "height": 35
        },
        "outputId": "c82e1e81-f756-4b6a-cc94-6d780a20ec58"
      },
      "source": [
        "max([max(sequence) for sequence in test_data])"
      ],
      "execution_count": 8,
      "outputs": [
        {
          "output_type": "execute_result",
          "data": {
            "text/plain": [
              "9999"
            ]
          },
          "metadata": {
            "tags": []
          },
          "execution_count": 8
        }
      ]
    },
    {
      "cell_type": "markdown",
      "metadata": {
        "id": "eajG3TKg1vvV",
        "colab_type": "text"
      },
      "source": [
        "# we need to convert our integer into integer tensors"
      ]
    },
    {
      "cell_type": "code",
      "metadata": {
        "id": "_rauS9Gw1eFx",
        "colab_type": "code",
        "colab": {}
      },
      "source": [
        "def vector_sequence(sequences, dimension =10000):\n",
        "  results =np.zeros((len(sequences), dimension))\n",
        "  for i, sequence in enumerate(sequences):\n",
        "    results[i, sequence] =1.\n",
        "  return results\n",
        "x_test =vector_sequence(test_data)\n",
        "x_train =vector_sequence(train_data)\n"
      ],
      "execution_count": 0,
      "outputs": []
    },
    {
      "cell_type": "code",
      "metadata": {
        "id": "XAvaXIXt9Kov",
        "colab_type": "code",
        "colab": {}
      },
      "source": [
        "#y_train =np.asarray(train_labels).astype('float32')\n",
        "y_train = np.asarray(train_labels).astype('float32')\n",
        "y_test =np.asarray(test_labels).astype('float32')"
      ],
      "execution_count": 0,
      "outputs": []
    },
    {
      "cell_type": "code",
      "metadata": {
        "id": "N3jkP-A__Kx5",
        "colab_type": "code",
        "colab": {
          "base_uri": "https://localhost:8080/",
          "height": 35
        },
        "outputId": "f160d095-8af0-485a-c266-92f6633cf3d8"
      },
      "source": [
        "y_train[0]"
      ],
      "execution_count": 36,
      "outputs": [
        {
          "output_type": "execute_result",
          "data": {
            "text/plain": [
              "1.0"
            ]
          },
          "metadata": {
            "tags": []
          },
          "execution_count": 36
        }
      ]
    },
    {
      "cell_type": "code",
      "metadata": {
        "id": "aieXsbFC_vzx",
        "colab_type": "code",
        "colab": {
          "base_uri": "https://localhost:8080/",
          "height": 35
        },
        "outputId": "20654ad4-657d-4b88-edff-3b38914efada"
      },
      "source": [
        "x_train[1]"
      ],
      "execution_count": 40,
      "outputs": [
        {
          "output_type": "execute_result",
          "data": {
            "text/plain": [
              "array([0., 1., 1., ..., 0., 0., 0.])"
            ]
          },
          "metadata": {
            "tags": []
          },
          "execution_count": 40
        }
      ]
    },
    {
      "cell_type": "markdown",
      "metadata": {
        "id": "qhLHzlZPAL_v",
        "colab_type": "text"
      },
      "source": [
        "# we need to build our model here"
      ]
    },
    {
      "cell_type": "code",
      "metadata": {
        "id": "nEBPI_ijAQGp",
        "colab_type": "code",
        "colab": {}
      },
      "source": [
        "model_1 =models.Sequential()\n",
        "model_1.add(layers.Dense(32, activation='relu', input_shape=(10000,)))\n",
        "model_1.add(layers.Dense(32, activation='relu'))\n",
        "model_1.add(layers.Dense(32, activation='relu'))\n",
        "model_1.add(layers.Dense(1, activation='softmax'))"
      ],
      "execution_count": 0,
      "outputs": []
    },
    {
      "cell_type": "markdown",
      "metadata": {
        "id": "O_m7XolDCGpY",
        "colab_type": "text"
      },
      "source": [
        "# compile our network"
      ]
    },
    {
      "cell_type": "code",
      "metadata": {
        "id": "FBvYT8sYCNE0",
        "colab_type": "code",
        "colab": {}
      },
      "source": [
        "model_1.compile(optimizer ='rmsprop', loss='binary_crossentropy', metrics =['accuracy'])"
      ],
      "execution_count": 0,
      "outputs": []
    },
    {
      "cell_type": "code",
      "metadata": {
        "id": "ptuIJ-6eD1X6",
        "colab_type": "code",
        "colab": {}
      },
      "source": [
        "x_val =x_train[:10000]\n",
        "y_val =y_train[:10000]\n",
        "part_x_train =x_train[10000:]\n",
        "part_y_train =y_train[10000:]\n",
        "\n"
      ],
      "execution_count": 0,
      "outputs": []
    },
    {
      "cell_type": "code",
      "metadata": {
        "id": "B6-SodhWFpVc",
        "colab_type": "code",
        "colab": {}
      },
      "source": [
        "model_1.compile(optimizer ='rmsprop', loss='binary_crossentropy', metrics =['accuracy'])"
      ],
      "execution_count": 0,
      "outputs": []
    },
    {
      "cell_type": "code",
      "metadata": {
        "id": "3i-pus51F8Vi",
        "colab_type": "code",
        "colab": {
          "base_uri": "https://localhost:8080/",
          "height": 748
        },
        "outputId": "b9b9e3be-5ec2-48c5-fe36-c8a85de1505a"
      },
      "source": [
        "network_1 =model_1.fit(part_x_train, part_y_train, batch_size=512, epochs=20, validation_data =(x_val, y_val))"
      ],
      "execution_count": 50,
      "outputs": [
        {
          "output_type": "stream",
          "text": [
            "Train on 15000 samples, validate on 10000 samples\n",
            "Epoch 1/20\n",
            "15000/15000 [==============================] - 2s 137us/step - loss: 7.7208 - accuracy: 0.4965 - val_loss: 7.5438 - val_accuracy: 0.5053\n",
            "Epoch 2/20\n",
            "15000/15000 [==============================] - 2s 137us/step - loss: 7.7208 - accuracy: 0.4965 - val_loss: 7.5438 - val_accuracy: 0.5053\n",
            "Epoch 3/20\n",
            "15000/15000 [==============================] - 2s 135us/step - loss: 7.7208 - accuracy: 0.4965 - val_loss: 7.5438 - val_accuracy: 0.5053\n",
            "Epoch 4/20\n",
            "15000/15000 [==============================] - 2s 136us/step - loss: 7.7208 - accuracy: 0.4965 - val_loss: 7.5438 - val_accuracy: 0.5053\n",
            "Epoch 5/20\n",
            "15000/15000 [==============================] - 2s 135us/step - loss: 7.7208 - accuracy: 0.4965 - val_loss: 7.5438 - val_accuracy: 0.5053\n",
            "Epoch 6/20\n",
            "15000/15000 [==============================] - 2s 136us/step - loss: 7.7208 - accuracy: 0.4965 - val_loss: 7.5438 - val_accuracy: 0.5053\n",
            "Epoch 7/20\n",
            "15000/15000 [==============================] - 2s 136us/step - loss: 7.7208 - accuracy: 0.4965 - val_loss: 7.5438 - val_accuracy: 0.5053\n",
            "Epoch 8/20\n",
            "15000/15000 [==============================] - 2s 135us/step - loss: 7.7208 - accuracy: 0.4965 - val_loss: 7.5438 - val_accuracy: 0.5053\n",
            "Epoch 9/20\n",
            "15000/15000 [==============================] - 2s 135us/step - loss: 7.7208 - accuracy: 0.4965 - val_loss: 7.5438 - val_accuracy: 0.5053\n",
            "Epoch 10/20\n",
            "15000/15000 [==============================] - 2s 134us/step - loss: 7.7208 - accuracy: 0.4965 - val_loss: 7.5438 - val_accuracy: 0.5053\n",
            "Epoch 11/20\n",
            "15000/15000 [==============================] - 2s 133us/step - loss: 7.7208 - accuracy: 0.4965 - val_loss: 7.5438 - val_accuracy: 0.5053\n",
            "Epoch 12/20\n",
            "15000/15000 [==============================] - 2s 134us/step - loss: 7.7208 - accuracy: 0.4965 - val_loss: 7.5438 - val_accuracy: 0.5053\n",
            "Epoch 13/20\n",
            "15000/15000 [==============================] - 2s 134us/step - loss: 7.7208 - accuracy: 0.4965 - val_loss: 7.5438 - val_accuracy: 0.5053\n",
            "Epoch 14/20\n",
            "15000/15000 [==============================] - 2s 133us/step - loss: 7.7208 - accuracy: 0.4965 - val_loss: 7.5438 - val_accuracy: 0.5053\n",
            "Epoch 15/20\n",
            "15000/15000 [==============================] - 2s 134us/step - loss: 7.7208 - accuracy: 0.4965 - val_loss: 7.5438 - val_accuracy: 0.5053\n",
            "Epoch 16/20\n",
            "15000/15000 [==============================] - 2s 132us/step - loss: 7.7208 - accuracy: 0.4965 - val_loss: 7.5438 - val_accuracy: 0.5053\n",
            "Epoch 17/20\n",
            "15000/15000 [==============================] - 2s 132us/step - loss: 7.7208 - accuracy: 0.4965 - val_loss: 7.5438 - val_accuracy: 0.5053\n",
            "Epoch 18/20\n",
            "15000/15000 [==============================] - 2s 133us/step - loss: 7.7208 - accuracy: 0.4965 - val_loss: 7.5438 - val_accuracy: 0.5053\n",
            "Epoch 19/20\n",
            "15000/15000 [==============================] - 2s 132us/step - loss: 7.7208 - accuracy: 0.4965 - val_loss: 7.5438 - val_accuracy: 0.5053\n",
            "Epoch 20/20\n",
            "15000/15000 [==============================] - 2s 132us/step - loss: 7.7208 - accuracy: 0.4965 - val_loss: 7.5438 - val_accuracy: 0.5053\n"
          ],
          "name": "stdout"
        }
      ]
    },
    {
      "cell_type": "code",
      "metadata": {
        "id": "z8Ok1E79Gcgq",
        "colab_type": "code",
        "colab": {}
      },
      "source": [
        "history_dic=network_1.history"
      ],
      "execution_count": 0,
      "outputs": []
    },
    {
      "cell_type": "code",
      "metadata": {
        "id": "LyTnONZhHWfS",
        "colab_type": "code",
        "colab": {
          "base_uri": "https://localhost:8080/",
          "height": 35
        },
        "outputId": "b732ae79-de35-4ec0-b70c-b6b53d9f08ed"
      },
      "source": [
        "history_dic.keys()"
      ],
      "execution_count": 53,
      "outputs": [
        {
          "output_type": "execute_result",
          "data": {
            "text/plain": [
              "dict_keys(['val_loss', 'val_accuracy', 'loss', 'accuracy'])"
            ]
          },
          "metadata": {
            "tags": []
          },
          "execution_count": 53
        }
      ]
    },
    {
      "cell_type": "code",
      "metadata": {
        "id": "mTVW5M6jHbCt",
        "colab_type": "code",
        "colab": {}
      },
      "source": [
        "loss =history_dic['val_loss']\n",
        "val_loss_values =history_dic['val_loss']"
      ],
      "execution_count": 0,
      "outputs": []
    },
    {
      "cell_type": "code",
      "metadata": {
        "id": "e6HA34-TIBSV",
        "colab_type": "code",
        "colab": {
          "base_uri": "https://localhost:8080/",
          "height": 297
        },
        "outputId": "2c0204e8-26ac-4905-d51c-ba96b9dd809f"
      },
      "source": [
        "plt.plot(loss,'bo', label ='Training Loss')\n",
        "plt.plot(val_loss_values, 'b', label='Validation Loss')\n",
        "plt.xlabel('Validation Loss')\n",
        "plt.ylabel(\"'Training Loss, 'Epochs'\")\n",
        "plt.legend()"
      ],
      "execution_count": 63,
      "outputs": [
        {
          "output_type": "execute_result",
          "data": {
            "text/plain": [
              "<matplotlib.legend.Legend at 0x7f9fe90456d8>"
            ]
          },
          "metadata": {
            "tags": []
          },
          "execution_count": 63
        },
        {
          "output_type": "display_data",
          "data": {
            "image/png": "[encoded data removed]",
            "text/plain": [
              "<Figure size 432x288 with 1 Axes>"
            ]
          },
          "metadata": {
            "tags": [],
            "needs_background": "light"
          }
        }
      ]
    },
    {
      "cell_type": "code",
      "metadata": {
        "id": "HCyt9X9TIXpG",
        "colab_type": "code",
        "colab": {}
      },
      "source": [
        "model_2=models.Sequential()\n",
        "model_2.add(layers.Dense(16, activation='relu', input_shape=(10000,)))\n",
        "model_2.add(layers.Dense(16, activation='relu'))\n",
        "model_2.add(layers.Dense(1, activation='sigmoid'))"
      ],
      "execution_count": 0,
      "outputs": []
    },
    {
      "cell_type": "code",
      "metadata": {
        "id": "rVLlcf5eKcqx",
        "colab_type": "code",
        "colab": {}
      },
      "source": [
        "model_2.compile(optimizer='rmsprop',loss='binary_crossentropy', metrics=['accuracy'])"
      ],
      "execution_count": 0,
      "outputs": []
    },
    {
      "cell_type": "code",
      "metadata": {
        "id": "HHkHxCVNK6iL",
        "colab_type": "code",
        "colab": {
          "base_uri": "https://localhost:8080/",
          "height": 1000
        },
        "outputId": "cddc9454-d68e-4cc1-a94a-dea954ac3d28"
      },
      "source": [
        "network_2 =model_2.fit(part_x_train, part_y_train, epochs =50, batch_size=512, validation_data=(x_val, y_val))"
      ],
      "execution_count": 68,
      "outputs": [
        {
          "output_type": "stream",
          "text": [
            "Train on 15000 samples, validate on 10000 samples\n",
            "Epoch 1/50\n",
            "15000/15000 [==============================] - 3s 184us/step - loss: 0.1313 - accuracy: 0.9581 - val_loss: 0.2819 - val_accuracy: 0.8875\n",
            "Epoch 2/50\n",
            "15000/15000 [==============================] - 3s 176us/step - loss: 0.1066 - accuracy: 0.9688 - val_loss: 0.3019 - val_accuracy: 0.8842\n",
            "Epoch 3/50\n",
            "15000/15000 [==============================] - 3s 176us/step - loss: 0.0923 - accuracy: 0.9735 - val_loss: 0.3238 - val_accuracy: 0.8799\n",
            "Epoch 4/50\n",
            "15000/15000 [==============================] - 3s 181us/step - loss: 0.0726 - accuracy: 0.9820 - val_loss: 0.3293 - val_accuracy: 0.8830\n",
            "Epoch 5/50\n",
            "15000/15000 [==============================] - 3s 177us/step - loss: 0.0621 - accuracy: 0.9839 - val_loss: 0.3499 - val_accuracy: 0.8814\n",
            "Epoch 6/50\n",
            "15000/15000 [==============================] - 3s 176us/step - loss: 0.0483 - accuracy: 0.9893 - val_loss: 0.3795 - val_accuracy: 0.8759\n",
            "Epoch 7/50\n",
            "15000/15000 [==============================] - 3s 174us/step - loss: 0.0407 - accuracy: 0.9915 - val_loss: 0.3985 - val_accuracy: 0.8786\n",
            "Epoch 8/50\n",
            "15000/15000 [==============================] - 3s 174us/step - loss: 0.0307 - accuracy: 0.9945 - val_loss: 0.4294 - val_accuracy: 0.8755\n",
            "Epoch 9/50\n",
            "15000/15000 [==============================] - 3s 176us/step - loss: 0.0232 - accuracy: 0.9957 - val_loss: 0.4900 - val_accuracy: 0.8659\n",
            "Epoch 10/50\n",
            "15000/15000 [==============================] - 3s 175us/step - loss: 0.0178 - accuracy: 0.9977 - val_loss: 0.5044 - val_accuracy: 0.8679\n",
            "Epoch 11/50\n",
            "15000/15000 [==============================] - 3s 176us/step - loss: 0.0142 - accuracy: 0.9987 - val_loss: 0.5259 - val_accuracy: 0.8722\n",
            "Epoch 12/50\n",
            "15000/15000 [==============================] - 3s 174us/step - loss: 0.0114 - accuracy: 0.9985 - val_loss: 0.5542 - val_accuracy: 0.8693\n",
            "Epoch 13/50\n",
            "15000/15000 [==============================] - 3s 173us/step - loss: 0.0078 - accuracy: 0.9995 - val_loss: 0.5859 - val_accuracy: 0.8675\n",
            "Epoch 14/50\n",
            "15000/15000 [==============================] - 3s 175us/step - loss: 0.0052 - accuracy: 0.9998 - val_loss: 0.6215 - val_accuracy: 0.8670\n",
            "Epoch 15/50\n",
            "15000/15000 [==============================] - 3s 175us/step - loss: 0.0058 - accuracy: 0.9992 - val_loss: 0.6573 - val_accuracy: 0.8661\n",
            "Epoch 16/50\n",
            "15000/15000 [==============================] - 3s 173us/step - loss: 0.0025 - accuracy: 0.9999 - val_loss: 0.7094 - val_accuracy: 0.8673\n",
            "Epoch 17/50\n",
            "15000/15000 [==============================] - 3s 171us/step - loss: 0.0025 - accuracy: 0.9999 - val_loss: 0.7706 - val_accuracy: 0.8614\n",
            "Epoch 18/50\n",
            "15000/15000 [==============================] - 3s 177us/step - loss: 0.0015 - accuracy: 0.9999 - val_loss: 0.7622 - val_accuracy: 0.8659\n",
            "Epoch 19/50\n",
            "15000/15000 [==============================] - 3s 173us/step - loss: 0.0022 - accuracy: 0.9998 - val_loss: 0.7992 - val_accuracy: 0.8649\n",
            "Epoch 20/50\n",
            "15000/15000 [==============================] - 3s 172us/step - loss: 6.3452e-04 - accuracy: 1.0000 - val_loss: 0.8254 - val_accuracy: 0.8658\n",
            "Epoch 21/50\n",
            "15000/15000 [==============================] - 3s 170us/step - loss: 0.0015 - accuracy: 0.9998 - val_loss: 0.8536 - val_accuracy: 0.8644\n",
            "Epoch 22/50\n",
            "15000/15000 [==============================] - 3s 169us/step - loss: 3.6012e-04 - accuracy: 1.0000 - val_loss: 0.8867 - val_accuracy: 0.8633\n",
            "Epoch 23/50\n",
            "15000/15000 [==============================] - 2s 165us/step - loss: 2.7669e-04 - accuracy: 1.0000 - val_loss: 0.9306 - val_accuracy: 0.8622\n",
            "Epoch 24/50\n",
            "15000/15000 [==============================] - 3s 168us/step - loss: 0.0020 - accuracy: 0.9993 - val_loss: 0.9808 - val_accuracy: 0.8613\n",
            "Epoch 25/50\n",
            "15000/15000 [==============================] - 3s 168us/step - loss: 1.3548e-04 - accuracy: 1.0000 - val_loss: 0.9878 - val_accuracy: 0.8614\n",
            "Epoch 26/50\n",
            "15000/15000 [==============================] - 3s 168us/step - loss: 1.1057e-04 - accuracy: 1.0000 - val_loss: 1.0104 - val_accuracy: 0.8609\n",
            "Epoch 27/50\n",
            "15000/15000 [==============================] - 3s 167us/step - loss: 8.7234e-05 - accuracy: 1.0000 - val_loss: 1.0527 - val_accuracy: 0.8611\n",
            "Epoch 28/50\n",
            "15000/15000 [==============================] - 3s 168us/step - loss: 6.0749e-04 - accuracy: 0.9998 - val_loss: 1.0819 - val_accuracy: 0.8615\n",
            "Epoch 29/50\n",
            "15000/15000 [==============================] - 3s 168us/step - loss: 4.7472e-05 - accuracy: 1.0000 - val_loss: 1.1044 - val_accuracy: 0.8608\n",
            "Epoch 30/50\n",
            "15000/15000 [==============================] - 3s 169us/step - loss: 3.8926e-05 - accuracy: 1.0000 - val_loss: 1.1314 - val_accuracy: 0.8618\n",
            "Epoch 31/50\n",
            "15000/15000 [==============================] - 3s 170us/step - loss: 2.9279e-05 - accuracy: 1.0000 - val_loss: 1.2000 - val_accuracy: 0.8578\n",
            "Epoch 32/50\n",
            "15000/15000 [==============================] - 3s 168us/step - loss: 5.0942e-04 - accuracy: 0.9997 - val_loss: 1.1864 - val_accuracy: 0.8615\n",
            "Epoch 33/50\n",
            "15000/15000 [==============================] - 2s 164us/step - loss: 1.8439e-05 - accuracy: 1.0000 - val_loss: 1.2040 - val_accuracy: 0.8615\n",
            "Epoch 34/50\n",
            "15000/15000 [==============================] - 2s 165us/step - loss: 1.5347e-05 - accuracy: 1.0000 - val_loss: 1.2328 - val_accuracy: 0.8614\n",
            "Epoch 35/50\n",
            "15000/15000 [==============================] - 2s 166us/step - loss: 4.4683e-04 - accuracy: 0.9999 - val_loss: 1.3503 - val_accuracy: 0.8563\n",
            "Epoch 36/50\n",
            "15000/15000 [==============================] - 2s 162us/step - loss: 1.2327e-05 - accuracy: 1.0000 - val_loss: 1.2910 - val_accuracy: 0.8607\n",
            "Epoch 37/50\n",
            "15000/15000 [==============================] - 2s 164us/step - loss: 8.6848e-06 - accuracy: 1.0000 - val_loss: 1.3003 - val_accuracy: 0.8605\n",
            "Epoch 38/50\n",
            "15000/15000 [==============================] - 2s 163us/step - loss: 6.8818e-06 - accuracy: 1.0000 - val_loss: 1.3225 - val_accuracy: 0.8620\n",
            "Epoch 39/50\n",
            "15000/15000 [==============================] - 3s 167us/step - loss: 5.4703e-06 - accuracy: 1.0000 - val_loss: 1.3430 - val_accuracy: 0.8617\n",
            "Epoch 40/50\n",
            "15000/15000 [==============================] - 3s 167us/step - loss: 3.8465e-06 - accuracy: 1.0000 - val_loss: 1.4077 - val_accuracy: 0.8589\n",
            "Epoch 41/50\n",
            "15000/15000 [==============================] - 2s 165us/step - loss: 2.2638e-04 - accuracy: 0.9999 - val_loss: 1.5993 - val_accuracy: 0.8522\n",
            "Epoch 42/50\n",
            "15000/15000 [==============================] - 2s 164us/step - loss: 3.1859e-05 - accuracy: 1.0000 - val_loss: 1.4493 - val_accuracy: 0.8604\n",
            "Epoch 43/50\n",
            "15000/15000 [==============================] - 2s 164us/step - loss: 1.7626e-06 - accuracy: 1.0000 - val_loss: 1.4595 - val_accuracy: 0.8613\n",
            "Epoch 44/50\n",
            "15000/15000 [==============================] - 2s 163us/step - loss: 1.4757e-06 - accuracy: 1.0000 - val_loss: 1.4687 - val_accuracy: 0.8612\n",
            "Epoch 45/50\n",
            "15000/15000 [==============================] - 2s 164us/step - loss: 1.2693e-06 - accuracy: 1.0000 - val_loss: 1.4785 - val_accuracy: 0.8614\n",
            "Epoch 46/50\n",
            "15000/15000 [==============================] - 2s 164us/step - loss: 1.0758e-06 - accuracy: 1.0000 - val_loss: 1.5052 - val_accuracy: 0.8618\n",
            "Epoch 47/50\n",
            "15000/15000 [==============================] - 2s 164us/step - loss: 7.8772e-07 - accuracy: 1.0000 - val_loss: 1.5450 - val_accuracy: 0.8617\n",
            "Epoch 48/50\n",
            "15000/15000 [==============================] - 2s 166us/step - loss: 3.0981e-04 - accuracy: 0.9999 - val_loss: 1.5514 - val_accuracy: 0.8605\n",
            "Epoch 49/50\n",
            "15000/15000 [==============================] - 2s 163us/step - loss: 5.8497e-07 - accuracy: 1.0000 - val_loss: 1.5526 - val_accuracy: 0.8602\n",
            "Epoch 50/50\n",
            "15000/15000 [==============================] - 2s 162us/step - loss: 5.3007e-07 - accuracy: 1.0000 - val_loss: 1.5614 - val_accuracy: 0.8600\n"
          ],
          "name": "stdout"
        }
      ]
    },
    {
      "cell_type": "code",
      "metadata": {
        "id": "df7U3m9PLSLG",
        "colab_type": "code",
        "colab": {
          "base_uri": "https://localhost:8080/",
          "height": 35
        },
        "outputId": "b71d510d-4b2e-468e-805c-fc0c19127c35"
      },
      "source": [
        "network_2_dict =network_2.history\n",
        "network_2_dict.keys()"
      ],
      "execution_count": 71,
      "outputs": [
        {
          "output_type": "execute_result",
          "data": {
            "text/plain": [
              "dict_keys(['val_loss', 'val_accuracy', 'loss', 'accuracy'])"
            ]
          },
          "metadata": {
            "tags": []
          },
          "execution_count": 71
        }
      ]
    },
    {
      "cell_type": "code",
      "metadata": {
        "id": "iKO1DwhmMcLy",
        "colab_type": "code",
        "colab": {}
      },
      "source": [
        "loss_Values =network_2_dict['loss']\n",
        "val_loss_Values =network_2_dict['val_loss']\n"
      ],
      "execution_count": 0,
      "outputs": []
    },
    {
      "cell_type": "code",
      "metadata": {
        "id": "D38FpLZ1Wppx",
        "colab_type": "code",
        "colab": {
          "base_uri": "https://localhost:8080/",
          "height": 297
        },
        "outputId": "9642a00f-6e33-4cd5-ae3b-334cecccd68a"
      },
      "source": [
        "plt.plot(loss_Values, 'bo', label ='Training Loss')\n",
        "plt.plot(val_loss_Values, 'b', label='Validation Loss')\n",
        "plt.xlabel('Validation Loss')\n",
        "plt.ylabel('Training Loss')\n",
        "plt.legend()"
      ],
      "execution_count": 76,
      "outputs": [
        {
          "output_type": "execute_result",
          "data": {
            "text/plain": [
              "<matplotlib.legend.Legend at 0x7f9fe8cf9668>"
            ]
          },
          "metadata": {
            "tags": []
          },
          "execution_count": 76
        },
        {
          "output_type": "display_data",
          "data": {
            "image/png": "[encoded data removed]",
            "text/plain": [
              "<Figure size 432x288 with 1 Axes>"
            ]
          },
          "metadata": {
            "tags": [],
            "needs_background": "light"
          }
        }
      ]
    },
    {
      "cell_type": "code",
      "metadata": {
        "id": "azTw54epW4XR",
        "colab_type": "code",
        "colab": {}
      },
      "source": [
        "val_acc =network_2_dict['val_accuracy']\n",
        "training_acc =network_2_dict['accuracy']\n"
      ],
      "execution_count": 0,
      "outputs": []
    },
    {
      "cell_type": "code",
      "metadata": {
        "id": "jmjtljzKmm-O",
        "colab_type": "code",
        "colab": {
          "base_uri": "https://localhost:8080/",
          "height": 297
        },
        "outputId": "fdcd86a5-af88-4210-a76e-806d0b33651d"
      },
      "source": [
        "plt.plot(training_acc, 'bo', label='Training Accuracy')\n",
        "plt.plot(val_acc, 'c', label='Validation Accuracy')\n",
        "plt.legend()\n",
        "plt.xlabel('Validation Accuracy')\n",
        "plt.ylabel('Training Accuracy')\n"
      ],
      "execution_count": 90,
      "outputs": [
        {
          "output_type": "execute_result",
          "data": {
            "text/plain": [
              "Text(0, 0.5, 'Training Accuracy')"
            ]
          },
          "metadata": {
            "tags": []
          },
          "execution_count": 90
        },
        {
          "output_type": "display_data",
          "data": {
            "image/png": "[encoded data removed]",
            "text/plain": [
              "<Figure size 432x288 with 1 Axes>"
            ]
          },
          "metadata": {
            "tags": [],
            "needs_background": "light"
          }
        }
      ]
    },
    {
      "cell_type": "code",
      "metadata": {
        "id": "KrSVi9_jnES_",
        "colab_type": "code",
        "colab": {
          "base_uri": "https://localhost:8080/",
          "height": 35
        },
        "outputId": "730f7f21-8087-4cd7-e45a-44fcd28aa909"
      },
      "source": [
        "#y_predict =predict.network_2(x_test)\n",
        "my_evaluate_1 =model_1.evaluate(part_x_train, part_y_train)"
      ],
      "execution_count": 102,
      "outputs": [
        {
          "output_type": "stream",
          "text": [
            "15000/15000 [==============================] - 1s 68us/step\n"
          ],
          "name": "stdout"
        }
      ]
    },
    {
      "cell_type": "code",
      "metadata": {
        "id": "hC3js5p0n_MM",
        "colab_type": "code",
        "colab": {
          "base_uri": "https://localhost:8080/",
          "height": 35
        },
        "outputId": "7e379275-756d-4c64-f182-af5ef400dd60"
      },
      "source": [
        "my_evaluate_1"
      ],
      "execution_count": 103,
      "outputs": [
        {
          "output_type": "execute_result",
          "data": {
            "text/plain": [
              "[7.678499983978272, 0.49646666646003723]"
            ]
          },
          "metadata": {
            "tags": []
          },
          "execution_count": 103
        }
      ]
    },
    {
      "cell_type": "code",
      "metadata": {
        "id": "0pQ3S6xso_se",
        "colab_type": "code",
        "colab": {
          "base_uri": "https://localhost:8080/",
          "height": 35
        },
        "outputId": "811ac1a2-2286-4c1c-e00d-f882396909c4"
      },
      "source": [
        "my_evaluate_2 =model_2.evaluate(part_x_train, part_y_train)"
      ],
      "execution_count": 104,
      "outputs": [
        {
          "output_type": "stream",
          "text": [
            "15000/15000 [==============================] - 1s 73us/step\n"
          ],
          "name": "stdout"
        }
      ]
    },
    {
      "cell_type": "code",
      "metadata": {
        "id": "yukVwwXSpU6a",
        "colab_type": "code",
        "colab": {
          "base_uri": "https://localhost:8080/",
          "height": 35
        },
        "outputId": "1ab2efcc-0ae0-4a09-c227-fed01ffffbaa"
      },
      "source": [
        "my_evaluate_2"
      ],
      "execution_count": 105,
      "outputs": [
        {
          "output_type": "execute_result",
          "data": {
            "text/plain": [
              "[4.836471820188611e-07, 1.0]"
            ]
          },
          "metadata": {
            "tags": []
          },
          "execution_count": 105
        }
      ]
    },
    {
      "cell_type": "code",
      "metadata": {
        "id": "iF5bQGSkpXVX",
        "colab_type": "code",
        "colab": {}
      },
      "source": [
        "y_pred_1 =model_1.predict(x_test)"
      ],
      "execution_count": 0,
      "outputs": []
    },
    {
      "cell_type": "code",
      "metadata": {
        "id": "MWhZDIH8pl4b",
        "colab_type": "code",
        "colab": {
          "base_uri": "https://localhost:8080/",
          "height": 139
        },
        "outputId": "d0ad2d02-c341-4368-c3bc-41e515ef8efe"
      },
      "source": [
        "y_pred_1"
      ],
      "execution_count": 111,
      "outputs": [
        {
          "output_type": "execute_result",
          "data": {
            "text/plain": [
              "array([[1.],\n",
              "       [1.],\n",
              "       [1.],\n",
              "       ...,\n",
              "       [1.],\n",
              "       [1.],\n",
              "       [1.]], dtype=float32)"
            ]
          },
          "metadata": {
            "tags": []
          },
          "execution_count": 111
        }
      ]
    },
    {
      "cell_type": "code",
      "metadata": {
        "id": "D0rzlCPNpvBZ",
        "colab_type": "code",
        "colab": {}
      },
      "source": [
        "y_predi_2 =model_2.predict(x_test)"
      ],
      "execution_count": 0,
      "outputs": []
    },
    {
      "cell_type": "code",
      "metadata": {
        "id": "zJBEHjbpp3-P",
        "colab_type": "code",
        "colab": {
          "base_uri": "https://localhost:8080/",
          "height": 139
        },
        "outputId": "94245ad5-309a-4dd4-88d1-c63caeeac65f"
      },
      "source": [
        "y_predi_2"
      ],
      "execution_count": 113,
      "outputs": [
        {
          "output_type": "execute_result",
          "data": {
            "text/plain": [
              "array([[2.3523070e-07],\n",
              "       [1.0000000e+00],\n",
              "       [9.9999452e-01],\n",
              "       ...,\n",
              "       [9.0933094e-07],\n",
              "       [2.7337670e-04],\n",
              "       [9.8804832e-01]], dtype=float32)"
            ]
          },
          "metadata": {
            "tags": []
          },
          "execution_count": 113
        }
      ]
    },
    {
      "cell_type": "code",
      "metadata": {
        "id": "Bw6OIm9Hp7WR",
        "colab_type": "code",
        "colab": {}
      },
      "source": [
        ""
      ],
      "execution_count": 0,
      "outputs": []
    }
  ]
}