{
  "nbformat": 4,
  "nbformat_minor": 0,
  "metadata": {
    "colab": {
      "name": "Reuters.ipynb",
      "provenance": [],
      "collapsed_sections": [],
      "toc_visible": true
    },
    "kernelspec": {
      "name": "python3",
      "display_name": "Python 3"
    }
  },
  "cells": [
    {
      "cell_type": "code",
      "metadata": {
        "id": "anRrvyepEdMX",
        "colab_type": "code",
        "colab": {
          "base_uri": "https://localhost:8080/",
          "height": 35
        },
        "outputId": "57baa916-e15e-4f0d-abb1-0ca3b0aa6e01"
      },
      "source": [
        "from keras.datasets import reuters\n",
        "import numpy as np"
      ],
      "execution_count": 1,
      "outputs": [
        {
          "output_type": "stream",
          "text": [
            "Using TensorFlow backend.\n"
          ],
          "name": "stderr"
        }
      ]
    },
    {
      "cell_type": "code",
      "metadata": {
        "id": "wSN73lJNEpSK",
        "colab_type": "code",
        "colab": {}
      },
      "source": [
        "(train_data, train_labels),(test_labels, test_data) =reuters.load_data(num_words =10000)"
      ],
      "execution_count": 0,
      "outputs": []
    },
    {
      "cell_type": "code",
      "metadata": {
        "id": "ygUHJHaXE8qY",
        "colab_type": "code",
        "colab": {
          "base_uri": "https://localhost:8080/",
          "height": 35
        },
        "outputId": "3dc6e0fc-4185-4e56-e4b6-c0a875cc91ba"
      },
      "source": [
        "len(train_data)"
      ],
      "execution_count": 3,
      "outputs": [
        {
          "output_type": "execute_result",
          "data": {
            "text/plain": [
              "8982"
            ]
          },
          "metadata": {
            "tags": []
          },
          "execution_count": 3
        }
      ]
    },
    {
      "cell_type": "code",
      "metadata": {
        "id": "1fsoDl4GFGdF",
        "colab_type": "code",
        "colab": {
          "base_uri": "https://localhost:8080/",
          "height": 35
        },
        "outputId": "e2634da7-48cc-420b-bdef-44c722e4002e"
      },
      "source": [
        "test_data.shape"
      ],
      "execution_count": 4,
      "outputs": [
        {
          "output_type": "execute_result",
          "data": {
            "text/plain": [
              "(2246,)"
            ]
          },
          "metadata": {
            "tags": []
          },
          "execution_count": 4
        }
      ]
    },
    {
      "cell_type": "code",
      "metadata": {
        "id": "_pl4-JuoFKAN",
        "colab_type": "code",
        "colab": {
          "base_uri": "https://localhost:8080/",
          "height": 35
        },
        "outputId": "9d03d503-4f01-4596-cb50-799d89c53b22"
      },
      "source": [
        "print(train_data[10])"
      ],
      "execution_count": 5,
      "outputs": [
        {
          "output_type": "stream",
          "text": [
            "[1, 245, 273, 207, 156, 53, 74, 160, 26, 14, 46, 296, 26, 39, 74, 2979, 3554, 14, 46, 4689, 4329, 86, 61, 3499, 4795, 14, 61, 451, 4329, 17, 12]\n"
          ],
          "name": "stdout"
        }
      ]
    },
    {
      "cell_type": "markdown",
      "metadata": {
        "id": "M82mJu3RGjPn",
        "colab_type": "text"
      },
      "source": [
        "# we decode the integer lists back into words"
      ]
    },
    {
      "cell_type": "code",
      "metadata": {
        "id": "h-LFyyDAFN7b",
        "colab_type": "code",
        "colab": {}
      },
      "source": [
        "my_word_index =reuters.get_word_index()\n",
        "reversed_word = dict([(value, key) for value, key in my_word_index.items()])\n",
        "decoded_word =','.join([reversed_word.get(i -3, '?') for i in train_data[0]])"
      ],
      "execution_count": 0,
      "outputs": []
    },
    {
      "cell_type": "code",
      "metadata": {
        "id": "hwo9ot66Fsod",
        "colab_type": "code",
        "colab": {
          "base_uri": "https://localhost:8080/",
          "height": 55
        },
        "outputId": "abd1e1c4-327a-475c-c689-fc37b7553dd0"
      },
      "source": [
        "print(train_data[0])"
      ],
      "execution_count": 7,
      "outputs": [
        {
          "output_type": "stream",
          "text": [
            "[1, 2, 2, 8, 43, 10, 447, 5, 25, 207, 270, 5, 3095, 111, 16, 369, 186, 90, 67, 7, 89, 5, 19, 102, 6, 19, 124, 15, 90, 67, 84, 22, 482, 26, 7, 48, 4, 49, 8, 864, 39, 209, 154, 6, 151, 6, 83, 11, 15, 22, 155, 11, 15, 7, 48, 9, 4579, 1005, 504, 6, 258, 6, 272, 11, 15, 22, 134, 44, 11, 15, 16, 8, 197, 1245, 90, 67, 52, 29, 209, 30, 32, 132, 6, 109, 15, 17, 12]\n"
          ],
          "name": "stdout"
        }
      ]
    },
    {
      "cell_type": "markdown",
      "metadata": {
        "id": "xoQ_jBaZI4ns",
        "colab_type": "text"
      },
      "source": [
        "# We vectorised the data to be able to use tensor integers"
      ]
    },
    {
      "cell_type": "code",
      "metadata": {
        "id": "_we1p7MUJCYt",
        "colab_type": "code",
        "colab": {}
      },
      "source": [
        "def vector_tensor(sequences, dimension =10000):\n",
        "  result =np.zeros((len(sequences), dimension))\n",
        "  for i, sequence in enumerate(sequences):\n",
        "    result[1, -3] =1.\n",
        "  return result\n",
        "\n",
        "x_train =vector_tensor(train_data)\n",
        "x_test =vector_tensor(test_data)"
      ],
      "execution_count": 0,
      "outputs": []
    },
    {
      "cell_type": "code",
      "metadata": {
        "id": "GhgbVDlSJUdS",
        "colab_type": "code",
        "colab": {}
      },
      "source": [
        "def one_hot_encode(labels, dimension =46):\n",
        "  results =np.zeros((len(labels), dimension))\n",
        "  for i, label in enumerate(labels):\n",
        "    results[1, -3] =1.\n",
        "  return results\n",
        "\n",
        "y_train =one_hot_encode(train_labels)\n",
        "y_test =one_hot_encode(test_labels)"
      ],
      "execution_count": 0,
      "outputs": []
    },
    {
      "cell_type": "code",
      "metadata": {
        "id": "mB6iym7kKLzb",
        "colab_type": "code",
        "colab": {
          "base_uri": "https://localhost:8080/",
          "height": 139
        },
        "outputId": "a428223c-e7f1-4673-b4e2-25d68879ce2a"
      },
      "source": [
        "y_train"
      ],
      "execution_count": 10,
      "outputs": [
        {
          "output_type": "execute_result",
          "data": {
            "text/plain": [
              "array([[0., 0., 0., ..., 0., 0., 0.],\n",
              "       [0., 0., 0., ..., 1., 0., 0.],\n",
              "       [0., 0., 0., ..., 0., 0., 0.],\n",
              "       ...,\n",
              "       [0., 0., 0., ..., 0., 0., 0.],\n",
              "       [0., 0., 0., ..., 0., 0., 0.],\n",
              "       [0., 0., 0., ..., 0., 0., 0.]])"
            ]
          },
          "metadata": {
            "tags": []
          },
          "execution_count": 10
        }
      ]
    },
    {
      "cell_type": "code",
      "metadata": {
        "id": "VSImiIf_L1Cd",
        "colab_type": "code",
        "colab": {
          "base_uri": "https://localhost:8080/",
          "height": 52
        },
        "outputId": "20c7c6ad-e7bb-498d-b2b3-fcbd78776431"
      },
      "source": [
        "print(y_test[1])"
      ],
      "execution_count": 11,
      "outputs": [
        {
          "output_type": "stream",
          "text": [
            "[0. 0. 0. 0. 0. 0. 0. 0. 0. 0. 0. 0. 0. 0. 0. 0. 0. 0. 0. 0. 0. 0. 0. 0.\n",
            " 0. 0. 0. 0. 0. 0. 0. 0. 0. 0. 0. 0. 0. 0. 0. 0. 0. 0. 0. 1. 0. 0.]\n"
          ],
          "name": "stdout"
        }
      ]
    },
    {
      "cell_type": "code",
      "metadata": {
        "id": "ObjggbWFL4a0",
        "colab_type": "code",
        "colab": {
          "base_uri": "https://localhost:8080/",
          "height": 52
        },
        "outputId": "78072292-b17d-4c9e-85a4-bb25ea0513e7"
      },
      "source": [
        "print(y_train[0])"
      ],
      "execution_count": 12,
      "outputs": [
        {
          "output_type": "stream",
          "text": [
            "[0. 0. 0. 0. 0. 0. 0. 0. 0. 0. 0. 0. 0. 0. 0. 0. 0. 0. 0. 0. 0. 0. 0. 0.\n",
            " 0. 0. 0. 0. 0. 0. 0. 0. 0. 0. 0. 0. 0. 0. 0. 0. 0. 0. 0. 0. 0. 0.]\n"
          ],
          "name": "stdout"
        }
      ]
    },
    {
      "cell_type": "code",
      "metadata": {
        "id": "KPJfRaRNMVus",
        "colab_type": "code",
        "colab": {
          "base_uri": "https://localhost:8080/",
          "height": 35
        },
        "outputId": "e63768ac-c208-41ef-859b-1abdb8800f58"
      },
      "source": [
        "print(type(y_test))"
      ],
      "execution_count": 13,
      "outputs": [
        {
          "output_type": "stream",
          "text": [
            "<class 'numpy.ndarray'>\n"
          ],
          "name": "stdout"
        }
      ]
    },
    {
      "cell_type": "code",
      "metadata": {
        "id": "OG2DOmOKRfg4",
        "colab_type": "code",
        "colab": {
          "base_uri": "https://localhost:8080/",
          "height": 35
        },
        "outputId": "e7f3b069-d4ce-44f6-9f7b-5a5e0b5edf33"
      },
      "source": [
        "print(y_train.shape)"
      ],
      "execution_count": 14,
      "outputs": [
        {
          "output_type": "stream",
          "text": [
            "(8982, 46)\n"
          ],
          "name": "stdout"
        }
      ]
    },
    {
      "cell_type": "code",
      "metadata": {
        "id": "8tV5m6g-O9Zw",
        "colab_type": "code",
        "colab": {}
      },
      "source": [
        ""
      ],
      "execution_count": 0,
      "outputs": []
    },
    {
      "cell_type": "code",
      "metadata": {
        "id": "_dTVEW7dO_jI",
        "colab_type": "code",
        "colab": {}
      },
      "source": [
        ""
      ],
      "execution_count": 0,
      "outputs": []
    },
    {
      "cell_type": "code",
      "metadata": {
        "id": "UWnRFkmpMbye",
        "colab_type": "code",
        "colab": {}
      },
      "source": [
        "from keras import layers\n",
        "from keras import models"
      ],
      "execution_count": 0,
      "outputs": []
    },
    {
      "cell_type": "code",
      "metadata": {
        "id": "q8_MU8bNN8zY",
        "colab_type": "code",
        "colab": {}
      },
      "source": [
        "model_1 =models.Sequential()\n",
        "model_1.add(layers.Dense(64, activation='relu', input_shape=(10000,)))\n",
        "model_1.add(layers.Dense(64, activation='relu'))\n",
        "#model_1.add(layers.Dense(64, activation='relu'))\n",
        "model_1.add(layers.Dense(46, activation='sigmoid'))"
      ],
      "execution_count": 0,
      "outputs": []
    },
    {
      "cell_type": "code",
      "metadata": {
        "id": "zx6K7CajOOHI",
        "colab_type": "code",
        "colab": {}
      },
      "source": [
        "model_1.compile(optimizer='rmsprop', loss='categorical_crossentropy', metrics=['accuracy'])"
      ],
      "execution_count": 0,
      "outputs": []
    },
    {
      "cell_type": "code",
      "metadata": {
        "id": "xoMueFTrUeZc",
        "colab_type": "code",
        "colab": {}
      },
      "source": [
        "part_x_train =x_train[1000:]\n",
        "part_y_train =y_train[1000:]\n",
        "x_val =x_train[:1000]\n",
        "y_val =y_train[:1000]"
      ],
      "execution_count": 0,
      "outputs": []
    },
    {
      "cell_type": "code",
      "metadata": {
        "id": "qrg5J0vOOxZS",
        "colab_type": "code",
        "colab": {
          "base_uri": "https://localhost:8080/",
          "height": 1000
        },
        "outputId": "c61ced0a-9f37-4704-971c-89cbc6edceb0"
      },
      "source": [
        "network_1 =model_1.fit(part_x_train, part_y_train, batch_size=512, epochs =50, validation_data=(x_val, y_val))"
      ],
      "execution_count": 24,
      "outputs": [
        {
          "output_type": "stream",
          "text": [
            "Train on 7982 samples, validate on 1000 samples\n",
            "Epoch 1/50\n",
            "7982/7982 [==============================] - 1s 116us/step - loss: 0.0000e+00 - accuracy: 1.0000 - val_loss: 0.0038 - val_accuracy: 0.9990\n",
            "Epoch 2/50\n",
            "7982/7982 [==============================] - 1s 114us/step - loss: 0.0000e+00 - accuracy: 1.0000 - val_loss: 0.0038 - val_accuracy: 0.9990\n",
            "Epoch 3/50\n",
            "7982/7982 [==============================] - 1s 114us/step - loss: 0.0000e+00 - accuracy: 1.0000 - val_loss: 0.0038 - val_accuracy: 0.9990\n",
            "Epoch 4/50\n",
            "7982/7982 [==============================] - 1s 113us/step - loss: 0.0000e+00 - accuracy: 1.0000 - val_loss: 0.0038 - val_accuracy: 0.9990\n",
            "Epoch 5/50\n",
            "7982/7982 [==============================] - 1s 115us/step - loss: 0.0000e+00 - accuracy: 1.0000 - val_loss: 0.0038 - val_accuracy: 0.9990\n",
            "Epoch 6/50\n",
            "7982/7982 [==============================] - 1s 112us/step - loss: 0.0000e+00 - accuracy: 1.0000 - val_loss: 0.0038 - val_accuracy: 0.9990\n",
            "Epoch 7/50\n",
            "7982/7982 [==============================] - 1s 114us/step - loss: 0.0000e+00 - accuracy: 1.0000 - val_loss: 0.0038 - val_accuracy: 0.9990\n",
            "Epoch 8/50\n",
            "7982/7982 [==============================] - 1s 117us/step - loss: 0.0000e+00 - accuracy: 1.0000 - val_loss: 0.0038 - val_accuracy: 0.9990\n",
            "Epoch 9/50\n",
            "7982/7982 [==============================] - 1s 115us/step - loss: 0.0000e+00 - accuracy: 1.0000 - val_loss: 0.0038 - val_accuracy: 0.9990\n",
            "Epoch 10/50\n",
            "7982/7982 [==============================] - 1s 115us/step - loss: 0.0000e+00 - accuracy: 1.0000 - val_loss: 0.0038 - val_accuracy: 0.9990\n",
            "Epoch 11/50\n",
            "7982/7982 [==============================] - 1s 115us/step - loss: 0.0000e+00 - accuracy: 1.0000 - val_loss: 0.0038 - val_accuracy: 0.9990\n",
            "Epoch 12/50\n",
            "7982/7982 [==============================] - 1s 114us/step - loss: 0.0000e+00 - accuracy: 1.0000 - val_loss: 0.0038 - val_accuracy: 0.9990\n",
            "Epoch 13/50\n",
            "7982/7982 [==============================] - 1s 116us/step - loss: 0.0000e+00 - accuracy: 1.0000 - val_loss: 0.0038 - val_accuracy: 0.9990\n",
            "Epoch 14/50\n",
            "7982/7982 [==============================] - 1s 112us/step - loss: 0.0000e+00 - accuracy: 1.0000 - val_loss: 0.0038 - val_accuracy: 0.9990\n",
            "Epoch 15/50\n",
            "7982/7982 [==============================] - 1s 114us/step - loss: 0.0000e+00 - accuracy: 1.0000 - val_loss: 0.0038 - val_accuracy: 0.9990\n",
            "Epoch 16/50\n",
            "7982/7982 [==============================] - 1s 114us/step - loss: 0.0000e+00 - accuracy: 1.0000 - val_loss: 0.0038 - val_accuracy: 0.9990\n",
            "Epoch 17/50\n",
            "7982/7982 [==============================] - 1s 115us/step - loss: 0.0000e+00 - accuracy: 1.0000 - val_loss: 0.0038 - val_accuracy: 0.9990\n",
            "Epoch 18/50\n",
            "7982/7982 [==============================] - 1s 115us/step - loss: 0.0000e+00 - accuracy: 1.0000 - val_loss: 0.0038 - val_accuracy: 0.9990\n",
            "Epoch 19/50\n",
            "7982/7982 [==============================] - 1s 114us/step - loss: 0.0000e+00 - accuracy: 1.0000 - val_loss: 0.0038 - val_accuracy: 0.9990\n",
            "Epoch 20/50\n",
            "7982/7982 [==============================] - 1s 116us/step - loss: 0.0000e+00 - accuracy: 1.0000 - val_loss: 0.0038 - val_accuracy: 0.9990\n",
            "Epoch 21/50\n",
            "7982/7982 [==============================] - 1s 113us/step - loss: 0.0000e+00 - accuracy: 1.0000 - val_loss: 0.0038 - val_accuracy: 0.9990\n",
            "Epoch 22/50\n",
            "7982/7982 [==============================] - 1s 116us/step - loss: 0.0000e+00 - accuracy: 1.0000 - val_loss: 0.0038 - val_accuracy: 0.9990\n",
            "Epoch 23/50\n",
            "7982/7982 [==============================] - 1s 114us/step - loss: 0.0000e+00 - accuracy: 1.0000 - val_loss: 0.0038 - val_accuracy: 0.9990\n",
            "Epoch 24/50\n",
            "7982/7982 [==============================] - 1s 117us/step - loss: 0.0000e+00 - accuracy: 1.0000 - val_loss: 0.0038 - val_accuracy: 0.9990\n",
            "Epoch 25/50\n",
            "7982/7982 [==============================] - 1s 116us/step - loss: 0.0000e+00 - accuracy: 1.0000 - val_loss: 0.0038 - val_accuracy: 0.9990\n",
            "Epoch 26/50\n",
            "7982/7982 [==============================] - 1s 113us/step - loss: 0.0000e+00 - accuracy: 1.0000 - val_loss: 0.0038 - val_accuracy: 0.9990\n",
            "Epoch 27/50\n",
            "7982/7982 [==============================] - 1s 125us/step - loss: 0.0000e+00 - accuracy: 1.0000 - val_loss: 0.0038 - val_accuracy: 0.9990\n",
            "Epoch 28/50\n",
            "7982/7982 [==============================] - 1s 115us/step - loss: 0.0000e+00 - accuracy: 1.0000 - val_loss: 0.0038 - val_accuracy: 0.9990\n",
            "Epoch 29/50\n",
            "7982/7982 [==============================] - 1s 112us/step - loss: 0.0000e+00 - accuracy: 1.0000 - val_loss: 0.0038 - val_accuracy: 0.9990\n",
            "Epoch 30/50\n",
            "7982/7982 [==============================] - 1s 115us/step - loss: 0.0000e+00 - accuracy: 1.0000 - val_loss: 0.0038 - val_accuracy: 0.9990\n",
            "Epoch 31/50\n",
            "7982/7982 [==============================] - 1s 117us/step - loss: 0.0000e+00 - accuracy: 1.0000 - val_loss: 0.0038 - val_accuracy: 0.9990\n",
            "Epoch 32/50\n",
            "7982/7982 [==============================] - 1s 117us/step - loss: 0.0000e+00 - accuracy: 1.0000 - val_loss: 0.0038 - val_accuracy: 0.9990\n",
            "Epoch 33/50\n",
            "7982/7982 [==============================] - 1s 117us/step - loss: 0.0000e+00 - accuracy: 1.0000 - val_loss: 0.0038 - val_accuracy: 0.9990\n",
            "Epoch 34/50\n",
            "7982/7982 [==============================] - 1s 116us/step - loss: 0.0000e+00 - accuracy: 1.0000 - val_loss: 0.0038 - val_accuracy: 0.9990\n",
            "Epoch 35/50\n",
            "7982/7982 [==============================] - 1s 115us/step - loss: 0.0000e+00 - accuracy: 1.0000 - val_loss: 0.0038 - val_accuracy: 0.9990\n",
            "Epoch 36/50\n",
            "7982/7982 [==============================] - 1s 117us/step - loss: 0.0000e+00 - accuracy: 1.0000 - val_loss: 0.0038 - val_accuracy: 0.9990\n",
            "Epoch 37/50\n",
            "7982/7982 [==============================] - 1s 116us/step - loss: 0.0000e+00 - accuracy: 1.0000 - val_loss: 0.0038 - val_accuracy: 0.9990\n",
            "Epoch 38/50\n",
            "7982/7982 [==============================] - 1s 114us/step - loss: 0.0000e+00 - accuracy: 1.0000 - val_loss: 0.0038 - val_accuracy: 0.9990\n",
            "Epoch 39/50\n",
            "7982/7982 [==============================] - 1s 116us/step - loss: 0.0000e+00 - accuracy: 1.0000 - val_loss: 0.0038 - val_accuracy: 0.9990\n",
            "Epoch 40/50\n",
            "7982/7982 [==============================] - 1s 116us/step - loss: 0.0000e+00 - accuracy: 1.0000 - val_loss: 0.0038 - val_accuracy: 0.9990\n",
            "Epoch 41/50\n",
            "7982/7982 [==============================] - 1s 115us/step - loss: 0.0000e+00 - accuracy: 1.0000 - val_loss: 0.0038 - val_accuracy: 0.9990\n",
            "Epoch 42/50\n",
            "7982/7982 [==============================] - 1s 117us/step - loss: 0.0000e+00 - accuracy: 1.0000 - val_loss: 0.0038 - val_accuracy: 0.9990\n",
            "Epoch 43/50\n",
            "7982/7982 [==============================] - 1s 115us/step - loss: 0.0000e+00 - accuracy: 1.0000 - val_loss: 0.0038 - val_accuracy: 0.9990\n",
            "Epoch 44/50\n",
            "7982/7982 [==============================] - 1s 117us/step - loss: 0.0000e+00 - accuracy: 1.0000 - val_loss: 0.0038 - val_accuracy: 0.9990\n",
            "Epoch 45/50\n",
            "7982/7982 [==============================] - 1s 116us/step - loss: 0.0000e+00 - accuracy: 1.0000 - val_loss: 0.0038 - val_accuracy: 0.9990\n",
            "Epoch 46/50\n",
            "7982/7982 [==============================] - 1s 116us/step - loss: 0.0000e+00 - accuracy: 1.0000 - val_loss: 0.0038 - val_accuracy: 0.9990\n",
            "Epoch 47/50\n",
            "7982/7982 [==============================] - 1s 115us/step - loss: 0.0000e+00 - accuracy: 1.0000 - val_loss: 0.0038 - val_accuracy: 0.9990\n",
            "Epoch 48/50\n",
            "7982/7982 [==============================] - 1s 116us/step - loss: 0.0000e+00 - accuracy: 1.0000 - val_loss: 0.0038 - val_accuracy: 0.9990\n",
            "Epoch 49/50\n",
            "7982/7982 [==============================] - 1s 115us/step - loss: 0.0000e+00 - accuracy: 1.0000 - val_loss: 0.0038 - val_accuracy: 0.9990\n",
            "Epoch 50/50\n",
            "7982/7982 [==============================] - 1s 114us/step - loss: 0.0000e+00 - accuracy: 1.0000 - val_loss: 0.0038 - val_accuracy: 0.9990\n"
          ],
          "name": "stdout"
        }
      ]
    },
    {
      "cell_type": "code",
      "metadata": {
        "id": "aD8zdSqDPlZT",
        "colab_type": "code",
        "colab": {
          "base_uri": "https://localhost:8080/",
          "height": 35
        },
        "outputId": "e396eaf3-b35a-4ed5-ef9b-970aba37bae0"
      },
      "source": [
        "network_1_dict =network_1.history\n",
        "network_1_dict.keys()"
      ],
      "execution_count": 26,
      "outputs": [
        {
          "output_type": "execute_result",
          "data": {
            "text/plain": [
              "dict_keys(['val_loss', 'val_accuracy', 'loss', 'accuracy'])"
            ]
          },
          "metadata": {
            "tags": []
          },
          "execution_count": 26
        }
      ]
    },
    {
      "cell_type": "code",
      "metadata": {
        "id": "J-eUUkbiWr1m",
        "colab_type": "code",
        "colab": {
          "base_uri": "https://localhost:8080/",
          "height": 35
        },
        "outputId": "f9cbebdb-bd7d-44b4-dd79-cf0569a07de5"
      },
      "source": [
        "my_evaluate =model_1.evaluate(x_test, y_test)"
      ],
      "execution_count": 31,
      "outputs": [
        {
          "output_type": "stream",
          "text": [
            "2246/2246 [==============================] - 0s 97us/step\n"
          ],
          "name": "stdout"
        }
      ]
    },
    {
      "cell_type": "code",
      "metadata": {
        "id": "VpIhApSjW32m",
        "colab_type": "code",
        "colab": {
          "base_uri": "https://localhost:8080/",
          "height": 35
        },
        "outputId": "f9c84095-10f5-4a21-9ded-c3afbac3ab23"
      },
      "source": [
        "my_evaluate"
      ],
      "execution_count": 32,
      "outputs": [
        {
          "output_type": "execute_result",
          "data": {
            "text/plain": [
              "[0.0017036980852312205, 0.9995547533035278]"
            ]
          },
          "metadata": {
            "tags": []
          },
          "execution_count": 32
        }
      ]
    },
    {
      "cell_type": "code",
      "metadata": {
        "id": "7VMuhr8RX4hR",
        "colab_type": "code",
        "colab": {}
      },
      "source": [
        "y_predict =model_1.predict(x_test)"
      ],
      "execution_count": 0,
      "outputs": []
    },
    {
      "cell_type": "code",
      "metadata": {
        "id": "xDvamm3AYBct",
        "colab_type": "code",
        "colab": {
          "base_uri": "https://localhost:8080/",
          "height": 243
        },
        "outputId": "7458c729-a2d7-4c48-fd6c-eb56f4c73356"
      },
      "source": [
        "y_predict"
      ],
      "execution_count": 35,
      "outputs": [
        {
          "output_type": "execute_result",
          "data": {
            "text/plain": [
              "array([[0.5       , 0.5       , 0.5       , ..., 0.5       , 0.5       ,\n",
              "        0.5       ],\n",
              "       [0.49888018, 0.50000525, 0.49921033, ..., 0.50104666, 0.49856815,\n",
              "        0.49940825],\n",
              "       [0.5       , 0.5       , 0.5       , ..., 0.5       , 0.5       ,\n",
              "        0.5       ],\n",
              "       ...,\n",
              "       [0.5       , 0.5       , 0.5       , ..., 0.5       , 0.5       ,\n",
              "        0.5       ],\n",
              "       [0.5       , 0.5       , 0.5       , ..., 0.5       , 0.5       ,\n",
              "        0.5       ],\n",
              "       [0.5       , 0.5       , 0.5       , ..., 0.5       , 0.5       ,\n",
              "        0.5       ]], dtype=float32)"
            ]
          },
          "metadata": {
            "tags": []
          },
          "execution_count": 35
        }
      ]
    },
    {
      "cell_type": "code",
      "metadata": {
        "id": "Y3OYhm2PYHRC",
        "colab_type": "code",
        "colab": {}
      },
      "source": [
        ""
      ],
      "execution_count": 0,
      "outputs": []
    }
  ]
}